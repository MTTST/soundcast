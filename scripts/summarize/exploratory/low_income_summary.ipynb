{
 "cells": [
  {
   "cell_type": "code",
   "execution_count": 165,
   "metadata": {
    "collapsed": false
   },
   "outputs": [],
   "source": [
    "import numpy as np\n",
    "import pandas as pd\n",
    "import xlsxwriter\n",
    "import time\n",
    "import h5toDF\n",
    "import xlautofit\n",
    "import math\n",
    "from summary_functions import *"
   ]
  },
  {
   "cell_type": "code",
   "execution_count": 166,
   "metadata": {
    "collapsed": false
   },
   "outputs": [],
   "source": [
    "#################################### WHERE ARE YOU RUNNING? ####################################\n",
    "model_dir = 'Z:/Stefan/Soundcast_feb_twg/'\n",
    "\n",
    "\n",
    "### OTHER PATHS. FOR A TYPICAL RUN, YOU DON'T HAVE TO CHANGE THESE ######################################\n",
    "h5_results_file = 'outputs/daysim_outputs.h5'\n",
    "h5_results_name = 'DaysimOutputs'\n",
    "h5_comparison_file = 'scripts/summarize/survey.h5'\n",
    "h5_comparison_name = 'Survey'\n",
    "guidefile = 'scripts/summarize/inputs/calibration/CatVarDict.xlsx'\n",
    "districtfile = 'scripts/summarize/inputs/calibration/TAZ_TAD_County.csv'\n",
    "report_output_location = 'outputs'\n",
    "\n",
    "parcel_decay_file = 'inputs/buffered_parcels.dat'\n",
    "\n",
    "\n",
    "\n",
    "h5_results_file = model_dir + h5_results_file\n",
    "h5_comparison_file =  model_dir + h5_comparison_file\n",
    "guidefile = model_dir + guidefile\n",
    "districtfile = model_dir + districtfile\n",
    "report_output_location = 'outputs'\n"
   ]
  },
  {
   "cell_type": "code",
   "execution_count": 167,
   "metadata": {
    "collapsed": false
   },
   "outputs": [
    {
     "name": "stdout",
     "output_type": "stream",
     "text": [
      "---Begin DaysimOutputs conversion---\n",
      "Guide import complete\n",
      "Guide converted to dictionary in 0.0 seconds\n",
      "Household File import/recode complete in 1.9 seconds\n",
      "HouseholdDay File import/recode complete in 0.7 seconds\n",
      "Person File import/recode complete in 9.9 seconds\n",
      "PersonDay File import/recode complete in 4.2 seconds\n",
      "Tour File import/recode complete in 9.6 seconds\n",
      "Trip File import/recode complete in 22.2 seconds\n",
      "---DaysimOutputs import/recode complete in 48.5 seconds---\n"
     ]
    }
   ],
   "source": [
    "#READ IN YOUR DATA\n",
    "data1 = h5toDF.convert(h5_results_file,guidefile,h5_results_name)\n",
    "zone_district = pd.DataFrame.from_csv(districtfile, index_col = None)"
   ]
  },
  {
   "cell_type": "code",
   "execution_count": 168,
   "metadata": {
    "collapsed": false
   },
   "outputs": [],
   "source": [
    "trip_variables = ['otaz', 'dtaz', 'travtime', 'travcost', 'travdist', 'pno', 'mode', 'tour_id', 'opcl', 'dpcl', 'dorp']\n",
    "hh_variables = ['hhno', 'hhincome', 'hhvehs', 'hhtaz']\n",
    "person_variables = ['hhno', 'pno', 'pagey', 'pgend', 'id']"
   ]
  },
  {
   "cell_type": "code",
   "execution_count": 169,
   "metadata": {
    "collapsed": true
   },
   "outputs": [],
   "source": [
    "def get_variables_trips_model(output_df,trip_variables, hh_variables, person_variables):\n",
    "    trip_data = output_df['Trip'][trip_variables]\n",
    "    hh_data = output_df['Household'][hh_variables]\n",
    "    person_data = output_df['Person'][person_variables]\n",
    "    tour_data = output_df['Tour'][['hhno', 'pno', 'id']]\n",
    "    tour_data.rename(columns = {'id': 'tour_id'}, inplace = True)\n",
    "\n",
    "    merge_hh_person = pd.merge(hh_data, person_data, 'inner', on = 'hhno')\n",
    "    merge_hh_person.reset_index()\n",
    "    tour_data.reset_index()\n",
    "    merge_hh_tour = pd.merge(merge_hh_person, tour_data, 'inner', on =('hhno', 'pno'))\n",
    "    merge_trip_hh = pd.merge(merge_hh_tour, trip_data, 'outer', on= 'tour_id')\n",
    "    return merge_trip_hh  "
   ]
  },
  {
   "cell_type": "code",
   "execution_count": 170,
   "metadata": {
    "collapsed": false
   },
   "outputs": [],
   "source": [
    "trips_model = get_variables_trips_model(data1, trip_variables, hh_variables, person_variables)"
   ]
  },
  {
   "cell_type": "code",
   "execution_count": 171,
   "metadata": {
    "collapsed": true
   },
   "outputs": [],
   "source": [
    "low_inc_trips = trips_model.loc[(trips_model['hhincome']<25000)]"
   ]
  },
  {
   "cell_type": "code",
   "execution_count": 172,
   "metadata": {
    "collapsed": true
   },
   "outputs": [],
   "source": [
    "low_inc_length = low_inc_trips['travdist'].mean()"
   ]
  },
  {
   "cell_type": "code",
   "execution_count": 173,
   "metadata": {
    "collapsed": false
   },
   "outputs": [
    {
     "data": {
      "text/plain": [
       "4.524602349104249"
      ]
     },
     "execution_count": 173,
     "metadata": {},
     "output_type": "execute_result"
    }
   ],
   "source": [
    "low_inc_length"
   ]
  },
  {
   "cell_type": "code",
   "execution_count": 174,
   "metadata": {
    "collapsed": false
   },
   "outputs": [],
   "source": [
    "low_inc_driver_trips = low_inc_trips.loc[(low_inc_trips['dorp']=='Driver')]"
   ]
  },
  {
   "cell_type": "code",
   "execution_count": 175,
   "metadata": {
    "collapsed": true
   },
   "outputs": [],
   "source": [
    "low_inc_vmt = low_inc_driver_trips['travdist'].sum()"
   ]
  },
  {
   "cell_type": "code",
   "execution_count": 176,
   "metadata": {
    "collapsed": false
   },
   "outputs": [
    {
     "data": {
      "text/plain": [
       "4625490.466874632"
      ]
     },
     "execution_count": 176,
     "metadata": {},
     "output_type": "execute_result"
    }
   ],
   "source": [
    "low_inc_vmt"
   ]
  },
  {
   "cell_type": "code",
   "execution_count": 177,
   "metadata": {
    "collapsed": false
   },
   "outputs": [],
   "source": [
    "\n",
    "def get_variables_persons(output_df, hh_variables, person_variables):\n",
    "    \n",
    "    person_variables = ['hhno', 'pno', 'pagey', 'pgend', 'pwaudist', 'pwtyp']\n",
    "    hh_variables = ['hhno', 'hhincome', 'hhvehs', 'hhtaz', 'hhexpfac']\n",
    "    hh_data = output_df['Household'][hh_variables]\n",
    "    person_data = output_df['Person'][person_variables]\n",
    "\n",
    "    merge_hh_person = pd.merge(hh_data, person_data, 'inner', on = 'hhno')\n",
    "    merge_hh_person.reset_index()\n",
    "\n",
    "    return merge_hh_person"
   ]
  },
  {
   "cell_type": "code",
   "execution_count": 178,
   "metadata": {
    "collapsed": false
   },
   "outputs": [],
   "source": [
    "people_model = get_variables_persons(data1, hh_variables, person_variables)"
   ]
  },
  {
   "cell_type": "code",
   "execution_count": 179,
   "metadata": {
    "collapsed": false
   },
   "outputs": [],
   "source": [
    "low_inc_people = people_model.loc[(people_model['hhincome']<25000)]"
   ]
  },
  {
   "cell_type": "code",
   "execution_count": 180,
   "metadata": {
    "collapsed": true
   },
   "outputs": [],
   "source": [
    "low_inc_ct = low_inc_people.count()['hhno']"
   ]
  },
  {
   "cell_type": "code",
   "execution_count": 181,
   "metadata": {
    "collapsed": false,
    "scrolled": true
   },
   "outputs": [
    {
     "data": {
      "text/plain": [
       "10.506198492434368"
      ]
     },
     "execution_count": 181,
     "metadata": {},
     "output_type": "execute_result"
    }
   ],
   "source": [
    "low_inc_vmt/low_inc_ct"
   ]
  },
  {
   "cell_type": "code",
   "execution_count": 182,
   "metadata": {
    "collapsed": false
   },
   "outputs": [],
   "source": [
    "low_inc_wrkr = low_inc_people.loc[(low_inc_people['pwtyp']!= 'Not a Paid Worker')]"
   ]
  },
  {
   "cell_type": "code",
   "execution_count": 183,
   "metadata": {
    "collapsed": false
   },
   "outputs": [
    {
     "data": {
      "text/plain": [
       "8.787918742353263"
      ]
     },
     "execution_count": 183,
     "metadata": {},
     "output_type": "execute_result"
    }
   ],
   "source": [
    "low_inc_wrkr['pwaudist'].mean()"
   ]
  },
  {
   "cell_type": "code",
   "execution_count": 184,
   "metadata": {
    "collapsed": false
   },
   "outputs": [],
   "source": [
    "trips_by_mode =low_inc_trips.groupby('mode').count()['hhno']"
   ]
  },
  {
   "cell_type": "code",
   "execution_count": 185,
   "metadata": {
    "collapsed": false
   },
   "outputs": [],
   "source": [
    "l_inc_modes = trips_by_mode/low_inc_trips.count()['hhno']"
   ]
  },
  {
   "cell_type": "code",
   "execution_count": 186,
   "metadata": {
    "collapsed": false
   },
   "outputs": [],
   "source": [
    "l_inc_modes.to_clipboard()"
   ]
  },
  {
   "cell_type": "code",
   "execution_count": null,
   "metadata": {
    "collapsed": true
   },
   "outputs": [],
   "source": []
  }
 ],
 "metadata": {
  "anaconda-cloud": {},
  "kernelspec": {
   "display_name": "Python [default]",
   "language": "python",
   "name": "python2"
  },
  "language_info": {
   "codemirror_mode": {
    "name": "ipython",
    "version": 2
   },
   "file_extension": ".py",
   "mimetype": "text/x-python",
   "name": "python",
   "nbconvert_exporter": "python",
   "pygments_lexer": "ipython2",
   "version": "2.7.12"
  }
 },
 "nbformat": 4,
 "nbformat_minor": 0
}
