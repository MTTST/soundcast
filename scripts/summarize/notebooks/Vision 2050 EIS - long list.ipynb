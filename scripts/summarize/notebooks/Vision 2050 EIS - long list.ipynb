{
 "cells": [
  {
   "cell_type": "code",
   "execution_count": 1,
   "metadata": {},
   "outputs": [],
   "source": [
    "import pandas as pd\n",
    "import os\n",
    "import collections"
   ]
  },
  {
   "cell_type": "code",
   "execution_count": 2,
   "metadata": {},
   "outputs": [],
   "source": [
    "# Relative path between notebooks and goruped output directories\n",
    "relative_path = '../../../outputs'\n",
    "output_vision_file = os.path.join(relative_path, 'Vision2050_longlist.csv')\n",
    "taz_reg_geog = '../../../scripts/summarize/inputs/TAZ_Reg_Geog.csv'"
   ]
  },
  {
   "cell_type": "code",
   "execution_count": 3,
   "metadata": {},
   "outputs": [],
   "source": [
    "# Load network results\n",
    "network_df = pd.read_excel(os.path.join(relative_path,'network/') + r'network_summary_detailed.xlsx',\n",
    "                  sheetname='Network Summary')"
   ]
  },
  {
   "cell_type": "code",
   "execution_count": 4,
   "metadata": {},
   "outputs": [],
   "source": [
    "# System performance measures\n",
    "# VMT\n",
    "network_df['all_facility_vmt'] = network_df['arterial_vmt']+ network_df['connectors_vmt']+ network_df['highway_vmt']\n",
    "total_vmt = network_df['all_facility_vmt'].sum()\n",
    "output_dict = {}\n",
    "output_dict = collections.OrderedDict(output_dict)\n",
    "output_dict[('Daily VMT','Regional', 'Total')] = total_vmt"
   ]
  },
  {
   "cell_type": "code",
   "execution_count": 5,
   "metadata": {},
   "outputs": [],
   "source": [
    "#VHT\n",
    "network_df['all_facility_vht'] = network_df['arterial_vht']+ network_df['connectors_vht']+ network_df['highway_vht']\n",
    "total_vht = network_df['all_facility_vht'].sum()\n",
    "output_dict[('Daily VHT', 'Regional', 'Total')] = total_vht"
   ]
  },
  {
   "cell_type": "code",
   "execution_count": 6,
   "metadata": {},
   "outputs": [],
   "source": [
    "# Delay\n",
    "network_df['all_facility_delay'] = network_df['arterial_delay']+ network_df['connectors_delay']+ network_df['highway_delay']\n",
    "total_delay = network_df['all_facility_delay'].sum()\n",
    "output_dict[('Daily Delay', 'Regional', 'Total')] = total_delay"
   ]
  },
  {
   "cell_type": "code",
   "execution_count": 7,
   "metadata": {},
   "outputs": [],
   "source": [
    "# Total Delay Hours Daily by Facility Type\n",
    "df_fac = pd.DataFrame(network_df.sum()[['arterial_delay','highway_delay']])\n",
    "df_fac = df_fac.reset_index()\n",
    "df_fac.columns = ['Facility Type', 'Delay']\n",
    "#df_fac.index = df_fac['Facility Type']\n",
    "#df_fac.drop('Facility Type', axis=1, inplace=True)\n",
    "df_fac.loc['Total'] = df_fac.sum()\n",
    "output_dict[('Daily Arterial Delay Hours', 'Regional', 'Total')] = df_fac['Delay'].loc[df_fac['Facility Type'] == 'arterial_delay'].values[0]\n",
    "output_dict[('Daily Highway Delay Hours', 'Regional', 'Total')] = df_fac['Delay'].loc[df_fac['Facility Type'] == 'highway_delay'].values[0]"
   ]
  },
  {
   "cell_type": "code",
   "execution_count": 8,
   "metadata": {},
   "outputs": [],
   "source": [
    "# Daily Transit Boardings\n",
    "transit_df = pd.read_excel(r'../../../outputs/network/network_summary_detailed.xlsx', sheetname='Transit Summaries')\n",
    "tod_list = ['5to6','6to7','7to8','8to9','9to10','10to14','14to15','15to16','16to17','17to18','18to20']\n",
    "transit_df = transit_df[[tod+'_board' for tod in tod_list]+['route_code']]\n",
    "transit_df = transit_df.fillna(0)\n",
    "transit_df['line_total'] = transit_df[[tod+'_board' for tod in tod_list]].sum(axis=1)\n",
    "output_dict[('Daily Transit Boardings', 'Regional', 'Total')]=transit_df['line_total'].sum()\n"
   ]
  },
  {
   "cell_type": "code",
   "execution_count": 9,
   "metadata": {},
   "outputs": [],
   "source": [
    "mode_dict = {0: 'Other', 1:'Walk',2:'Bike',3:'SOV',4:'HOV2',5:'HOV3+',6:'Transit',8:'School Bus'}\n",
    "annualization_factor = 300"
   ]
  },
  {
   "cell_type": "code",
   "execution_count": 10,
   "metadata": {},
   "outputs": [
    {
     "name": "stdout",
     "output_type": "stream",
     "text": [
      "(14487591, 28)\n"
     ]
    }
   ],
   "source": [
    "# Load Daysim results and join to geography\n",
    "trip = pd.read_csv(os.path.join(relative_path,r'daysim/') + r'_trip.tsv', sep='\\t')\n",
    "print trip.shape\n",
    "person = pd.read_csv(os.path.join(relative_path,r'daysim/') + r'_person.tsv', sep='\\t')\n",
    "hh = pd.read_csv(os.path.join(relative_path,r'daysim/') + r'_household.tsv', sep='\\t')\n",
    "taz_geog = pd.read_csv(taz_reg_geog)"
   ]
  },
  {
   "cell_type": "code",
   "execution_count": 11,
   "metadata": {},
   "outputs": [],
   "source": [
    "person =pd.merge(person[['hhno','pno', 'psexpfac']],hh[['hhno','hhtaz']], on = 'hhno', suffixes=['','_x'])\n",
    "person = pd.merge(person, taz_geog, left_on = 'hhtaz', right_on = 'taz_p')\n",
    "#del hh\n",
    "\n",
    "trip = pd.merge(trip[['hhno', 'pno', 'opurp', 'dpurp', 'travdist', 'travtime', 'mode', 'dorp', 'dtaz']], person, on = ['hhno', 'pno'], suffixes=['','_x'], how = 'inner' )\n",
    "trip = pd.merge(trip, taz_geog, left_on = 'dtaz', right_on ='taz_p', suffixes = ['', '_tripdest'])"
   ]
  },
  {
   "cell_type": "code",
   "execution_count": 12,
   "metadata": {},
   "outputs": [],
   "source": [
    "# Average HBW/ Non-HBW Trip Distance\n",
    "trip['Trip Type'] = 'Not Home-Based Work'\n",
    "trip.ix[(((trip['opurp']==0) & (trip['dpurp']==1)) | ((trip['opurp']==1) & (trip['dpurp']==0))),'Trip Type']= 'Home-Based Work'\n",
    "hbw_trips = trip.loc[trip['Trip Type']=='Home-Based Work']\n",
    "nhbw_trips = trip.loc[trip['Trip Type']=='Not Home-Based Work']\n",
    "output_dict[('Commute Trip Length', 'Regional', 'Total')]=hbw_trips['travdist'].mean()\n",
    "output_dict[('Other Trip Length', 'Regional', 'Total')]= nhbw_trips['travdist'].mean()"
   ]
  },
  {
   "cell_type": "code",
   "execution_count": 13,
   "metadata": {},
   "outputs": [],
   "source": [
    "# Average Trip Distance by Geography/Commute/Non-Commute\n",
    "hbw_geog=hbw_trips.groupby('rg_proposed').mean()['travdist'].reset_index()\n",
    "for index, row in hbw_geog.iterrows():\n",
    "    output_dict[('Commute Trip Length', row['rg_proposed'], 'Total')] = row['travdist']\n",
    "    \n",
    "nhbw_geog=nhbw_trips.groupby('rg_proposed').mean()['travdist'].reset_index()\n",
    "for index, row in nhbw_geog.iterrows():\n",
    "    output_dict[('Other Trip Length', row['rg_proposed'], 'Total')] = row['travdist']"
   ]
  },
  {
   "cell_type": "code",
   "execution_count": 14,
   "metadata": {},
   "outputs": [],
   "source": [
    "# All Trip Mode Share\n",
    "mode_df = trip.groupby('mode').count()['hhno'].reset_index()\n",
    "mode_df['Mode Share']= mode_df['hhno']/mode_df.sum()['hhno']\n",
    "mode_df.replace({'mode':mode_dict}, inplace=True)\n",
    "\n",
    "for index, row in mode_df.iterrows():\n",
    "    output_dict[('All Trip Mode Share', 'Regional', row['mode'])]=row['Mode Share']\n",
    "\n",
    "mode_df_geog = trip.groupby(['mode', 'rg_proposed_tripdest']).count()['hhno'].reset_index()\n",
    "mode_df_geog['Mode Share'] = mode_df_geog['hhno']/mode_df_geog.sum()['hhno']\n",
    "mode_df_geog.replace({'mode':mode_dict}, inplace=True)\n",
    "\n",
    "\n",
    "for index, row in mode_df_geog.iterrows():\n",
    "    output_dict[('All Trip Mode Share', row['rg_proposed_tripdest'], row['mode'])]=row['Mode Share']\n"
   ]
  },
  {
   "cell_type": "code",
   "execution_count": 15,
   "metadata": {},
   "outputs": [],
   "source": [
    "# Commute Trip Mode Share\n",
    "mode_df = hbw_trips.groupby('mode').count()['hhno'].reset_index()\n",
    "mode_df['Mode Share']= mode_df['hhno']/mode_df.sum()['hhno']\n",
    "mode_df.replace({'mode':mode_dict}, inplace=True)\n",
    "\n",
    "for index, row in mode_df.iterrows():\n",
    "    output_dict[('Commute Trip Mode Share', 'Regional', row['mode'])]=row['Mode Share']\n",
    "\n",
    "mode_df_geog = hbw_trips.groupby(['rg_proposed_tripdest', 'mode']).count()['hhno'].reset_index()\n",
    "mode_df_geog['Mode Share'] = mode_df_geog['hhno']/mode_df_geog.sum()['hhno']\n",
    "mode_df_geog.replace({'mode':mode_dict}, inplace=True)\n",
    "\n",
    "\n",
    "for index, row in mode_df_geog.iterrows():\n",
    "    output_dict[('Commute Trip Mode Share', row['rg_proposed_tripdest'], row['mode'])]=row['Mode Share']"
   ]
  },
  {
   "cell_type": "code",
   "execution_count": 16,
   "metadata": {},
   "outputs": [],
   "source": [
    "# Non-Commute Trip Mode Share\n",
    "mode_df = nhbw_trips.groupby('mode').count()['hhno'].reset_index()\n",
    "mode_df['Mode Share']= mode_df['hhno']/mode_df.sum()['hhno']\n",
    "mode_df.replace({'mode':mode_dict}, inplace=True)\n",
    "\n",
    "for index, row in mode_df.iterrows():\n",
    "    output_dict[('Non-Commute Trip Mode Share', 'Regional', row['mode'])]=row['Mode Share']\n",
    "\n",
    "mode_df_geog =nhbw_trips.groupby(['rg_proposed_tripdest', 'mode']).count()['hhno'].reset_index()\n",
    "mode_df_geog['Mode Share'] = mode_df_geog['hhno']/mode_df_geog.sum()['hhno']\n",
    "mode_df_geog.replace({'mode':mode_dict}, inplace=True)\n",
    "\n",
    "\n",
    "for index, row in mode_df_geog.iterrows():\n",
    "    output_dict[('Non-Commute Trip Mode Share', row['rg_proposed_tripdest'], row['mode'])]=row['Mode Share']"
   ]
  },
  {
   "cell_type": "code",
   "execution_count": 17,
   "metadata": {},
   "outputs": [],
   "source": [
    "# VMT per resident per day\n",
    "driver_trips = trip[['rg_proposed','travdist']].loc[trip['dorp']==1]\n",
    "output_dict[('Average VMT per Resident', 'Regional', 'Total')]=driver_trips['travdist'].sum()/ person['psexpfac'].sum()\n",
    "\n",
    "driver_trips_geog = pd.DataFrame(driver_trips.groupby('rg_proposed').sum()['travdist']/person.groupby('rg_proposed').sum()['psexpfac'])\n",
    "driver_trips_geog.reset_index(inplace=True)\n",
    "driver_trips_geog.columns = ['rg_proposed','vmt']\n",
    "\n",
    "for index, row in driver_trips_geog.iterrows():\n",
    "    output_dict[('Average VMT per Resident',row['rg_proposed'], 'Total')]=row['vmt']"
   ]
  },
  {
   "cell_type": "code",
   "execution_count": 18,
   "metadata": {},
   "outputs": [],
   "source": [
    "# Number and Percent of People Walking, Biking, or Transiting\n",
    "bike_walk_t_trips = trip[trip['mode'].isin([1,2,6])]\n",
    "\n",
    "df = bike_walk_t_trips.groupby(['hhno','pno']).count()\n",
    "df = df.reset_index()\n",
    "df = df[['hhno','pno']]\n",
    "df['bike_walk_t'] = 1\n",
    "\n",
    "df['bike_walk_t'] = df['bike_walk_t'].fillna(0)\n",
    "\n",
    "\n",
    "output_dict[('Share of People Walking, Biking, and Using Transit', 'Regional', 'Total')]=float(df['bike_walk_t'].sum())/person['psexpfac'].sum()\n",
    "output_dict[('Total People Walking, Biking, and Using Transit', 'Regional', 'Total')]=df['bike_walk_t'].sum()"
   ]
  },
  {
   "cell_type": "code",
   "execution_count": 19,
   "metadata": {},
   "outputs": [],
   "source": [
    "df = bike_walk_t_trips.groupby(['hhno','pno', 'rg_proposed']).count()\n",
    "df = df.reset_index()\n",
    "df = df[['hhno','pno','rg_proposed']]\n",
    "df['bike_walk_t'] = 1\n",
    "\n",
    "df['bike_walk_t'] = df['bike_walk_t'].fillna(0)\n",
    "\n",
    "\n",
    "df_geog_share=pd.DataFrame(df.groupby('rg_proposed').sum()['bike_walk_t']/person.groupby('rg_proposed').sum()['psexpfac'])\n",
    "df_geog_total=pd.DataFrame(df.groupby('rg_proposed').sum()['bike_walk_t'])\n",
    "df_geog_share.reset_index(inplace=True)\n",
    "df_geog_total.reset_index(inplace=True)\n",
    "\n",
    "df_geog_share.columns = ['rg_proposed', 'wbt']\n",
    "df_geog_total.columns = ['rg_proposed', 'wbt']\n",
    "\n",
    "for index, row in df_geog_share.iterrows():\n",
    "    output_dict[('Share of Residents Walking, Biking,or Using Transit',row['rg_proposed'], 'Share')]=row['wbt']\n",
    "for index, row in df_geog_total.iterrows():\n",
    "    output_dict[('Total of Residents Walking, Biking,or Using Transit',row['rg_proposed'], 'Total')]=row['wbt']"
   ]
  },
  {
   "cell_type": "code",
   "execution_count": 20,
   "metadata": {},
   "outputs": [],
   "source": [
    "output_df = pd.DataFrame(output_dict.keys(), index = output_dict.values()).reset_index()\n",
    "output_df.columns = ['Value', 'Data Item', 'Geography', 'Grouping']"
   ]
  },
  {
   "cell_type": "code",
   "execution_count": 21,
   "metadata": {},
   "outputs": [],
   "source": [
    "output_df=output_df[output_df['Grouping']!='Other']\n",
    "output_df\n",
    "output_df.to_csv(output_vision_file)"
   ]
  },
  {
   "cell_type": "code",
   "execution_count": null,
   "metadata": {},
   "outputs": [],
   "source": []
  }
 ],
 "metadata": {
  "anaconda-cloud": {},
  "kernelspec": {
   "display_name": "Python 2",
   "language": "python",
   "name": "python2"
  },
  "language_info": {
   "codemirror_mode": {
    "name": "ipython",
    "version": 2
   },
   "file_extension": ".py",
   "mimetype": "text/x-python",
   "name": "python",
   "nbconvert_exporter": "python",
   "pygments_lexer": "ipython2",
   "version": "2.7.14"
  }
 },
 "nbformat": 4,
 "nbformat_minor": 1
}
