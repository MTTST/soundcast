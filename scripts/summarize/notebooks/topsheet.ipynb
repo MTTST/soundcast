{
 "cells": [
  {
   "cell_type": "code",
   "execution_count": 21,
   "metadata": {
    "collapsed": false
   },
   "outputs": [
    {
     "data": {
      "text/html": [
       "<script>\n",
       "code_show=true; \n",
       "function code_toggle() {\n",
       " if (code_show){\n",
       " $('div.input').hide();\n",
       " } else {\n",
       " $('div.input').show();\n",
       " }\n",
       " code_show = !code_show\n",
       "} \n",
       "$( document ).ready(code_toggle);\n",
       "</script>\n",
       "<form action=\"javascript:code_toggle()\"><input type=\"submit\" value=\"Click here to toggle on/off the raw code.\"></form>"
      ],
      "text/plain": [
       "<IPython.core.display.HTML object>"
      ]
     },
     "execution_count": 21,
     "metadata": {},
     "output_type": "execute_result"
    }
   ],
   "source": [
    "import pandas as pd\n",
    "import os\n",
    "\n",
    "%matplotlib inline\n",
    "\n",
    "from IPython.display import display, HTML\n",
    "\n",
    "HTML('''<script>\n",
    "code_show=true; \n",
    "function code_toggle() {\n",
    " if (code_show){\n",
    " $('div.input').hide();\n",
    " } else {\n",
    " $('div.input').show();\n",
    " }\n",
    " code_show = !code_show\n",
    "} \n",
    "$( document ).ready(code_toggle);\n",
    "</script>\n",
    "<form action=\"javascript:code_toggle()\"><input type=\"submit\" value=\"Click here to toggle on/off the raw code.\"></form>''')"
   ]
  },
  {
   "cell_type": "code",
   "execution_count": 22,
   "metadata": {
    "collapsed": false
   },
   "outputs": [
    {
     "data": {
      "text/html": [
       "<style>\n",
       ".output {\n",
       "    flex-direction: row;\n",
       "}\n",
       "</style>"
      ],
      "text/plain": [
       "<IPython.core.display.HTML object>"
      ]
     },
     "execution_count": 22,
     "metadata": {},
     "output_type": "execute_result"
    }
   ],
   "source": [
    "CSS = \"\"\"\n",
    ".output {\n",
    "    flex-direction: row;\n",
    "}\n",
    "\"\"\"\n",
    "\n",
    "HTML('<style>{}</style>'.format(CSS))"
   ]
  },
  {
   "cell_type": "code",
   "execution_count": 23,
   "metadata": {
    "collapsed": true
   },
   "outputs": [],
   "source": [
    "pd.options.display.float_format = '{:0,.0f}'.format"
   ]
  },
  {
   "cell_type": "code",
   "execution_count": 24,
   "metadata": {
    "collapsed": true
   },
   "outputs": [],
   "source": [
    "# Relative path between notebooks and goruped output directories\n",
    "relative_path = '../../../outputs/grouped'"
   ]
  },
  {
   "cell_type": "code",
   "execution_count": 25,
   "metadata": {
    "collapsed": true
   },
   "outputs": [],
   "source": [
    "tod_dict = {\n",
    "    '5to6': 'AM',\n",
    "    '6to7': 'AM',\n",
    "    '7to8': 'AM',\n",
    "    '8to9': 'AM',\n",
    "    '9to10': 'Mid-Day',\n",
    "    '10to14': 'Mid-Day',\n",
    "    '14to15': 'Mid-Day',\n",
    "    '15to16': 'PM',\n",
    "    '16to17': 'PM',\n",
    "    '17to18': 'PM',\n",
    "    '18to20': 'Evening',\n",
    "    '20to5': 'Night'\n",
    "}"
   ]
  },
  {
   "cell_type": "markdown",
   "metadata": {},
   "source": [
    "## Vehicle Miles Traveled (VMT)"
   ]
  },
  {
   "cell_type": "code",
   "execution_count": 26,
   "metadata": {
    "collapsed": false
   },
   "outputs": [
    {
     "data": {
      "text/html": [
       "<div>\n",
       "<table border=\"1\" class=\"dataframe\">\n",
       "  <thead>\n",
       "    <tr style=\"text-align: right;\">\n",
       "      <th></th>\n",
       "      <th>soundcast_2040_tod</th>\n",
       "      <th>soundcast_2040_constrained</th>\n",
       "    </tr>\n",
       "    <tr>\n",
       "      <th>facility_type</th>\n",
       "      <th></th>\n",
       "      <th></th>\n",
       "    </tr>\n",
       "  </thead>\n",
       "  <tbody>\n",
       "    <tr>\n",
       "      <th>arterial</th>\n",
       "      <td>42,140,918</td>\n",
       "      <td>42,634,311</td>\n",
       "    </tr>\n",
       "    <tr>\n",
       "      <th>connectors</th>\n",
       "      <td>6,206,106</td>\n",
       "      <td>6,104,264</td>\n",
       "    </tr>\n",
       "    <tr>\n",
       "      <th>highway</th>\n",
       "      <td>47,911,434</td>\n",
       "      <td>48,679,482</td>\n",
       "    </tr>\n",
       "    <tr>\n",
       "      <th>Total</th>\n",
       "      <td>96,258,458</td>\n",
       "      <td>97,418,056</td>\n",
       "    </tr>\n",
       "  </tbody>\n",
       "</table>\n",
       "</div>"
      ],
      "text/plain": [
       "               soundcast_2040_tod  soundcast_2040_constrained\n",
       "facility_type                                                \n",
       "arterial               42,140,918                  42,634,311\n",
       "connectors              6,206,106                   6,104,264\n",
       "highway                47,911,434                  48,679,482\n",
       "Total                  96,258,458                  97,418,056"
      ]
     },
     "metadata": {},
     "output_type": "display_data"
    },
    {
     "data": {
      "text/html": [
       "<div>\n",
       "<table border=\"1\" class=\"dataframe\">\n",
       "  <thead>\n",
       "    <tr style=\"text-align: right;\">\n",
       "      <th></th>\n",
       "      <th>soundcast_2040_tod</th>\n",
       "      <th>soundcast_2040_constrained</th>\n",
       "    </tr>\n",
       "    <tr>\n",
       "      <th>time_period</th>\n",
       "      <th></th>\n",
       "      <th></th>\n",
       "    </tr>\n",
       "  </thead>\n",
       "  <tbody>\n",
       "    <tr>\n",
       "      <th>AM</th>\n",
       "      <td>22,340,130</td>\n",
       "      <td>22,576,276</td>\n",
       "    </tr>\n",
       "    <tr>\n",
       "      <th>Evening</th>\n",
       "      <td>12,043,521</td>\n",
       "      <td>12,126,350</td>\n",
       "    </tr>\n",
       "    <tr>\n",
       "      <th>Mid-Day</th>\n",
       "      <td>32,407,249</td>\n",
       "      <td>32,966,698</td>\n",
       "    </tr>\n",
       "    <tr>\n",
       "      <th>Night</th>\n",
       "      <td>6,992,915</td>\n",
       "      <td>7,100,011</td>\n",
       "    </tr>\n",
       "    <tr>\n",
       "      <th>PM</th>\n",
       "      <td>22,474,644</td>\n",
       "      <td>22,648,722</td>\n",
       "    </tr>\n",
       "    <tr>\n",
       "      <th>Total</th>\n",
       "      <td>96,258,458</td>\n",
       "      <td>97,418,056</td>\n",
       "    </tr>\n",
       "  </tbody>\n",
       "</table>\n",
       "</div>"
      ],
      "text/plain": [
       "             soundcast_2040_tod  soundcast_2040_constrained\n",
       "time_period                                                \n",
       "AM                   22,340,130                  22,576,276\n",
       "Evening              12,043,521                  12,126,350\n",
       "Mid-Day              32,407,249                  32,966,698\n",
       "Night                 6,992,915                   7,100,011\n",
       "PM                   22,474,644                  22,648,722\n",
       "Total                96,258,458                  97,418,056"
      ]
     },
     "metadata": {},
     "output_type": "display_data"
    }
   ],
   "source": [
    "df = pd.read_csv(os.path.join(relative_path,'net_summary.csv'))\n",
    "df['time_period'] = df['tod'].apply(lambda row: tod_dict[row])\n",
    "\n",
    "# VMT by Facility Type\n",
    "df_dict = {}\n",
    "for source in df.groupby('source').count().index.tolist():\n",
    "    df_dict[source] = df[df['source'] == source]\n",
    "    \n",
    "df_fac = pd.DataFrame(df_dict[i][df_dict[i]['metric']=='vmt'].groupby('facility_type').sum()['value'] for i in df_dict.keys()).T\n",
    "df_fac.columns=[i for i in df_dict.keys()]\n",
    "df_fac.loc['Total'] = df_fac.sum()\n",
    "\n",
    "# VMT by Time of Day        \n",
    "df_tod = pd.DataFrame(df_dict[i][df_dict[i]['metric']=='vmt'].groupby('time_period').sum()['value'] for i in df_dict.keys()).T\n",
    "df_tod.columns=[i for i in df_dict.keys()]\n",
    "df_tod.loc['Total'] = df_tod.sum()\n",
    "display(df_fac)\n",
    "display(df_tod)"
   ]
  },
  {
   "cell_type": "markdown",
   "metadata": {},
   "source": [
    "## Vehicle Hours Traveled (VHT)"
   ]
  },
  {
   "cell_type": "code",
   "execution_count": 27,
   "metadata": {
    "collapsed": false
   },
   "outputs": [
    {
     "data": {
      "text/html": [
       "<div>\n",
       "<table border=\"1\" class=\"dataframe\">\n",
       "  <thead>\n",
       "    <tr style=\"text-align: right;\">\n",
       "      <th></th>\n",
       "      <th>soundcast_2040_tod</th>\n",
       "      <th>soundcast_2040_constrained</th>\n",
       "    </tr>\n",
       "    <tr>\n",
       "      <th>facility_type</th>\n",
       "      <th></th>\n",
       "      <th></th>\n",
       "    </tr>\n",
       "  </thead>\n",
       "  <tbody>\n",
       "    <tr>\n",
       "      <th>arterial</th>\n",
       "      <td>1,488,363</td>\n",
       "      <td>1,500,764</td>\n",
       "    </tr>\n",
       "    <tr>\n",
       "      <th>connectors</th>\n",
       "      <td>393,002</td>\n",
       "      <td>386,212</td>\n",
       "    </tr>\n",
       "    <tr>\n",
       "      <th>highway</th>\n",
       "      <td>1,182,641</td>\n",
       "      <td>1,213,713</td>\n",
       "    </tr>\n",
       "    <tr>\n",
       "      <th>Total</th>\n",
       "      <td>3,064,006</td>\n",
       "      <td>3,100,689</td>\n",
       "    </tr>\n",
       "  </tbody>\n",
       "</table>\n",
       "</div>"
      ],
      "text/plain": [
       "               soundcast_2040_tod  soundcast_2040_constrained\n",
       "facility_type                                                \n",
       "arterial                1,488,363                   1,500,764\n",
       "connectors                393,002                     386,212\n",
       "highway                 1,182,641                   1,213,713\n",
       "Total                   3,064,006                   3,100,689"
      ]
     },
     "metadata": {},
     "output_type": "display_data"
    },
    {
     "data": {
      "text/html": [
       "<div>\n",
       "<table border=\"1\" class=\"dataframe\">\n",
       "  <thead>\n",
       "    <tr style=\"text-align: right;\">\n",
       "      <th></th>\n",
       "      <th>soundcast_2040_tod</th>\n",
       "      <th>soundcast_2040_constrained</th>\n",
       "    </tr>\n",
       "    <tr>\n",
       "      <th>time_period</th>\n",
       "      <th></th>\n",
       "      <th></th>\n",
       "    </tr>\n",
       "  </thead>\n",
       "  <tbody>\n",
       "    <tr>\n",
       "      <th>AM</th>\n",
       "      <td>728,453</td>\n",
       "      <td>738,814</td>\n",
       "    </tr>\n",
       "    <tr>\n",
       "      <th>Evening</th>\n",
       "      <td>400,881</td>\n",
       "      <td>402,142</td>\n",
       "    </tr>\n",
       "    <tr>\n",
       "      <th>Mid-Day</th>\n",
       "      <td>964,089</td>\n",
       "      <td>979,734</td>\n",
       "    </tr>\n",
       "    <tr>\n",
       "      <th>Night</th>\n",
       "      <td>180,483</td>\n",
       "      <td>181,141</td>\n",
       "    </tr>\n",
       "    <tr>\n",
       "      <th>PM</th>\n",
       "      <td>790,099</td>\n",
       "      <td>798,858</td>\n",
       "    </tr>\n",
       "    <tr>\n",
       "      <th>Total</th>\n",
       "      <td>3,064,006</td>\n",
       "      <td>3,100,689</td>\n",
       "    </tr>\n",
       "  </tbody>\n",
       "</table>\n",
       "</div>"
      ],
      "text/plain": [
       "             soundcast_2040_tod  soundcast_2040_constrained\n",
       "time_period                                                \n",
       "AM                      728,453                     738,814\n",
       "Evening                 400,881                     402,142\n",
       "Mid-Day                 964,089                     979,734\n",
       "Night                   180,483                     181,141\n",
       "PM                      790,099                     798,858\n",
       "Total                 3,064,006                   3,100,689"
      ]
     },
     "metadata": {},
     "output_type": "display_data"
    }
   ],
   "source": [
    "df = pd.read_csv(os.path.join(relative_path,'net_summary.csv'))\n",
    "df['time_period'] = df['tod'].apply(lambda row: tod_dict[row])\n",
    "\n",
    "# VMT by Facility Type\n",
    "df_dict = {}\n",
    "for source in df.groupby('source').count().index.tolist():\n",
    "    df_dict[source] = df[df['source'] == source]\n",
    "    \n",
    "df_fac = pd.DataFrame(df_dict[i][df_dict[i]['metric']=='vht'].groupby('facility_type').sum()['value'] for i in df_dict.keys()).T\n",
    "df_fac.columns=[i for i in df_dict.keys()]\n",
    "df_fac.loc['Total'] = df_fac.sum()\n",
    "\n",
    "# VMT by Time of Day        \n",
    "df_tod = pd.DataFrame(df_dict[i][df_dict[i]['metric']=='vht'].groupby('time_period').sum()['value'] for i in df_dict.keys()).T\n",
    "df_tod.columns=[i for i in df_dict.keys()]\n",
    "df_tod.loc['Total'] = df_tod.sum()\n",
    "display(df_fac)\n",
    "display(df_tod)"
   ]
  },
  {
   "cell_type": "markdown",
   "metadata": {},
   "source": [
    "## Delay"
   ]
  },
  {
   "cell_type": "code",
   "execution_count": 28,
   "metadata": {
    "collapsed": false
   },
   "outputs": [
    {
     "data": {
      "text/html": [
       "<div>\n",
       "<table border=\"1\" class=\"dataframe\">\n",
       "  <thead>\n",
       "    <tr style=\"text-align: right;\">\n",
       "      <th></th>\n",
       "      <th>soundcast_2040_tod</th>\n",
       "      <th>soundcast_2040_constrained</th>\n",
       "    </tr>\n",
       "    <tr>\n",
       "      <th>facility_type</th>\n",
       "      <th></th>\n",
       "      <th></th>\n",
       "    </tr>\n",
       "  </thead>\n",
       "  <tbody>\n",
       "    <tr>\n",
       "      <th>arterial</th>\n",
       "      <td>326,183</td>\n",
       "      <td>330,199</td>\n",
       "    </tr>\n",
       "    <tr>\n",
       "      <th>highway</th>\n",
       "      <td>341,016</td>\n",
       "      <td>359,227</td>\n",
       "    </tr>\n",
       "    <tr>\n",
       "      <th>Total</th>\n",
       "      <td>667,199</td>\n",
       "      <td>689,426</td>\n",
       "    </tr>\n",
       "  </tbody>\n",
       "</table>\n",
       "</div>"
      ],
      "text/plain": [
       "               soundcast_2040_tod  soundcast_2040_constrained\n",
       "facility_type                                                \n",
       "arterial                  326,183                     330,199\n",
       "highway                   341,016                     359,227\n",
       "Total                     667,199                     689,426"
      ]
     },
     "metadata": {},
     "output_type": "display_data"
    },
    {
     "data": {
      "text/html": [
       "<div>\n",
       "<table border=\"1\" class=\"dataframe\">\n",
       "  <thead>\n",
       "    <tr style=\"text-align: right;\">\n",
       "      <th></th>\n",
       "      <th>soundcast_2040_tod</th>\n",
       "      <th>soundcast_2040_constrained</th>\n",
       "    </tr>\n",
       "    <tr>\n",
       "      <th>time_period</th>\n",
       "      <th></th>\n",
       "      <th></th>\n",
       "    </tr>\n",
       "  </thead>\n",
       "  <tbody>\n",
       "    <tr>\n",
       "      <th>AM</th>\n",
       "      <td>192,342</td>\n",
       "      <td>198,635</td>\n",
       "    </tr>\n",
       "    <tr>\n",
       "      <th>Evening</th>\n",
       "      <td>83,983</td>\n",
       "      <td>86,132</td>\n",
       "    </tr>\n",
       "    <tr>\n",
       "      <th>Mid-Day</th>\n",
       "      <td>155,426</td>\n",
       "      <td>162,069</td>\n",
       "    </tr>\n",
       "    <tr>\n",
       "      <th>Night</th>\n",
       "      <td>12,627</td>\n",
       "      <td>12,506</td>\n",
       "    </tr>\n",
       "    <tr>\n",
       "      <th>PM</th>\n",
       "      <td>222,821</td>\n",
       "      <td>230,083</td>\n",
       "    </tr>\n",
       "    <tr>\n",
       "      <th>Total</th>\n",
       "      <td>667,199</td>\n",
       "      <td>689,426</td>\n",
       "    </tr>\n",
       "  </tbody>\n",
       "</table>\n",
       "</div>"
      ],
      "text/plain": [
       "             soundcast_2040_tod  soundcast_2040_constrained\n",
       "time_period                                                \n",
       "AM                      192,342                     198,635\n",
       "Evening                  83,983                      86,132\n",
       "Mid-Day                 155,426                     162,069\n",
       "Night                    12,627                      12,506\n",
       "PM                      222,821                     230,083\n",
       "Total                   667,199                     689,426"
      ]
     },
     "metadata": {},
     "output_type": "display_data"
    }
   ],
   "source": [
    "df = pd.read_csv(os.path.join(relative_path,'net_summary.csv'))\n",
    "df['time_period'] = df['tod'].apply(lambda row: tod_dict[row])\n",
    "\n",
    "# VMT by Facility Type\n",
    "df_dict = {}\n",
    "for source in df.groupby('source').count().index.tolist():\n",
    "    df_dict[source] = df[df['source'] == source]\n",
    "    \n",
    "df_fac = pd.DataFrame(df_dict[i][df_dict[i]['metric']=='delay'].groupby('facility_type').sum()['value'] for i in df_dict.keys()).T\n",
    "df_fac.columns=[i for i in df_dict.keys()]\n",
    "df_fac.loc['Total'] = df_fac.sum()\n",
    "df_fac = df_fac.drop('connectors', axis=0)\n",
    "\n",
    "# VMT by Time of Day        \n",
    "df_tod = pd.DataFrame(df_dict[i][df_dict[i]['metric']=='delay'].groupby('time_period').sum()['value'] for i in df_dict.keys()).T\n",
    "df_tod.columns=[i for i in df_dict.keys()]\n",
    "df_tod.loc['Total'] = df_tod.sum()\n",
    "display(df_fac)\n",
    "display(df_tod)"
   ]
  },
  {
   "cell_type": "markdown",
   "metadata": {},
   "source": [
    "## VMT per Person\n",
    "From Daysim records"
   ]
  },
  {
   "cell_type": "code",
   "execution_count": 29,
   "metadata": {
    "collapsed": false
   },
   "outputs": [
    {
     "data": {
      "text/html": [
       "<div>\n",
       "<table border=\"1\" class=\"dataframe\">\n",
       "  <thead>\n",
       "    <tr style=\"text-align: right;\">\n",
       "      <th></th>\n",
       "      <th>source</th>\n",
       "      <th>value</th>\n",
       "    </tr>\n",
       "  </thead>\n",
       "  <tbody>\n",
       "    <tr>\n",
       "      <th>0</th>\n",
       "      <td>soundcast_2040_tod</td>\n",
       "      <td>14.40</td>\n",
       "    </tr>\n",
       "    <tr>\n",
       "      <th>2</th>\n",
       "      <td>soundcast_2040_constrained</td>\n",
       "      <td>14.62</td>\n",
       "    </tr>\n",
       "    <tr>\n",
       "      <th>4</th>\n",
       "      <td>survey</td>\n",
       "      <td>17.44</td>\n",
       "    </tr>\n",
       "  </tbody>\n",
       "</table>\n",
       "</div>"
      ],
      "text/plain": [
       "                       source  value\n",
       "0          soundcast_2040_tod  14.40\n",
       "2  soundcast_2040_constrained  14.62\n",
       "4                      survey  17.44"
      ]
     },
     "metadata": {},
     "output_type": "display_data"
    }
   ],
   "source": [
    "pd.options.display.float_format = '{:0,.2f}'.format\n",
    "\n",
    "df = pd.read_csv(os.path.join(relative_path,'agg_measures.csv'))\n",
    "# Save results by source as seperate df\n",
    "df_dict = {}\n",
    "for source in df.groupby('source').count().index.tolist():\n",
    "    df_dict[source] = df[df['source'] == source]\n",
    "    \n",
    "_df = df[df['description'] == 'VMT per Person'][['source','value']]\n",
    "#_df.index =['','']    # hide index\n",
    "display(_df)"
   ]
  },
  {
   "cell_type": "markdown",
   "metadata": {},
   "source": [
    "## Trips per Person"
   ]
  },
  {
   "cell_type": "code",
   "execution_count": 30,
   "metadata": {
    "collapsed": false
   },
   "outputs": [
    {
     "data": {
      "text/html": [
       "<div>\n",
       "<table border=\"1\" class=\"dataframe\">\n",
       "  <thead>\n",
       "    <tr style=\"text-align: right;\">\n",
       "      <th></th>\n",
       "      <th>source</th>\n",
       "      <th>value</th>\n",
       "    </tr>\n",
       "  </thead>\n",
       "  <tbody>\n",
       "    <tr>\n",
       "      <th></th>\n",
       "      <td>soundcast_2040_tod</td>\n",
       "      <td>3.97</td>\n",
       "    </tr>\n",
       "    <tr>\n",
       "      <th></th>\n",
       "      <td>soundcast_2040_constrained</td>\n",
       "      <td>3.90</td>\n",
       "    </tr>\n",
       "    <tr>\n",
       "      <th></th>\n",
       "      <td>survey</td>\n",
       "      <td>4.54</td>\n",
       "    </tr>\n",
       "  </tbody>\n",
       "</table>\n",
       "</div>"
      ],
      "text/plain": [
       "                      source  value\n",
       "          soundcast_2040_tod   3.97\n",
       "  soundcast_2040_constrained   3.90\n",
       "                      survey   4.54"
      ]
     },
     "metadata": {},
     "output_type": "display_data"
    }
   ],
   "source": [
    "_df = df[df['description'] == 'Average Trips per Person'][['source','value']].reset_index(drop=True)\n",
    "_df.index = [\"\" for i in xrange(len(_df))]    # hide index\n",
    "display(_df)"
   ]
  },
  {
   "cell_type": "markdown",
   "metadata": {},
   "source": [
    "## Average Trip Length"
   ]
  },
  {
   "cell_type": "code",
   "execution_count": 31,
   "metadata": {
    "collapsed": true
   },
   "outputs": [],
   "source": [
    "df = pd.read_csv(os.path.join(relative_path,'trips.csv'))\n",
    "# Save results by source as seperate df\n",
    "df_dict = {}\n",
    "for source in df.groupby('source').count().index.tolist():\n",
    "    df_dict[source] = df[df['source'] == source]"
   ]
  },
  {
   "cell_type": "code",
   "execution_count": 32,
   "metadata": {
    "collapsed": false
   },
   "outputs": [
    {
     "data": {
      "text/html": [
       "<div>\n",
       "<table border=\"1\" class=\"dataframe\">\n",
       "  <thead>\n",
       "    <tr style=\"text-align: right;\">\n",
       "      <th></th>\n",
       "      <th>source</th>\n",
       "      <th>value</th>\n",
       "    </tr>\n",
       "  </thead>\n",
       "  <tbody>\n",
       "    <tr>\n",
       "      <th></th>\n",
       "      <td>soundcast_2040_tod</td>\n",
       "      <td>5.21</td>\n",
       "    </tr>\n",
       "    <tr>\n",
       "      <th></th>\n",
       "      <td>survey</td>\n",
       "      <td>5.87</td>\n",
       "    </tr>\n",
       "    <tr>\n",
       "      <th></th>\n",
       "      <td>soundcast_2040_constrained</td>\n",
       "      <td>5.39</td>\n",
       "    </tr>\n",
       "  </tbody>\n",
       "</table>\n",
       "</div>"
      ],
      "text/plain": [
       "                      source  value\n",
       "          soundcast_2040_tod   5.21\n",
       "                      survey   5.87\n",
       "  soundcast_2040_constrained   5.39"
      ]
     },
     "metadata": {},
     "output_type": "display_data"
    }
   ],
   "source": [
    "dfplot = pd.DataFrame([(df_dict[i]['travdist']*df_dict[i]['trexpfac']).sum()/df_dict[i]['trexpfac'].sum() for i in df_dict.keys()])\n",
    "dfplot.columns = ['value']\n",
    "dfplot['source'] = [i for i in df_dict.keys()]\n",
    "dfplot.index = [\"\" for i in xrange(len(dfplot))]    # hide index\n",
    "display(dfplot[['source','value']])"
   ]
  },
  {
   "cell_type": "markdown",
   "metadata": {},
   "source": [
    "## Trip Mode Share"
   ]
  },
  {
   "cell_type": "code",
   "execution_count": 33,
   "metadata": {
    "collapsed": false
   },
   "outputs": [
    {
     "data": {
      "text/html": [
       "<div>\n",
       "<table border=\"1\" class=\"dataframe\">\n",
       "  <thead>\n",
       "    <tr style=\"text-align: right;\">\n",
       "      <th></th>\n",
       "      <th>soundcast_2040_tod</th>\n",
       "      <th>survey</th>\n",
       "      <th>soundcast_2040_constrained</th>\n",
       "    </tr>\n",
       "  </thead>\n",
       "  <tbody>\n",
       "    <tr>\n",
       "      <th>Bike</th>\n",
       "      <td>3.0%</td>\n",
       "      <td>1.4%</td>\n",
       "      <td>2.1%</td>\n",
       "    </tr>\n",
       "    <tr>\n",
       "      <th>HOV2</th>\n",
       "      <td>22.0%</td>\n",
       "      <td>22.2%</td>\n",
       "      <td>21.3%</td>\n",
       "    </tr>\n",
       "    <tr>\n",
       "      <th>HOV3+</th>\n",
       "      <td>14.8%</td>\n",
       "      <td>16.0%</td>\n",
       "      <td>14.4%</td>\n",
       "    </tr>\n",
       "    <tr>\n",
       "      <th>SOV</th>\n",
       "      <td>38.7%</td>\n",
       "      <td>40.6%</td>\n",
       "      <td>37.4%</td>\n",
       "    </tr>\n",
       "    <tr>\n",
       "      <th>School Bus</th>\n",
       "      <td>2.0%</td>\n",
       "      <td>2.2%</td>\n",
       "      <td>2.1%</td>\n",
       "    </tr>\n",
       "    <tr>\n",
       "      <th>Transit</th>\n",
       "      <td>5.0%</td>\n",
       "      <td>4.4%</td>\n",
       "      <td>4.6%</td>\n",
       "    </tr>\n",
       "    <tr>\n",
       "      <th>Walk</th>\n",
       "      <td>14.5%</td>\n",
       "      <td>12.7%</td>\n",
       "      <td>18.2%</td>\n",
       "    </tr>\n",
       "  </tbody>\n",
       "</table>\n",
       "</div>"
      ],
      "text/plain": [
       "            soundcast_2040_tod  survey  soundcast_2040_constrained\n",
       "Bike                      3.0%    1.4%                        2.1%\n",
       "HOV2                     22.0%   22.2%                       21.3%\n",
       "HOV3+                    14.8%   16.0%                       14.4%\n",
       "SOV                      38.7%   40.6%                       37.4%\n",
       "School Bus                2.0%    2.2%                        2.1%\n",
       "Transit                   5.0%    4.4%                        4.6%\n",
       "Walk                     14.5%   12.7%                       18.2%"
      ]
     },
     "metadata": {},
     "output_type": "display_data"
    },
    {
     "data": {
      "image/png": "[encoded data removed]",
      "text/plain": [
       "<matplotlib.figure.Figure at 0x8693470>"
      ]
     },
     "metadata": {},
     "output_type": "display_data"
    }
   ],
   "source": [
    "pd.options.display.float_format = '{:,.1%}'.format\n",
    "dfplot = pd.DataFrame([df_dict[i].groupby('mode').sum()['trexpfac']/df_dict[i].sum()['trexpfac'] for i in df_dict.keys()]).T\n",
    "dfplot = dfplot.drop('Other', axis=0)\n",
    "dfplot.columns = df_dict.keys()\n",
    "dfplot.plot(kind='barh', alpha=0.6, figsize=(10,5))\n",
    "display(dfplot)"
   ]
  },
  {
   "cell_type": "code",
   "execution_count": null,
   "metadata": {
    "collapsed": true
   },
   "outputs": [],
   "source": []
  }
 ],
 "metadata": {
  "anaconda-cloud": {},
  "kernelspec": {
   "display_name": "Python [soundcast]",
   "language": "python",
   "name": "Python [soundcast]"
  },
  "language_info": {
   "codemirror_mode": {
    "name": "ipython",
    "version": 2
   },
   "file_extension": ".py",
   "mimetype": "text/x-python",
   "name": "python",
   "nbconvert_exporter": "python",
   "pygments_lexer": "ipython2",
   "version": "2.7.11"
  }
 },
 "nbformat": 4,
 "nbformat_minor": 1
}
