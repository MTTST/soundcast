{
 "cells": [
  {
   "cell_type": "code",
   "execution_count": 16,
   "metadata": {
    "collapsed": false
   },
   "outputs": [
    {
     "data": {
      "text/html": [
       "<script>\n",
       "code_show=true; \n",
       "function code_toggle() {\n",
       " if (code_show){\n",
       " $('div.input').hide();\n",
       " } else {\n",
       " $('div.input').show();\n",
       " }\n",
       " code_show = !code_show\n",
       "} \n",
       "$( document ).ready(code_toggle);\n",
       "</script>\n",
       "<form action=\"javascript:code_toggle()\"><input type=\"submit\" value=\"Click here to toggle on/off the raw code.\"></form>"
      ],
      "text/plain": [
       "<IPython.core.display.HTML object>"
      ]
     },
     "execution_count": 16,
     "metadata": {},
     "output_type": "execute_result"
    }
   ],
   "source": [
    "import os\n",
    "import pandas as pd\n",
    "import h5py\n",
    "\n",
    "%matplotlib inline\n",
    "\n",
    "from IPython.display import display, HTML\n",
    "\n",
    "HTML('''<script>\n",
    "code_show=true; \n",
    "function code_toggle() {\n",
    " if (code_show){\n",
    " $('div.input').hide();\n",
    " } else {\n",
    " $('div.input').show();\n",
    " }\n",
    " code_show = !code_show\n",
    "} \n",
    "$( document ).ready(code_toggle);\n",
    "</script>\n",
    "<form action=\"javascript:code_toggle()\"><input type=\"submit\" value=\"Click here to toggle on/off the raw code.\"></form>''')"
   ]
  },
  {
   "cell_type": "code",
   "execution_count": 17,
   "metadata": {
    "collapsed": true
   },
   "outputs": [],
   "source": [
    "# Daysim data\n",
    "trip = pd.read_csv(r'../../../outputs/daysim/_trip.tsv', sep='\\t')\n",
    "person = pd.read_csv(r'../../../outputs/daysim/_person.tsv', sep='\\t')\n",
    "hh = pd.read_csv(r'../../../outputs/daysim/_household.tsv', sep='\\t')"
   ]
  },
  {
   "cell_type": "code",
   "execution_count": 18,
   "metadata": {
    "collapsed": true
   },
   "outputs": [],
   "source": [
    "pd.options.display.float_format = '{:0,.2f}'.format"
   ]
  },
  {
   "cell_type": "code",
   "execution_count": 19,
   "metadata": {
    "collapsed": true
   },
   "outputs": [],
   "source": [
    "# Weekdays in year\n",
    "annual_factor = 300"
   ]
  },
  {
   "cell_type": "markdown",
   "metadata": {},
   "source": [
    "# Soundcast Metrics\n",
    "----"
   ]
  },
  {
   "cell_type": "markdown",
   "metadata": {},
   "source": [
    "### Average Daily Miles Driven per Person"
   ]
  },
  {
   "cell_type": "code",
   "execution_count": 20,
   "metadata": {
    "collapsed": false
   },
   "outputs": [
    {
     "name": "stdout",
     "output_type": "stream",
     "text": [
      "18.1\n"
     ]
    }
   ],
   "source": [
    "df = pd.read_excel(r'../../../outputs/network/network_summary_detailed.xlsx', sheetname='UC VMT')\n",
    "tot_vmt = df.drop(['@lttrk','@mveh','@hveh','@bveh'], axis=1).sum().sum()\n",
    "tot_pop = person['psexpfac'].sum()\n",
    "x = tot_vmt/tot_pop\n",
    "print '{:0,.1f}'.format(x)"
   ]
  },
  {
   "cell_type": "markdown",
   "metadata": {},
   "source": [
    "### Hours of Congestion per Person per Year\n",
    "For average Puget Sound resident:"
   ]
  },
  {
   "cell_type": "code",
   "execution_count": 21,
   "metadata": {
    "collapsed": false
   },
   "outputs": [
    {
     "name": "stdout",
     "output_type": "stream",
     "text": [
      "37.7\n"
     ]
    }
   ],
   "source": [
    "net_sum = pd.read_excel(r'../../../outputs/network/network_summary_detailed.xlsx', sheetname='UC Delay')\n",
    "veh_delay = net_sum.drop(['@lttrk','@mveh','@hveh','@bveh'], axis=1).sum().sum()\n",
    "tot_pop = person['psexpfac'].sum()\n",
    "x = (veh_delay/tot_pop)*annual_factor\n",
    "print '{:0,.1f}'.format(x)"
   ]
  },
  {
   "cell_type": "markdown",
   "metadata": {},
   "source": [
    "### Annual Hours of Delay by Average Truck\n",
    "Average annual delay (hours) per truck trip in and through the region:"
   ]
  },
  {
   "cell_type": "code",
   "execution_count": 22,
   "metadata": {
    "collapsed": false
   },
   "outputs": [
    {
     "name": "stdout",
     "output_type": "stream",
     "text": [
      "87.9\n"
     ]
    }
   ],
   "source": [
    "# Load truck trips\n",
    "df = pd.read_csv(r'../../../outputs/network/trucks.csv')\n",
    "\n",
    "# Truck delay\n",
    "net_sum = pd.read_excel(r'../../../outputs/network/network_summary_detailed.xlsx', sheetname='UC Delay')\n",
    "\n",
    "# Annual delay hours\n",
    "daily_delay = net_sum[['@mveh','@hveh']].sum().sum()\n",
    "\n",
    "\n",
    "# total truck trips\n",
    "trips = df['prod'].sum()\n",
    "\n",
    "# average annual delay hours per truck\n",
    "x = (daily_delay*annual_factor)/trips\n",
    "print'{:0,.1f}'.format(x)"
   ]
  },
  {
   "cell_type": "markdown",
   "metadata": {},
   "source": [
    "*Medium trucks only:*"
   ]
  },
  {
   "cell_type": "code",
   "execution_count": 23,
   "metadata": {
    "collapsed": false
   },
   "outputs": [
    {
     "name": "stdout",
     "output_type": "stream",
     "text": [
      "74.2\n"
     ]
    }
   ],
   "source": [
    "x = (net_sum['@mveh'].sum()*annual_factor)/df[df['Unnamed: 0'] == 'mt']['prod'].values[0]\n",
    "print '{:0,.1f}'.format(x)"
   ]
  },
  {
   "cell_type": "markdown",
   "metadata": {},
   "source": [
    "*Heavy trucks only:*"
   ]
  },
  {
   "cell_type": "code",
   "execution_count": 24,
   "metadata": {
    "collapsed": false
   },
   "outputs": [
    {
     "name": "stdout",
     "output_type": "stream",
     "text": [
      "147.9\n"
     ]
    }
   ],
   "source": [
    "x = (net_sum['@hveh'].sum()*annual_factor)/df[df['Unnamed: 0'] == 'ht']['prod'].values[0]\n",
    "print '{:0,.1f}'.format(x)"
   ]
  },
  {
   "cell_type": "markdown",
   "metadata": {},
   "source": [
    "### % Population Walking or Biking for Transportation"
   ]
  },
  {
   "cell_type": "code",
   "execution_count": 25,
   "metadata": {
    "collapsed": false
   },
   "outputs": [
    {
     "name": "stdout",
     "output_type": "stream",
     "text": [
      "29.5%\n"
     ]
    }
   ],
   "source": [
    "trip_person = pd.merge(trip,person,on=['hhno','pno'], how='left')\n",
    "bike_walk_trips = trip_person[trip_person['mode'].isin([1,2])]\n",
    "\n",
    "df = bike_walk_trips.groupby(['hhno','pno']).count()\n",
    "df = df.reset_index()\n",
    "df = df[['hhno','pno']]\n",
    "df['bike_walk'] = True\n",
    "\n",
    "df = pd.merge(person,df,on=['hhno','pno'], how='left')\n",
    "df['bike_walk'] = df['bike_walk'].fillna(False)\n",
    "\n",
    "pd.options.display.float_format = '{:,.1%}'.format\n",
    "df = pd.DataFrame(df.groupby('bike_walk').sum()['psexpfac']/df['psexpfac'].sum())\n",
    "print '{:,.1%}'.format(df.loc[True]['psexpfac'])"
   ]
  },
  {
   "cell_type": "markdown",
   "metadata": {},
   "source": [
    "## Household and Jobs within 1/4 mile transit"
   ]
  },
  {
   "cell_type": "code",
   "execution_count": 26,
   "metadata": {
    "collapsed": true
   },
   "outputs": [],
   "source": [
    "# Network data\n",
    "df = pd.read_excel(r'../../../outputs/network/network_summary_detailed.xlsx', sheetname='Transit Job Access')"
   ]
  },
  {
   "cell_type": "markdown",
   "metadata": {},
   "source": [
    "**Households**"
   ]
  },
  {
   "cell_type": "code",
   "execution_count": 27,
   "metadata": {
    "collapsed": false
   },
   "outputs": [
    {
     "name": "stdout",
     "output_type": "stream",
     "text": [
      "1,081,202 households within 1/4 mile of transit\n",
      "51.3% of total households\n"
     ]
    }
   ],
   "source": [
    "x = df.loc['hh_p']['quarter_mile_transit']\n",
    "print '{:,.0f}'.format(x) + \" households within 1/4 mile of transit\"\n",
    "x = (df.loc['hh_p']['quarter_mile_transit']*1.0)/df.loc['hh_p']['total']\n",
    "print '{:,.1%}'.format(x) + \" of total households\""
   ]
  },
  {
   "cell_type": "markdown",
   "metadata": {},
   "source": [
    "**Jobs**"
   ]
  },
  {
   "cell_type": "code",
   "execution_count": 28,
   "metadata": {
    "collapsed": false,
    "scrolled": true
   },
   "outputs": [
    {
     "name": "stdout",
     "output_type": "stream",
     "text": [
      "2,116,714 jobs within 1/4 mile of transit\n",
      "72.3% of total jobs\n"
     ]
    }
   ],
   "source": [
    "x = df.loc['emptot_p']['quarter_mile_transit']\n",
    "print '{:,.0f}'.format(x) + \" jobs within 1/4 mile of transit\"\n",
    "x = (df.loc['emptot_p']['quarter_mile_transit']*1.0)/df.loc['emptot_p']['total']\n",
    "print '{:,.1%}'.format(x) + \" of total jobs\""
   ]
  },
  {
   "cell_type": "markdown",
   "metadata": {},
   "source": [
    "### Percent of Population within 1/2 mile of Frequent Transit\n",
    "15 minute frequency during AM/PM peak"
   ]
  },
  {
   "cell_type": "code",
   "execution_count": 29,
   "metadata": {
    "collapsed": false
   },
   "outputs": [],
   "source": [
    "#pd.options.display.float_format = '{:0,.2f}'.format\n",
    "#df = pd.read_csv(r'..\\..\\..\\outputs\\transit\\freq_transit_access.csv')\n",
    "#hh = pd.read_csv(r'..\\..\\..\\outputs\\daysim\\_household.tsv', sep='\\t')\n",
    "#df = pd.merge(hh, df, left_on='hhparcel', right_on='PARCELID', how='left')\n",
    "#max_dist = 0.5\n",
    "\n",
    "#tot_within = df[df['dist_frequent'] <= max_dist]['hhsize'].sum()\n",
    "#tot_pop = df['hhsize'].sum()\n"
   ]
  },
  {
   "cell_type": "code",
   "execution_count": 30,
   "metadata": {
    "collapsed": false
   },
   "outputs": [],
   "source": [
    "#print str('{:,.0f}'.format(tot_within)) + \" people within 1/2 mile of frequent transit\"\n",
    "#print str('{:,.1%}'.format(tot_within*1.0/tot_pop)) + \" of regional population\""
   ]
  },
  {
   "cell_type": "markdown",
   "metadata": {},
   "source": [
    "### Highway Peak Period Travel Times\n",
    "(Zone to Zone travel times)"
   ]
  },
  {
   "cell_type": "code",
   "execution_count": 31,
   "metadata": {
    "collapsed": true
   },
   "outputs": [],
   "source": [
    "# Load observed data (2013 currently)\n",
    "od_obs = pd.read_csv(r'..\\..\\..\\scripts\\summarize\\inputs\\network_summary\\od_travel_times.csv')"
   ]
  },
  {
   "cell_type": "markdown",
   "metadata": {},
   "source": [
    "**AM Travel Times**"
   ]
  },
  {
   "cell_type": "code",
   "execution_count": 32,
   "metadata": {
    "collapsed": false
   },
   "outputs": [
    {
     "name": "stdout",
     "output_type": "stream",
     "text": [
      "svtl2t\n",
      "532\n",
      "7to8\n",
      "svtl2t\n",
      "1552\n",
      "7to8\n",
      "svtl2t\n",
      "2570\n",
      "7to8\n",
      "svtl2t\n",
      "2286\n",
      "7to8\n",
      "svtl2t\n",
      "3108\n",
      "7to8\n",
      "svtl2t\n",
      "3625\n",
      "7to8\n",
      "svtl2t\n",
      "3528\n",
      "7to8\n",
      "svtl2t\n",
      "1653\n",
      "7to8\n",
      "svtl2t\n",
      "1178\n",
      "7to8\n",
      "svtl2t\n",
      "1354\n",
      "7to8\n",
      "svtl2t\n",
      "973\n",
      "7to8\n",
      "h3tl2t\n",
      "532\n",
      "7to8\n",
      "h3tl2t\n",
      "1552\n",
      "7to8\n",
      "h3tl2t\n",
      "2570\n",
      "7to8\n",
      "h3tl2t\n",
      "2286\n",
      "7to8\n",
      "h3tl2t\n",
      "3108\n",
      "7to8\n",
      "h3tl2t\n",
      "3625\n",
      "7to8\n",
      "h3tl2t\n",
      "3528\n",
      "7to8\n",
      "h3tl2t\n",
      "1653\n",
      "7to8\n",
      "h3tl2t\n",
      "1178\n",
      "7to8\n",
      "h3tl2t\n",
      "1354\n",
      "7to8\n",
      "h3tl2t\n",
      "973\n",
      "7to8\n",
      "svtl2t\n",
      "532\n",
      "17to18\n",
      "svtl2t\n",
      "1552\n",
      "17to18\n",
      "svtl2t\n",
      "2570\n",
      "17to18\n",
      "svtl2t\n",
      "2286\n",
      "17to18\n",
      "svtl2t\n",
      "3108\n",
      "17to18\n",
      "svtl2t\n",
      "3625\n",
      "17to18\n",
      "svtl2t\n",
      "3528\n",
      "17to18\n",
      "svtl2t\n",
      "1653\n",
      "17to18\n",
      "svtl2t\n",
      "1178\n",
      "17to18\n",
      "svtl2t\n",
      "1354\n",
      "17to18\n",
      "svtl2t\n",
      "973\n",
      "17to18\n",
      "h3tl2t\n",
      "532\n",
      "17to18\n",
      "h3tl2t\n",
      "1552\n",
      "17to18\n",
      "h3tl2t\n",
      "2570\n",
      "17to18\n",
      "h3tl2t\n",
      "2286\n",
      "17to18\n",
      "h3tl2t\n",
      "3108\n",
      "17to18\n",
      "h3tl2t\n",
      "3625\n",
      "17to18\n",
      "h3tl2t\n",
      "3528\n",
      "17to18\n",
      "h3tl2t\n",
      "1653\n",
      "17to18\n",
      "h3tl2t\n",
      "1178\n",
      "17to18\n",
      "h3tl2t\n",
      "1354\n",
      "17to18\n",
      "h3tl2t\n",
      "973\n",
      "17to18\n"
     ]
    }
   ],
   "source": [
    "user_class = 'svtl1t'\n",
    "max_internal_zone = 3700\n",
    "zone_list = [532,1552,2570,2286,3108,3625,3528,1653,1178,1354,973]\n",
    "\n",
    "corridor_list = ['Bremerton-Silverdale','Tacoma-Seattle','Everett-Seattle','Redmond-Seattle','Bellevue-Seattle',\n",
    "                'Auburn-Renton','Lynnwood-Bellevue','Tukwila-Bellevue',\n",
    "                'Silverdale-Bremerton','Seattle-Tacoma','Seattle-Everett','Seattle-Redmond','Seattle-Bellevue',\n",
    "                'Renton-Auburn','Bellevue-Lynnwood','Bellevue-Tukwila']\n",
    "\n",
    "# Need zone terminal times to compare to observed\n",
    "o_tt = pd.read_csv(r'..\\..\\..\\inputs\\IntraZonals\\origin_tt.in',\n",
    "                   sep=' ',header=4)\n",
    "\n",
    "\n",
    "o_tt.index = o_tt.index.get_level_values(1)\n",
    "o_tt['taz'] = o_tt.index\n",
    "o_tt['terminal_time'] = o_tt['matrix=mo\"prodtt\"']\n",
    "o_tt = pd.DataFrame(o_tt[['terminal_time','taz']])\n",
    "\n",
    "results_dict = {}\n",
    "\n",
    "for skim_name in ['7to8','17to18']:\n",
    "    user_class_dict = {}\n",
    "    for user_class in ['svtl2t','h3tl2t']:\n",
    "        results = pd.DataFrame()\n",
    "        h5_contents = h5py.File(r'..\\..\\..\\inputs' + r'\\\\' + skim_name + '.h5')\n",
    "        for zone in zone_list:\n",
    "            df = pd.DataFrame()\n",
    "            print user_class\n",
    "            print zone\n",
    "            print skim_name\n",
    "            df[user_class] = h5_contents['Skims'][user_class][:][zone-1,:max_internal_zone]\n",
    "            df['otaz'] = zone\n",
    "            df['dtaz'] = df.index+1\n",
    "            df['travel_time'] = df[user_class]/100 # skim data is stored in hundreds\n",
    "\n",
    "            df = df[df['dtaz'].isin(zone_list)]\n",
    "\n",
    "    #      Subtract the terminal times\n",
    "            df = pd.merge(df,o_tt,left_on='dtaz',right_on='taz')\n",
    "            # Subtract destination terminal time\n",
    "            df['travel_time'] = df['travel_time']-df['terminal_time']\n",
    "            # Subtract origin terminal time\n",
    "            df['travel_time'] = df['travel_time']-(o_tt[o_tt['taz'] == zone]['terminal_time'].values[0])\n",
    "\n",
    "            results = results.append(df)\n",
    "\n",
    "        user_class_dict[user_class] = results\n",
    "    results_dict[skim_name] = user_class_dict"
   ]
  },
  {
   "cell_type": "code",
   "execution_count": 33,
   "metadata": {
    "collapsed": false
   },
   "outputs": [
    {
     "data": {
      "text/html": [
       "<div>\n",
       "<table border=\"1\" class=\"dataframe\">\n",
       "  <thead>\n",
       "    <tr style=\"text-align: right;\">\n",
       "      <th></th>\n",
       "      <th>From</th>\n",
       "      <th>To</th>\n",
       "      <th>Model</th>\n",
       "      <th>Observed (Low)</th>\n",
       "      <th>Observed (Mid)</th>\n",
       "      <th>Observed (High)</th>\n",
       "    </tr>\n",
       "  </thead>\n",
       "  <tbody>\n",
       "    <tr>\n",
       "      <th>0</th>\n",
       "      <td>Seattle</td>\n",
       "      <td>Bellevue</td>\n",
       "      <td>22</td>\n",
       "      <td>15</td>\n",
       "      <td>19</td>\n",
       "      <td>25</td>\n",
       "    </tr>\n",
       "    <tr>\n",
       "      <th>1</th>\n",
       "      <td>Seattle</td>\n",
       "      <td>Redmond</td>\n",
       "      <td>24</td>\n",
       "      <td>21</td>\n",
       "      <td>25</td>\n",
       "      <td>36</td>\n",
       "    </tr>\n",
       "    <tr>\n",
       "      <th>2</th>\n",
       "      <td>Seattle</td>\n",
       "      <td>Everett</td>\n",
       "      <td>49</td>\n",
       "      <td>30</td>\n",
       "      <td>33</td>\n",
       "      <td>39</td>\n",
       "    </tr>\n",
       "    <tr>\n",
       "      <th>3</th>\n",
       "      <td>Seattle</td>\n",
       "      <td>Tacoma</td>\n",
       "      <td>53</td>\n",
       "      <td>33</td>\n",
       "      <td>37</td>\n",
       "      <td>43</td>\n",
       "    </tr>\n",
       "    <tr>\n",
       "      <th>4</th>\n",
       "      <td>Bellevue</td>\n",
       "      <td>Seattle</td>\n",
       "      <td>27</td>\n",
       "      <td>19</td>\n",
       "      <td>26</td>\n",
       "      <td>39</td>\n",
       "    </tr>\n",
       "    <tr>\n",
       "      <th>5</th>\n",
       "      <td>Bellevue</td>\n",
       "      <td>Tukwila</td>\n",
       "      <td>29</td>\n",
       "      <td>18</td>\n",
       "      <td>22</td>\n",
       "      <td>28</td>\n",
       "    </tr>\n",
       "    <tr>\n",
       "      <th>6</th>\n",
       "      <td>Bellevue</td>\n",
       "      <td>Lynnwood</td>\n",
       "      <td>28</td>\n",
       "      <td>23</td>\n",
       "      <td>25</td>\n",
       "      <td>29</td>\n",
       "    </tr>\n",
       "    <tr>\n",
       "      <th>7</th>\n",
       "      <td>Lynnwood</td>\n",
       "      <td>Bellevue</td>\n",
       "      <td>40</td>\n",
       "      <td>31</td>\n",
       "      <td>43</td>\n",
       "      <td>64</td>\n",
       "    </tr>\n",
       "    <tr>\n",
       "      <th>8</th>\n",
       "      <td>Everett</td>\n",
       "      <td>Seattle</td>\n",
       "      <td>68</td>\n",
       "      <td>45</td>\n",
       "      <td>56</td>\n",
       "      <td>79</td>\n",
       "    </tr>\n",
       "    <tr>\n",
       "      <th>9</th>\n",
       "      <td>Tacoma</td>\n",
       "      <td>Seattle</td>\n",
       "      <td>72</td>\n",
       "      <td>47</td>\n",
       "      <td>60</td>\n",
       "      <td>90</td>\n",
       "    </tr>\n",
       "    <tr>\n",
       "      <th>10</th>\n",
       "      <td>Bremerton</td>\n",
       "      <td>Silverdale</td>\n",
       "      <td>17</td>\n",
       "      <td>17</td>\n",
       "      <td>19</td>\n",
       "      <td>22</td>\n",
       "    </tr>\n",
       "    <tr>\n",
       "      <th>11</th>\n",
       "      <td>Silverdale</td>\n",
       "      <td>Bremerton</td>\n",
       "      <td>19</td>\n",
       "      <td>19</td>\n",
       "      <td>21</td>\n",
       "      <td>26</td>\n",
       "    </tr>\n",
       "    <tr>\n",
       "      <th>12</th>\n",
       "      <td>Redmond</td>\n",
       "      <td>Seattle</td>\n",
       "      <td>31</td>\n",
       "      <td>26</td>\n",
       "      <td>34</td>\n",
       "      <td>52</td>\n",
       "    </tr>\n",
       "    <tr>\n",
       "      <th>13</th>\n",
       "      <td>Auburn</td>\n",
       "      <td>Renton</td>\n",
       "      <td>30</td>\n",
       "      <td>22</td>\n",
       "      <td>28</td>\n",
       "      <td>41</td>\n",
       "    </tr>\n",
       "    <tr>\n",
       "      <th>14</th>\n",
       "      <td>Renton</td>\n",
       "      <td>Auburn</td>\n",
       "      <td>24</td>\n",
       "      <td>20</td>\n",
       "      <td>23</td>\n",
       "      <td>31</td>\n",
       "    </tr>\n",
       "    <tr>\n",
       "      <th>15</th>\n",
       "      <td>Tukwila</td>\n",
       "      <td>Bellevue</td>\n",
       "      <td>36</td>\n",
       "      <td>26</td>\n",
       "      <td>38</td>\n",
       "      <td>64</td>\n",
       "    </tr>\n",
       "  </tbody>\n",
       "</table>\n",
       "</div>"
      ],
      "text/plain": [
       "          From          To  Model  Observed (Low)  Observed (Mid)  \\\n",
       "0      Seattle    Bellevue     22              15              19   \n",
       "1      Seattle     Redmond     24              21              25   \n",
       "2      Seattle     Everett     49              30              33   \n",
       "3      Seattle      Tacoma     53              33              37   \n",
       "4     Bellevue     Seattle     27              19              26   \n",
       "5     Bellevue     Tukwila     29              18              22   \n",
       "6     Bellevue    Lynnwood     28              23              25   \n",
       "7     Lynnwood    Bellevue     40              31              43   \n",
       "8      Everett     Seattle     68              45              56   \n",
       "9       Tacoma     Seattle     72              47              60   \n",
       "10   Bremerton  Silverdale     17              17              19   \n",
       "11  Silverdale   Bremerton     19              19              21   \n",
       "12     Redmond     Seattle     31              26              34   \n",
       "13      Auburn      Renton     30              22              28   \n",
       "14      Renton      Auburn     24              20              23   \n",
       "15     Tukwila    Bellevue     36              26              38   \n",
       "\n",
       "    Observed (High)  \n",
       "0                25  \n",
       "1                36  \n",
       "2                39  \n",
       "3                43  \n",
       "4                39  \n",
       "5                28  \n",
       "6                29  \n",
       "7                64  \n",
       "8                79  \n",
       "9                90  \n",
       "10               22  \n",
       "11               26  \n",
       "12               52  \n",
       "13               41  \n",
       "14               31  \n",
       "15               64  "
      ]
     },
     "execution_count": 33,
     "metadata": {},
     "output_type": "execute_result"
    }
   ],
   "source": [
    "df = results_dict['7to8']['svtl2t']\n",
    "# df = results_dict['10to14']['svtl2t']\n",
    "df = pd.merge(df,od_obs,on=['otaz','dtaz'])\n",
    "df = df[['o_city','d_city','travel_time','optimistic','best_guess','pessimistic','time']]\n",
    "df['corridor']=df['o_city']+'-'+df['d_city']\n",
    "df = df[df['time'] == 'am']\n",
    "\n",
    "df = df.rename(columns={'travel_time':'travel_time_model',\n",
    "                   'optimistic':'observed_low',\n",
    "                  'best_guess':'observed_mid',\n",
    "                   'pessimistic':'observed_high'})\n",
    "df.index = df.corridor\n",
    "pd.options.display.float_format = '{:0,.0f}'.format\n",
    "df = df.drop(['time','corridor'], axis=1)\n",
    "df = df.rename(columns={'o_city':'From','d_city':'To','travel_time_model':'Model', \n",
    "                   'observed_low': 'Observed (Low)', 'observed_mid': 'Observed (Mid)', 'observed_high': 'Observed (High)'})\n",
    "\n",
    "_df = df[df.index.isin(corridor_list)]\n",
    "_df.reset_index().drop('corridor', axis=1)"
   ]
  },
  {
   "cell_type": "code",
   "execution_count": 34,
   "metadata": {
    "collapsed": false
   },
   "outputs": [
    {
     "data": {
      "text/plain": [
       "<matplotlib.axes._subplots.AxesSubplot at 0xb877c240>"
      ]
     },
     "execution_count": 34,
     "metadata": {},
     "output_type": "execute_result"
    },
    {
     "data": {
      "image/png": "[encoded data removed]",
      "text/plain": [
       "<matplotlib.figure.Figure at 0xa334e48>"
      ]
     },
     "metadata": {},
     "output_type": "display_data"
    }
   ],
   "source": [
    "_df.plot(kind='bar')"
   ]
  },
  {
   "cell_type": "markdown",
   "metadata": {},
   "source": [
    "**PM Travel Times**"
   ]
  },
  {
   "cell_type": "code",
   "execution_count": 35,
   "metadata": {
    "collapsed": false
   },
   "outputs": [
    {
     "data": {
      "text/html": [
       "<div>\n",
       "<table border=\"1\" class=\"dataframe\">\n",
       "  <thead>\n",
       "    <tr style=\"text-align: right;\">\n",
       "      <th></th>\n",
       "      <th>From</th>\n",
       "      <th>To</th>\n",
       "      <th>Model</th>\n",
       "      <th>Observed (Low)</th>\n",
       "      <th>Observed (Mid)</th>\n",
       "      <th>Observed (High)</th>\n",
       "    </tr>\n",
       "  </thead>\n",
       "  <tbody>\n",
       "    <tr>\n",
       "      <th>0</th>\n",
       "      <td>Seattle</td>\n",
       "      <td>Bellevue</td>\n",
       "      <td>27</td>\n",
       "      <td>15</td>\n",
       "      <td>19</td>\n",
       "      <td>25</td>\n",
       "    </tr>\n",
       "    <tr>\n",
       "      <th>1</th>\n",
       "      <td>Seattle</td>\n",
       "      <td>Redmond</td>\n",
       "      <td>30</td>\n",
       "      <td>21</td>\n",
       "      <td>25</td>\n",
       "      <td>36</td>\n",
       "    </tr>\n",
       "    <tr>\n",
       "      <th>2</th>\n",
       "      <td>Seattle</td>\n",
       "      <td>Everett</td>\n",
       "      <td>70</td>\n",
       "      <td>30</td>\n",
       "      <td>33</td>\n",
       "      <td>39</td>\n",
       "    </tr>\n",
       "    <tr>\n",
       "      <th>3</th>\n",
       "      <td>Seattle</td>\n",
       "      <td>Tacoma</td>\n",
       "      <td>72</td>\n",
       "      <td>33</td>\n",
       "      <td>37</td>\n",
       "      <td>43</td>\n",
       "    </tr>\n",
       "    <tr>\n",
       "      <th>4</th>\n",
       "      <td>Bellevue</td>\n",
       "      <td>Seattle</td>\n",
       "      <td>24</td>\n",
       "      <td>19</td>\n",
       "      <td>26</td>\n",
       "      <td>39</td>\n",
       "    </tr>\n",
       "    <tr>\n",
       "      <th>5</th>\n",
       "      <td>Bellevue</td>\n",
       "      <td>Tukwila</td>\n",
       "      <td>35</td>\n",
       "      <td>18</td>\n",
       "      <td>22</td>\n",
       "      <td>28</td>\n",
       "    </tr>\n",
       "    <tr>\n",
       "      <th>6</th>\n",
       "      <td>Bellevue</td>\n",
       "      <td>Lynnwood</td>\n",
       "      <td>41</td>\n",
       "      <td>23</td>\n",
       "      <td>25</td>\n",
       "      <td>29</td>\n",
       "    </tr>\n",
       "    <tr>\n",
       "      <th>7</th>\n",
       "      <td>Lynnwood</td>\n",
       "      <td>Bellevue</td>\n",
       "      <td>29</td>\n",
       "      <td>31</td>\n",
       "      <td>43</td>\n",
       "      <td>64</td>\n",
       "    </tr>\n",
       "    <tr>\n",
       "      <th>8</th>\n",
       "      <td>Everett</td>\n",
       "      <td>Seattle</td>\n",
       "      <td>54</td>\n",
       "      <td>45</td>\n",
       "      <td>56</td>\n",
       "      <td>79</td>\n",
       "    </tr>\n",
       "    <tr>\n",
       "      <th>9</th>\n",
       "      <td>Tacoma</td>\n",
       "      <td>Seattle</td>\n",
       "      <td>55</td>\n",
       "      <td>47</td>\n",
       "      <td>60</td>\n",
       "      <td>90</td>\n",
       "    </tr>\n",
       "    <tr>\n",
       "      <th>10</th>\n",
       "      <td>Bremerton</td>\n",
       "      <td>Silverdale</td>\n",
       "      <td>18</td>\n",
       "      <td>17</td>\n",
       "      <td>19</td>\n",
       "      <td>22</td>\n",
       "    </tr>\n",
       "    <tr>\n",
       "      <th>11</th>\n",
       "      <td>Silverdale</td>\n",
       "      <td>Bremerton</td>\n",
       "      <td>18</td>\n",
       "      <td>19</td>\n",
       "      <td>21</td>\n",
       "      <td>26</td>\n",
       "    </tr>\n",
       "    <tr>\n",
       "      <th>12</th>\n",
       "      <td>Redmond</td>\n",
       "      <td>Seattle</td>\n",
       "      <td>27</td>\n",
       "      <td>26</td>\n",
       "      <td>34</td>\n",
       "      <td>52</td>\n",
       "    </tr>\n",
       "    <tr>\n",
       "      <th>13</th>\n",
       "      <td>Auburn</td>\n",
       "      <td>Renton</td>\n",
       "      <td>24</td>\n",
       "      <td>22</td>\n",
       "      <td>28</td>\n",
       "      <td>41</td>\n",
       "    </tr>\n",
       "    <tr>\n",
       "      <th>14</th>\n",
       "      <td>Renton</td>\n",
       "      <td>Auburn</td>\n",
       "      <td>31</td>\n",
       "      <td>20</td>\n",
       "      <td>23</td>\n",
       "      <td>31</td>\n",
       "    </tr>\n",
       "    <tr>\n",
       "      <th>15</th>\n",
       "      <td>Tukwila</td>\n",
       "      <td>Bellevue</td>\n",
       "      <td>32</td>\n",
       "      <td>26</td>\n",
       "      <td>38</td>\n",
       "      <td>64</td>\n",
       "    </tr>\n",
       "  </tbody>\n",
       "</table>\n",
       "</div>"
      ],
      "text/plain": [
       "          From          To  Model  Observed (Low)  Observed (Mid)  \\\n",
       "0      Seattle    Bellevue     27              15              19   \n",
       "1      Seattle     Redmond     30              21              25   \n",
       "2      Seattle     Everett     70              30              33   \n",
       "3      Seattle      Tacoma     72              33              37   \n",
       "4     Bellevue     Seattle     24              19              26   \n",
       "5     Bellevue     Tukwila     35              18              22   \n",
       "6     Bellevue    Lynnwood     41              23              25   \n",
       "7     Lynnwood    Bellevue     29              31              43   \n",
       "8      Everett     Seattle     54              45              56   \n",
       "9       Tacoma     Seattle     55              47              60   \n",
       "10   Bremerton  Silverdale     18              17              19   \n",
       "11  Silverdale   Bremerton     18              19              21   \n",
       "12     Redmond     Seattle     27              26              34   \n",
       "13      Auburn      Renton     24              22              28   \n",
       "14      Renton      Auburn     31              20              23   \n",
       "15     Tukwila    Bellevue     32              26              38   \n",
       "\n",
       "    Observed (High)  \n",
       "0                25  \n",
       "1                36  \n",
       "2                39  \n",
       "3                43  \n",
       "4                39  \n",
       "5                28  \n",
       "6                29  \n",
       "7                64  \n",
       "8                79  \n",
       "9                90  \n",
       "10               22  \n",
       "11               26  \n",
       "12               52  \n",
       "13               41  \n",
       "14               31  \n",
       "15               64  "
      ]
     },
     "execution_count": 35,
     "metadata": {},
     "output_type": "execute_result"
    }
   ],
   "source": [
    "df = results_dict['17to18']['svtl2t']\n",
    "df = pd.merge(df,od_obs,on=['otaz','dtaz'])\n",
    "df = df[['o_city','d_city','travel_time','optimistic','best_guess','pessimistic','time']]\n",
    "df['corridor']=df['o_city']+'-'+df['d_city']\n",
    "df = df[df['time'] == 'am']\n",
    "\n",
    "df = df.rename(columns={'travel_time':'travel_time_model',\n",
    "                   'optimistic':'observed_low',\n",
    "                  'best_guess':'observed_mid',\n",
    "                   'pessimistic':'observed_high'})\n",
    "df.index = df.corridor\n",
    "pd.options.display.float_format = '{:0,.0f}'.format\n",
    "df = df.drop(['time','corridor'], axis=1)\n",
    "df = df.rename(columns={'o_city':'From','d_city':'To','travel_time_model':'Model', \n",
    "                   'observed_low': 'Observed (Low)', 'observed_mid': 'Observed (Mid)', 'observed_high': 'Observed (High)'})\n",
    "\n",
    "_df = df[df.index.isin(corridor_list)]\n",
    "_df.reset_index().drop('corridor', axis=1)"
   ]
  },
  {
   "cell_type": "code",
   "execution_count": 36,
   "metadata": {
    "collapsed": false
   },
   "outputs": [
    {
     "data": {
      "text/plain": [
       "<matplotlib.axes._subplots.AxesSubplot at 0x8433d860>"
      ]
     },
     "execution_count": 36,
     "metadata": {},
     "output_type": "execute_result"
    },
    {
     "data": {
      "image/png": "[encoded data removed]",
      "text/plain": [
       "<matplotlib.figure.Figure at 0x843504e0>"
      ]
     },
     "metadata": {},
     "output_type": "display_data"
    }
   ],
   "source": [
    "_df.plot(kind='bar')"
   ]
  },
  {
   "cell_type": "markdown",
   "metadata": {},
   "source": [
    "### Annual Travel Cost per Household \n",
    "Out of pocket costs (fuel, tolls, transit fares)"
   ]
  },
  {
   "cell_type": "code",
   "execution_count": 37,
   "metadata": {
    "collapsed": false
   },
   "outputs": [
    {
     "name": "stdout",
     "output_type": "stream",
     "text": [
      "$4,138\n"
     ]
    }
   ],
   "source": [
    "df = trip.groupby('hhno').sum()['travcost']\n",
    "df = df.reset_index()\n",
    "df = pd.merge(hh,df,on='hhno',how='left')\n",
    "df['travcost'] = df['travcost'].fillna(0)\n",
    "x = df['travcost'].mean()*annual_factor\n",
    "print '${:0,.0f}'.format(x)"
   ]
  },
  {
   "cell_type": "code",
   "execution_count": 38,
   "metadata": {
    "collapsed": true
   },
   "outputs": [],
   "source": [
    "max_income = 200000 # in \n",
    "income_bins = [i for i in xrange(0,max_income,10000)]\n",
    "income_bins.append(1000000000)\n",
    "income_labels = [str(i) for i in xrange(10000,max_income,10000)]\n",
    "income_labels.append(str(max_income)+'+')\n",
    "df['income'] = pd.cut(df['hhincome'],bins=income_bins,labels=income_labels)\n",
    "df = pd.DataFrame(df.groupby('income').mean()['travcost'])\n",
    "df['annual_cost'] = df['travcost']*annual_factor"
   ]
  },
  {
   "cell_type": "markdown",
   "metadata": {},
   "source": [
    "Annual costs by income"
   ]
  },
  {
   "cell_type": "code",
   "execution_count": 39,
   "metadata": {
    "collapsed": false
   },
   "outputs": [
    {
     "data": {
      "text/plain": [
       "<matplotlib.axes._subplots.AxesSubplot at 0x7b6e6358>"
      ]
     },
     "execution_count": 39,
     "metadata": {},
     "output_type": "execute_result"
    },
    {
     "data": {
      "image/png": "[encoded data removed]",
      "text/plain": [
       "<matplotlib.figure.Figure at 0x17cc5860>"
      ]
     },
     "metadata": {},
     "output_type": "display_data"
    }
   ],
   "source": [
    "pd.options.display.float_format = '{:0,.2f}'.format\n",
    "df['annual_cost'].plot()"
   ]
  },
  {
   "cell_type": "markdown",
   "metadata": {},
   "source": [
    "## Transit Boardings"
   ]
  },
  {
   "cell_type": "code",
   "execution_count": 40,
   "metadata": {
    "collapsed": false
   },
   "outputs": [
    {
     "data": {
      "text/html": [
       "<div>\n",
       "<table border=\"1\" class=\"dataframe\">\n",
       "  <thead>\n",
       "    <tr style=\"text-align: right;\">\n",
       "      <th></th>\n",
       "      <th>line_total</th>\n",
       "    </tr>\n",
       "    <tr>\n",
       "      <th>agency</th>\n",
       "      <th></th>\n",
       "    </tr>\n",
       "  </thead>\n",
       "  <tbody>\n",
       "    <tr>\n",
       "      <th>Kitsap Transit</th>\n",
       "      <td>1,313,443.43</td>\n",
       "    </tr>\n",
       "  </tbody>\n",
       "</table>\n",
       "</div>"
      ],
      "text/plain": [
       "                 line_total\n",
       "agency                     \n",
       "Kitsap Transit 1,313,443.43"
      ]
     },
     "execution_count": 40,
     "metadata": {},
     "output_type": "execute_result"
    }
   ],
   "source": [
    "df = pd.read_excel(r'../../../outputs/network/network_summary_detailed.xlsx', sheetname='Transit Summaries')\n",
    "tod_list = ['5to6','6to7','7to8','8to9','9to10','10to14','14to15','15to16','16to17','17to18','18to20']\n",
    "df = df[[tod+'_board' for tod in tod_list]+['route_code']]\n",
    "df = df.fillna(0)\n",
    "df['line_total'] = df[[tod+'_board' for tod in tod_list]].sum(axis=1)\n",
    "\n",
    "#Boardings by transit agency\n",
    "agency_lookup = {\n",
    "    '1': 'King County Metro',\n",
    "    '2': 'Pierce Transit',\n",
    "    '3': 'Community Transit',\n",
    "    '4': 'Kitsap Transit',\n",
    "    '5': 'Washington Ferries',\n",
    "    '6': 'Sound Transit',\n",
    "    '7': 'Everett Transit'\n",
    "}\n",
    "df['agency'] = df['route_code'].astype('str').iloc[0][0]\n",
    "df['agency'] = df['agency'].map(agency_lookup)\n",
    "df = pd.DataFrame(df.groupby('agency').sum()['line_total'])\n",
    "df"
   ]
  },
  {
   "cell_type": "code",
   "execution_count": null,
   "metadata": {
    "collapsed": true
   },
   "outputs": [],
   "source": []
  }
 ],
 "metadata": {
  "anaconda-cloud": {},
  "kernelspec": {
   "display_name": "Python [default]",
   "language": "python",
   "name": "python2"
  },
  "language_info": {
   "codemirror_mode": {
    "name": "ipython",
    "version": 2
   },
   "file_extension": ".py",
   "mimetype": "text/x-python",
   "name": "python",
   "nbconvert_exporter": "python",
   "pygments_lexer": "ipython2",
   "version": "2.7.12"
  }
 },
 "nbformat": 4,
 "nbformat_minor": 2
}
