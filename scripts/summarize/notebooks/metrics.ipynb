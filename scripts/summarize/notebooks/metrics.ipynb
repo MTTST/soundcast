{
 "cells": [
  {
   "cell_type": "code",
   "execution_count": 1,
   "metadata": {
    "collapsed": false
   },
   "outputs": [
    {
     "data": {
      "text/html": [
       "<script>\n",
       "code_show=true; \n",
       "function code_toggle() {\n",
       " if (code_show){\n",
       " $('div.input').hide();\n",
       " } else {\n",
       " $('div.input').show();\n",
       " }\n",
       " code_show = !code_show\n",
       "} \n",
       "$( document ).ready(code_toggle);\n",
       "</script>\n",
       "<form action=\"javascript:code_toggle()\"><input type=\"submit\" value=\"Click here to toggle on/off the raw code.\"></form>"
      ],
      "text/plain": [
       "<IPython.core.display.HTML object>"
      ]
     },
     "execution_count": 1,
     "metadata": {},
     "output_type": "execute_result"
    }
   ],
   "source": [
    "import os\n",
    "import pandas as pd\n",
    "import h5py\n",
    "\n",
    "%matplotlib inline\n",
    "\n",
    "from IPython.display import display, HTML\n",
    "\n",
    "HTML('''<script>\n",
    "code_show=true; \n",
    "function code_toggle() {\n",
    " if (code_show){\n",
    " $('div.input').hide();\n",
    " } else {\n",
    " $('div.input').show();\n",
    " }\n",
    " code_show = !code_show\n",
    "} \n",
    "$( document ).ready(code_toggle);\n",
    "</script>\n",
    "<form action=\"javascript:code_toggle()\"><input type=\"submit\" value=\"Click here to toggle on/off the raw code.\"></form>''')"
   ]
  },
  {
   "cell_type": "code",
   "execution_count": 2,
   "metadata": {
    "collapsed": true
   },
   "outputs": [],
   "source": [
    "# Daysim data\n",
    "trip = pd.read_csv(r'../../../outputs/daysim/_trip.tsv', sep='\\t')\n",
    "person = pd.read_csv(r'../../../outputs/daysim/_person.tsv', sep='\\t')\n",
    "hh = pd.read_csv(r'../../../outputs/daysim/_household.tsv', sep='\\t')"
   ]
  },
  {
   "cell_type": "code",
   "execution_count": 3,
   "metadata": {
    "collapsed": true
   },
   "outputs": [],
   "source": [
    "pd.options.display.float_format = '{:0,.2f}'.format"
   ]
  },
  {
   "cell_type": "code",
   "execution_count": 4,
   "metadata": {
    "collapsed": true
   },
   "outputs": [],
   "source": [
    "# Weekdays in year\n",
    "annual_factor = 300"
   ]
  },
  {
   "cell_type": "markdown",
   "metadata": {},
   "source": [
    "# Soundcast Metrics\n",
    "----"
   ]
  },
  {
   "cell_type": "markdown",
   "metadata": {},
   "source": [
    "### Average Daily Miles Driven per Person"
   ]
  },
  {
   "cell_type": "code",
   "execution_count": 5,
   "metadata": {
    "collapsed": false
   },
   "outputs": [
    {
     "name": "stdout",
     "output_type": "stream",
     "text": [
      "19.9\n"
     ]
    }
   ],
   "source": [
    "df = pd.read_excel(r'../../../outputs/network/network_summary_detailed.xlsx', sheetname='UC VMT')\n",
    "tot_vmt = df.drop(['@lttrk','@mveh','@hveh','@bveh'], axis=1).sum().sum()\n",
    "tot_pop = person['psexpfac'].sum()\n",
    "x = tot_vmt/tot_pop\n",
    "print '{:0,.1f}'.format(x)"
   ]
  },
  {
   "cell_type": "markdown",
   "metadata": {},
   "source": [
    "### Hours of Congestion per Person per Year\n",
    "For average Puget Sound resident:"
   ]
  },
  {
   "cell_type": "code",
   "execution_count": 6,
   "metadata": {
    "collapsed": false
   },
   "outputs": [
    {
     "name": "stdout",
     "output_type": "stream",
     "text": [
      "34.0\n"
     ]
    }
   ],
   "source": [
    "net_sum = pd.read_excel(r'../../../outputs/network/network_summary_detailed.xlsx', sheetname='UC Delay')\n",
    "veh_delay = net_sum.drop(['@lttrk','@mveh','@hveh','@bveh'], axis=1).sum().sum()\n",
    "tot_pop = person['psexpfac'].sum()\n",
    "x = (veh_delay/tot_pop)*annual_factor\n",
    "print '{:0,.1f}'.format(x)"
   ]
  },
  {
   "cell_type": "markdown",
   "metadata": {},
   "source": [
    "### Annual Hours of Delay by Average Truck\n",
    "Average annual delay (hours) per truck trip in and through the region:"
   ]
  },
  {
   "cell_type": "code",
   "execution_count": 7,
   "metadata": {
    "collapsed": false
   },
   "outputs": [
    {
     "name": "stdout",
     "output_type": "stream",
     "text": [
      "67.6\n"
     ]
    }
   ],
   "source": [
    "# Load truck trips\n",
    "df = pd.read_csv(r'../../../outputs/network/trucks.csv')\n",
    "\n",
    "# Truck delay\n",
    "net_sum = pd.read_excel(r'../../../outputs/network/network_summary_detailed.xlsx', sheetname='UC Delay')\n",
    "\n",
    "# Annual delay hours\n",
    "daily_delay = net_sum[['@mveh','@hveh']].sum().sum()\n",
    "\n",
    "\n",
    "# total truck trips\n",
    "trips = df['prod'].sum()\n",
    "\n",
    "# average annual delay hours per truck\n",
    "x = (daily_delay*annual_factor)/trips\n",
    "print'{:0,.1f}'.format(x)"
   ]
  },
  {
   "cell_type": "markdown",
   "metadata": {},
   "source": [
    "*Medium trucks only:*"
   ]
  },
  {
   "cell_type": "code",
   "execution_count": 8,
   "metadata": {
    "collapsed": false
   },
   "outputs": [
    {
     "name": "stdout",
     "output_type": "stream",
     "text": [
      "58.5\n"
     ]
    }
   ],
   "source": [
    "x = (net_sum['@mveh'].sum()*annual_factor)/df[df['Unnamed: 0'] == 'mt']['prod'].values[0]\n",
    "print '{:0,.1f}'.format(x)"
   ]
  },
  {
   "cell_type": "markdown",
   "metadata": {},
   "source": [
    "*Heavy trucks only:*"
   ]
  },
  {
   "cell_type": "code",
   "execution_count": 9,
   "metadata": {
    "collapsed": false
   },
   "outputs": [
    {
     "name": "stdout",
     "output_type": "stream",
     "text": [
      "102.2\n"
     ]
    }
   ],
   "source": [
    "x = (net_sum['@hveh'].sum()*annual_factor)/df[df['Unnamed: 0'] == 'ht']['prod'].values[0]\n",
    "print '{:0,.1f}'.format(x)"
   ]
  },
  {
   "cell_type": "markdown",
   "metadata": {},
   "source": [
    "### % Population Walking or Biking for Transportation"
   ]
  },
  {
   "cell_type": "code",
   "execution_count": 10,
   "metadata": {
    "collapsed": false
   },
   "outputs": [
    {
     "name": "stdout",
     "output_type": "stream",
     "text": [
      "27.8%\n"
     ]
    }
   ],
   "source": [
    "trip_person = pd.merge(trip,person,on=['hhno','pno'], how='left')\n",
    "bike_walk_trips = trip_person[trip_person['mode'].isin([1,2])]\n",
    "\n",
    "df = bike_walk_trips.groupby(['hhno','pno']).count()\n",
    "df = df.reset_index()\n",
    "df = df[['hhno','pno']]\n",
    "df['bike_walk'] = True\n",
    "\n",
    "df = pd.merge(person,df,on=['hhno','pno'], how='left')\n",
    "df['bike_walk'] = df['bike_walk'].fillna(False)\n",
    "\n",
    "pd.options.display.float_format = '{:,.1%}'.format\n",
    "df = pd.DataFrame(df.groupby('bike_walk').sum()['psexpfac']/df['psexpfac'].sum())\n",
    "print '{:,.1%}'.format(df.loc[True]['psexpfac'])"
   ]
  },
  {
   "cell_type": "markdown",
   "metadata": {},
   "source": [
    "## Household and Jobs within 1/4 mile transit"
   ]
  },
  {
   "cell_type": "code",
   "execution_count": 11,
   "metadata": {
    "collapsed": true
   },
   "outputs": [],
   "source": [
    "# Network data\n",
    "df = pd.read_excel(r'../../../outputs/network/network_summary_detailed.xlsx', sheetname='Transit Job Access')"
   ]
  },
  {
   "cell_type": "markdown",
   "metadata": {},
   "source": [
    "**Households**"
   ]
  },
  {
   "cell_type": "code",
   "execution_count": 12,
   "metadata": {
    "collapsed": false
   },
   "outputs": [
    {
     "name": "stdout",
     "output_type": "stream",
     "text": [
      "702,604 households within 1/4 mile of transit\n",
      "46.6% of total households\n"
     ]
    }
   ],
   "source": [
    "x = df.loc['hh_p']['quarter_mile_transit']\n",
    "print '{:,.0f}'.format(x) + \" households within 1/4 mile of transit\"\n",
    "x = (df.loc['hh_p']['quarter_mile_transit']*1.0)/df.loc['hh_p']['total']\n",
    "print '{:,.1%}'.format(x) + \" of total households\""
   ]
  },
  {
   "cell_type": "markdown",
   "metadata": {},
   "source": [
    "**Jobs**"
   ]
  },
  {
   "cell_type": "code",
   "execution_count": 13,
   "metadata": {
    "collapsed": false
   },
   "outputs": [
    {
     "name": "stdout",
     "output_type": "stream",
     "text": [
      "1,366,266 jobs within 1/4 mile of transit\n",
      "68.0% of total jobs\n"
     ]
    }
   ],
   "source": [
    "x = df.loc['emptot_p']['quarter_mile_transit']\n",
    "print '{:,.0f}'.format(x) + \" jobs within 1/4 mile of transit\"\n",
    "x = (df.loc['emptot_p']['quarter_mile_transit']*1.0)/df.loc['emptot_p']['total']\n",
    "print '{:,.1%}'.format(x) + \" of total jobs\""
   ]
  },
  {
   "cell_type": "markdown",
   "metadata": {},
   "source": [
    "### Percent of Population within 1/2 mile of Frequent Transit\n",
    "15 minute frequency during AM/PM peak"
   ]
  },
  {
   "cell_type": "code",
   "execution_count": 14,
   "metadata": {
    "collapsed": true
   },
   "outputs": [],
   "source": [
    "pd.options.display.float_format = '{:0,.2f}'.format\n",
    "df = pd.read_csv(r'..\\..\\..\\outputs\\transit\\freq_transit_access.csv')\n",
    "hh = pd.read_csv(r'..\\..\\..\\outputs\\daysim\\_household.tsv', sep='\\t')\n",
    "df = pd.merge(hh, df, left_on='hhparcel', right_on='PARCELID', how='left')\n",
    "max_dist = 0.5\n",
    "\n",
    "tot_within = df[df['dist_frequent'] <= max_dist]['hhsize'].sum()\n",
    "tot_pop = df['hhsize'].sum()\n"
   ]
  },
  {
   "cell_type": "code",
   "execution_count": 15,
   "metadata": {
    "collapsed": false
   },
   "outputs": [
    {
     "name": "stdout",
     "output_type": "stream",
     "text": [
      "1,151,518 people within 1/2 mile of frequent transit\n",
      "30.7% of regional population\n"
     ]
    }
   ],
   "source": [
    "print str('{:,.0f}'.format(tot_within)) + \" people within 1/2 mile of frequent transit\"\n",
    "print str('{:,.1%}'.format(tot_within*1.0/tot_pop)) + \" of regional population\""
   ]
  },
  {
   "cell_type": "markdown",
   "metadata": {},
   "source": [
    "### Highway Peak Period Travel Times\n",
    "(Zone to Zone travel times)"
   ]
  },
  {
   "cell_type": "code",
   "execution_count": 2,
   "metadata": {
    "collapsed": true
   },
   "outputs": [],
   "source": [
    "# Load observed data (2013 currently)\n",
    "od_obs = pd.read_csv(r'..\\..\\..\\scripts\\summarize\\inputs\\network_summary\\od_travel_times.csv')"
   ]
  },
  {
   "cell_type": "markdown",
   "metadata": {},
   "source": [
    "**AM Travel Times**"
   ]
  },
  {
   "cell_type": "code",
   "execution_count": 3,
   "metadata": {
    "collapsed": true
   },
   "outputs": [],
   "source": [
    "user_class = 'svtl1t'\n",
    "max_internal_zone = 3700\n",
    "zone_list = [532,2286,1552,1125,3108]\n",
    "\n",
    "# Need zone terminal times to compare to observed\n",
    "o_tt = pd.read_csv(r'..\\..\\..\\inputs\\IntraZonals\\origin_tt.in',\n",
    "                   sep=' ',header=4)\n",
    "\n",
    "\n",
    "o_tt.index = o_tt.index.get_level_values(1)\n",
    "o_tt['taz'] = o_tt.index\n",
    "o_tt['terminal_time'] = o_tt['matrix=mo\"prodtt\"']\n",
    "o_tt = pd.DataFrame(o_tt[['terminal_time','taz']])\n",
    "\n",
    "results_dict = {}\n",
    "\n",
    "for skim_name in ['7to8','10to14','17to18']:\n",
    "    user_class_dict = {}\n",
    "    for user_class in ['svtl2t','h3tl2t']:\n",
    "        results = pd.DataFrame()\n",
    "        h5_contents = h5py.File(r'..\\..\\..\\inputs' + r'\\\\' + skim_name + '.h5')\n",
    "        for zone in zone_list:\n",
    "            df = pd.DataFrame()\n",
    "            df[user_class] = h5_contents['Skims'][user_class][:][zone-1,:max_internal_zone]\n",
    "            df['otaz'] = zone\n",
    "            df['dtaz'] = df.index+1\n",
    "            df['travel_time'] = df[user_class]/100 # skim data is stored in hundreds\n",
    "\n",
    "            df = df[df['dtaz'].isin(zone_list)]\n",
    "\n",
    "    #      Subtract the terminal times\n",
    "            df = pd.merge(df,o_tt,left_on='dtaz',right_on='taz')\n",
    "            # Subtract destination terminal time\n",
    "            df['travel_time'] = df['travel_time']-df['terminal_time']\n",
    "            # Subtract origin terminal time\n",
    "            df['travel_time'] = df['travel_time']-(o_tt[o_tt['taz'] == zone]['terminal_time'].values[0])\n",
    "\n",
    "            results = results.append(df)\n",
    "\n",
    "        user_class_dict[user_class] = results\n",
    "    results_dict[skim_name] = user_class_dict"
   ]
  },
  {
   "cell_type": "code",
   "execution_count": 4,
   "metadata": {
    "collapsed": false
   },
   "outputs": [
    {
     "data": {
      "text/html": [
       "<div>\n",
       "<table border=\"1\" class=\"dataframe\">\n",
       "  <thead>\n",
       "    <tr style=\"text-align: right;\">\n",
       "      <th></th>\n",
       "      <th>From</th>\n",
       "      <th>To</th>\n",
       "      <th>Model</th>\n",
       "      <th>Observed (Low)</th>\n",
       "      <th>Observed (Mid)</th>\n",
       "      <th>Observed (High)</th>\n",
       "    </tr>\n",
       "  </thead>\n",
       "  <tbody>\n",
       "    <tr>\n",
       "      <th>0</th>\n",
       "      <td>Seattle</td>\n",
       "      <td>Bellevue</td>\n",
       "      <td>22</td>\n",
       "      <td>17</td>\n",
       "      <td>22</td>\n",
       "      <td>29</td>\n",
       "    </tr>\n",
       "    <tr>\n",
       "      <th>1</th>\n",
       "      <td>Seattle</td>\n",
       "      <td>Everett</td>\n",
       "      <td>44</td>\n",
       "      <td>31</td>\n",
       "      <td>34</td>\n",
       "      <td>41</td>\n",
       "    </tr>\n",
       "    <tr>\n",
       "      <th>2</th>\n",
       "      <td>Seattle</td>\n",
       "      <td>Tacoma</td>\n",
       "      <td>46</td>\n",
       "      <td>32</td>\n",
       "      <td>35</td>\n",
       "      <td>41</td>\n",
       "    </tr>\n",
       "    <tr>\n",
       "      <th>3</th>\n",
       "      <td>Everett</td>\n",
       "      <td>Seattle</td>\n",
       "      <td>64</td>\n",
       "      <td>44</td>\n",
       "      <td>50</td>\n",
       "      <td>76</td>\n",
       "    </tr>\n",
       "    <tr>\n",
       "      <th>4</th>\n",
       "      <td>Everett</td>\n",
       "      <td>Bellevue</td>\n",
       "      <td>60</td>\n",
       "      <td>37</td>\n",
       "      <td>45</td>\n",
       "      <td>68</td>\n",
       "    </tr>\n",
       "    <tr>\n",
       "      <th>5</th>\n",
       "      <td>Everett</td>\n",
       "      <td>Tacoma</td>\n",
       "      <td>108</td>\n",
       "      <td>70</td>\n",
       "      <td>80</td>\n",
       "      <td>106</td>\n",
       "    </tr>\n",
       "    <tr>\n",
       "      <th>6</th>\n",
       "      <td>Bellevue</td>\n",
       "      <td>Seattle</td>\n",
       "      <td>26</td>\n",
       "      <td>19</td>\n",
       "      <td>26</td>\n",
       "      <td>41</td>\n",
       "    </tr>\n",
       "    <tr>\n",
       "      <th>7</th>\n",
       "      <td>Bellevue</td>\n",
       "      <td>Everett</td>\n",
       "      <td>40</td>\n",
       "      <td>30</td>\n",
       "      <td>33</td>\n",
       "      <td>37</td>\n",
       "    </tr>\n",
       "    <tr>\n",
       "      <th>8</th>\n",
       "      <td>Bellevue</td>\n",
       "      <td>Tacoma</td>\n",
       "      <td>59</td>\n",
       "      <td>37</td>\n",
       "      <td>40</td>\n",
       "      <td>48</td>\n",
       "    </tr>\n",
       "    <tr>\n",
       "      <th>9</th>\n",
       "      <td>Tacoma</td>\n",
       "      <td>Seattle</td>\n",
       "      <td>66</td>\n",
       "      <td>47</td>\n",
       "      <td>56</td>\n",
       "      <td>89</td>\n",
       "    </tr>\n",
       "    <tr>\n",
       "      <th>10</th>\n",
       "      <td>Tacoma</td>\n",
       "      <td>Bellevue</td>\n",
       "      <td>77</td>\n",
       "      <td>49</td>\n",
       "      <td>62</td>\n",
       "      <td>101</td>\n",
       "    </tr>\n",
       "    <tr>\n",
       "      <th>11</th>\n",
       "      <td>Tacoma</td>\n",
       "      <td>Everett</td>\n",
       "      <td>108</td>\n",
       "      <td>75</td>\n",
       "      <td>87</td>\n",
       "      <td>125</td>\n",
       "    </tr>\n",
       "  </tbody>\n",
       "</table>\n",
       "</div>"
      ],
      "text/plain": [
       "        From        To  Model  Observed (Low)  Observed (Mid)  Observed (High)\n",
       "0    Seattle  Bellevue     22              17              22               29\n",
       "1    Seattle   Everett     44              31              34               41\n",
       "2    Seattle    Tacoma     46              32              35               41\n",
       "3    Everett   Seattle     64              44              50               76\n",
       "4    Everett  Bellevue     60              37              45               68\n",
       "5    Everett    Tacoma    108              70              80              106\n",
       "6   Bellevue   Seattle     26              19              26               41\n",
       "7   Bellevue   Everett     40              30              33               37\n",
       "8   Bellevue    Tacoma     59              37              40               48\n",
       "9     Tacoma   Seattle     66              47              56               89\n",
       "10    Tacoma  Bellevue     77              49              62              101\n",
       "11    Tacoma   Everett    108              75              87              125"
      ]
     },
     "execution_count": 4,
     "metadata": {},
     "output_type": "execute_result"
    }
   ],
   "source": [
    "df = results_dict['7to8']['svtl2t']\n",
    "# df = results_dict['10to14']['svtl2t']\n",
    "df = pd.merge(df,od_obs,on=['otaz','dtaz'])\n",
    "df = df[['o_city','d_city','travel_time','optimistic','best_guess','pessimistic','time']]\n",
    "df['corridor']=df['o_city']+'-'+df['d_city']\n",
    "df = df[df['time'] == 'am']\n",
    "\n",
    "df = df.rename(columns={'travel_time':'travel_time_model',\n",
    "                   'optimistic':'observed_low',\n",
    "                  'best_guess':'observed_mid',\n",
    "                   'pessimistic':'observed_high'})\n",
    "df.index = df.corridor\n",
    "pd.options.display.float_format = '{:0,.0f}'.format\n",
    "df = df.drop(['corridor','time'], axis=1)\n",
    "df = df.rename(columns={'o_city':'From','d_city':'To','travel_time_model':'Model', \n",
    "                   'observed_low': 'Observed (Low)', 'observed_mid': 'Observed (Mid)', 'observed_high': 'Observed (High)'})\n",
    "df.reset_index().drop('corridor', axis=1)"
   ]
  },
  {
   "cell_type": "code",
   "execution_count": 5,
   "metadata": {
    "collapsed": false
   },
   "outputs": [
    {
     "data": {
      "text/plain": [
       "<matplotlib.axes._subplots.AxesSubplot at 0x947c630>"
      ]
     },
     "execution_count": 5,
     "metadata": {},
     "output_type": "execute_result"
    },
    {
     "data": {
      "image/png": "[encoded data removed]",
      "text/plain": [
       "<matplotlib.figure.Figure at 0x946a7f0>"
      ]
     },
     "metadata": {},
     "output_type": "display_data"
    }
   ],
   "source": [
    "df.plot(kind='bar')"
   ]
  },
  {
   "cell_type": "markdown",
   "metadata": {},
   "source": [
    "**PM Travel Times**"
   ]
  },
  {
   "cell_type": "code",
   "execution_count": 6,
   "metadata": {
    "collapsed": false
   },
   "outputs": [
    {
     "data": {
      "text/html": [
       "<div>\n",
       "<table border=\"1\" class=\"dataframe\">\n",
       "  <thead>\n",
       "    <tr style=\"text-align: right;\">\n",
       "      <th></th>\n",
       "      <th>From</th>\n",
       "      <th>To</th>\n",
       "      <th>Model</th>\n",
       "      <th>Observed (Low)</th>\n",
       "      <th>Observed (Mid)</th>\n",
       "      <th>Observed (High)</th>\n",
       "    </tr>\n",
       "  </thead>\n",
       "  <tbody>\n",
       "    <tr>\n",
       "      <th>0</th>\n",
       "      <td>Seattle</td>\n",
       "      <td>Bellevue</td>\n",
       "      <td>26</td>\n",
       "      <td>16</td>\n",
       "      <td>22</td>\n",
       "      <td>31</td>\n",
       "    </tr>\n",
       "    <tr>\n",
       "      <th>1</th>\n",
       "      <td>Seattle</td>\n",
       "      <td>Everett</td>\n",
       "      <td>64</td>\n",
       "      <td>42</td>\n",
       "      <td>52</td>\n",
       "      <td>68</td>\n",
       "    </tr>\n",
       "    <tr>\n",
       "      <th>2</th>\n",
       "      <td>Seattle</td>\n",
       "      <td>Tacoma</td>\n",
       "      <td>66</td>\n",
       "      <td>50</td>\n",
       "      <td>59</td>\n",
       "      <td>76</td>\n",
       "    </tr>\n",
       "    <tr>\n",
       "      <th>3</th>\n",
       "      <td>Everett</td>\n",
       "      <td>Seattle</td>\n",
       "      <td>48</td>\n",
       "      <td>44</td>\n",
       "      <td>53</td>\n",
       "      <td>70</td>\n",
       "    </tr>\n",
       "    <tr>\n",
       "      <th>4</th>\n",
       "      <td>Everett</td>\n",
       "      <td>Bellevue</td>\n",
       "      <td>41</td>\n",
       "      <td>30</td>\n",
       "      <td>34</td>\n",
       "      <td>41</td>\n",
       "    </tr>\n",
       "    <tr>\n",
       "      <th>5</th>\n",
       "      <td>Everett</td>\n",
       "      <td>Tacoma</td>\n",
       "      <td>112</td>\n",
       "      <td>81</td>\n",
       "      <td>91</td>\n",
       "      <td>109</td>\n",
       "    </tr>\n",
       "    <tr>\n",
       "      <th>6</th>\n",
       "      <td>Bellevue</td>\n",
       "      <td>Seattle</td>\n",
       "      <td>24</td>\n",
       "      <td>24</td>\n",
       "      <td>34</td>\n",
       "      <td>51</td>\n",
       "    </tr>\n",
       "    <tr>\n",
       "      <th>7</th>\n",
       "      <td>Bellevue</td>\n",
       "      <td>Everett</td>\n",
       "      <td>60</td>\n",
       "      <td>38</td>\n",
       "      <td>49</td>\n",
       "      <td>64</td>\n",
       "    </tr>\n",
       "    <tr>\n",
       "      <th>8</th>\n",
       "      <td>Bellevue</td>\n",
       "      <td>Tacoma</td>\n",
       "      <td>81</td>\n",
       "      <td>61</td>\n",
       "      <td>74</td>\n",
       "      <td>98</td>\n",
       "    </tr>\n",
       "    <tr>\n",
       "      <th>9</th>\n",
       "      <td>Tacoma</td>\n",
       "      <td>Seattle</td>\n",
       "      <td>48</td>\n",
       "      <td>35</td>\n",
       "      <td>40</td>\n",
       "      <td>52</td>\n",
       "    </tr>\n",
       "    <tr>\n",
       "      <th>10</th>\n",
       "      <td>Tacoma</td>\n",
       "      <td>Bellevue</td>\n",
       "      <td>60</td>\n",
       "      <td>39</td>\n",
       "      <td>46</td>\n",
       "      <td>58</td>\n",
       "    </tr>\n",
       "    <tr>\n",
       "      <th>11</th>\n",
       "      <td>Tacoma</td>\n",
       "      <td>Everett</td>\n",
       "      <td>109</td>\n",
       "      <td>68</td>\n",
       "      <td>78</td>\n",
       "      <td>94</td>\n",
       "    </tr>\n",
       "  </tbody>\n",
       "</table>\n",
       "</div>"
      ],
      "text/plain": [
       "        From        To  Model  Observed (Low)  Observed (Mid)  Observed (High)\n",
       "0    Seattle  Bellevue     26              16              22               31\n",
       "1    Seattle   Everett     64              42              52               68\n",
       "2    Seattle    Tacoma     66              50              59               76\n",
       "3    Everett   Seattle     48              44              53               70\n",
       "4    Everett  Bellevue     41              30              34               41\n",
       "5    Everett    Tacoma    112              81              91              109\n",
       "6   Bellevue   Seattle     24              24              34               51\n",
       "7   Bellevue   Everett     60              38              49               64\n",
       "8   Bellevue    Tacoma     81              61              74               98\n",
       "9     Tacoma   Seattle     48              35              40               52\n",
       "10    Tacoma  Bellevue     60              39              46               58\n",
       "11    Tacoma   Everett    109              68              78               94"
      ]
     },
     "execution_count": 6,
     "metadata": {},
     "output_type": "execute_result"
    }
   ],
   "source": [
    "df = results_dict['17to18']['svtl2t']\n",
    "# df = results_dict['10to14']['svtl2t']\n",
    "df = pd.merge(df,od_obs,on=['otaz','dtaz'])\n",
    "df = df[['o_city','d_city','travel_time','optimistic','best_guess','pessimistic','time']]\n",
    "df['corridor']=df['o_city']+'-'+df['d_city']\n",
    "df = df[df['time'] == 'pm']\n",
    "\n",
    "df = df.rename(columns={'travel_time':'travel_time_model',\n",
    "                   'optimistic':'observed_low',\n",
    "                  'best_guess':'observed_mid',\n",
    "                   'pessimistic':'observed_high'})\n",
    "df.drop(['corridor','time'], axis=1)\n",
    "df = df.rename(columns={'o_city':'From','d_city':'To','travel_time_model':'Model', \n",
    "                   'observed_low': 'Observed (Low)', 'observed_mid': 'Observed (Mid)', 'observed_high': 'Observed (High)'})\n",
    "df.reset_index().drop(['corridor','index','time'], axis=1)"
   ]
  },
  {
   "cell_type": "code",
   "execution_count": 7,
   "metadata": {
    "collapsed": false
   },
   "outputs": [
    {
     "data": {
      "text/plain": [
       "<matplotlib.axes._subplots.AxesSubplot at 0x97fc390>"
      ]
     },
     "execution_count": 7,
     "metadata": {},
     "output_type": "execute_result"
    },
    {
     "data": {
      "image/png": "[encoded data removed]",
      "text/plain": [
       "<matplotlib.figure.Figure at 0x99e4710>"
      ]
     },
     "metadata": {},
     "output_type": "display_data"
    }
   ],
   "source": [
    "df.plot(kind='bar')"
   ]
  },
  {
   "cell_type": "markdown",
   "metadata": {},
   "source": [
    "### Annual Travel Cost per Household \n",
    "Out of pocket costs (fuel, tolls, transit fares)"
   ]
  },
  {
   "cell_type": "code",
   "execution_count": 22,
   "metadata": {
    "collapsed": false
   },
   "outputs": [
    {
     "name": "stdout",
     "output_type": "stream",
     "text": [
      "$3,325\n"
     ]
    }
   ],
   "source": [
    "df = trip.groupby('hhno').sum()['travcost']\n",
    "df = df.reset_index()\n",
    "df = pd.merge(hh,df,on='hhno',how='left')\n",
    "df['travcost'] = df['travcost'].fillna(0)\n",
    "x = df['travcost'].mean()*annual_factor\n",
    "print '${:0,.0f}'.format(x)"
   ]
  },
  {
   "cell_type": "code",
   "execution_count": 23,
   "metadata": {
    "collapsed": true
   },
   "outputs": [],
   "source": [
    "max_income = 200000 # in \n",
    "income_bins = [i for i in xrange(0,max_income,10000)]\n",
    "income_bins.append(1000000000)\n",
    "income_labels = [str(i) for i in xrange(10000,max_income,10000)]\n",
    "income_labels.append(str(max_income)+'+')\n",
    "df['income'] = pd.cut(df['hhincome'],bins=income_bins,labels=income_labels)\n",
    "df = pd.DataFrame(df.groupby('income').mean()['travcost'])\n",
    "df['annual_cost'] = df['travcost']*annual_factor"
   ]
  },
  {
   "cell_type": "markdown",
   "metadata": {},
   "source": [
    "Annual costs by income"
   ]
  },
  {
   "cell_type": "code",
   "execution_count": 24,
   "metadata": {
    "collapsed": false
   },
   "outputs": [
    {
     "data": {
      "text/plain": [
       "<matplotlib.axes._subplots.AxesSubplot at 0x35887400>"
      ]
     },
     "execution_count": 24,
     "metadata": {},
     "output_type": "execute_result"
    },
    {
     "data": {
      "image/png": "[encoded data removed]",
      "text/plain": [
       "<matplotlib.figure.Figure at 0x41927208>"
      ]
     },
     "metadata": {},
     "output_type": "display_data"
    }
   ],
   "source": [
    "pd.options.display.float_format = '{:0,.2f}'.format\n",
    "df['annual_cost'].plot()"
   ]
  },
  {
   "cell_type": "markdown",
   "metadata": {},
   "source": [
    "## Transit Boardings"
   ]
  },
  {
   "cell_type": "code",
   "execution_count": 25,
   "metadata": {
    "collapsed": false
   },
   "outputs": [
    {
     "data": {
      "text/html": [
       "<div>\n",
       "<table border=\"1\" class=\"dataframe\">\n",
       "  <thead>\n",
       "    <tr style=\"text-align: right;\">\n",
       "      <th></th>\n",
       "      <th>line_total</th>\n",
       "    </tr>\n",
       "    <tr>\n",
       "      <th>agency</th>\n",
       "      <th></th>\n",
       "    </tr>\n",
       "  </thead>\n",
       "  <tbody>\n",
       "    <tr>\n",
       "      <th>Kitsap Transit</th>\n",
       "      <td>618,347.44</td>\n",
       "    </tr>\n",
       "  </tbody>\n",
       "</table>\n",
       "</div>"
      ],
      "text/plain": [
       "                line_total\n",
       "agency                    \n",
       "Kitsap Transit  618,347.44"
      ]
     },
     "execution_count": 25,
     "metadata": {},
     "output_type": "execute_result"
    }
   ],
   "source": [
    "df = pd.read_excel(r'../../../outputs/network/network_summary_detailed.xlsx', sheetname='Transit Summaries')\n",
    "tod_list = ['5to6','6to7','7to8','8to9','9to10','10to14','14to15','15to16','16to17','17to18','18to20']\n",
    "df = df[[tod+'_board' for tod in tod_list]+['route_code']]\n",
    "df = df.fillna(0)\n",
    "df['line_total'] = df[[tod+'_board' for tod in tod_list]].sum(axis=1)\n",
    "\n",
    "#Boardings by transit agency\n",
    "agency_lookup = {\n",
    "    '1': 'King County Metro',\n",
    "    '2': 'Pierce Transit',\n",
    "    '3': 'Community Transit',\n",
    "    '4': 'Kitsap Transit',\n",
    "    '5': 'Washington Ferries',\n",
    "    '6': 'Sound Transit',\n",
    "    '7': 'Everett Transit'\n",
    "}\n",
    "df['agency'] = df['route_code'].astype('str').iloc[0][0]\n",
    "df['agency'] = df['agency'].map(agency_lookup)\n",
    "df = pd.DataFrame(df.groupby('agency').sum()['line_total'])\n",
    "df"
   ]
  }
 ],
 "metadata": {
  "kernelspec": {
   "display_name": "Python 2",
   "language": "python",
   "name": "python2"
  },
  "language_info": {
   "codemirror_mode": {
    "name": "ipython",
    "version": 2
   },
   "file_extension": ".py",
   "mimetype": "text/x-python",
   "name": "python",
   "nbconvert_exporter": "python",
   "pygments_lexer": "ipython2",
   "version": "2.7.11"
  }
 },
 "nbformat": 4,
 "nbformat_minor": 2
}
