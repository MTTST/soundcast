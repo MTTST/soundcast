{
 "cells": [
  {
   "cell_type": "code",
   "execution_count": 1,
   "metadata": {},
   "outputs": [
    {
     "data": {
      "text/html": [
       "<script>\n",
       "code_show=true; \n",
       "function code_toggle() {\n",
       " if (code_show){\n",
       " $('div.input').hide();\n",
       " } else {\n",
       " $('div.input').show();\n",
       " }\n",
       " code_show = !code_show\n",
       "} \n",
       "$( document ).ready(code_toggle);\n",
       "</script>\n",
       "<form action=\"javascript:code_toggle()\"><input type=\"submit\" value=\"Click here to toggle on/off the raw code.\"></form>"
      ],
      "text/plain": [
       "<IPython.core.display.HTML object>"
      ]
     },
     "execution_count": 1,
     "metadata": {},
     "output_type": "execute_result"
    }
   ],
   "source": [
    "import os\n",
    "import pandas as pd\n",
    "import h5py\n",
    "\n",
    "%matplotlib inline\n",
    "\n",
    "from IPython.display import display, HTML\n",
    "\n",
    "HTML('''<script>\n",
    "code_show=true; \n",
    "function code_toggle() {\n",
    " if (code_show){\n",
    " $('div.input').hide();\n",
    " } else {\n",
    " $('div.input').show();\n",
    " }\n",
    " code_show = !code_show\n",
    "} \n",
    "$( document ).ready(code_toggle);\n",
    "</script>\n",
    "<form action=\"javascript:code_toggle()\"><input type=\"submit\" value=\"Click here to toggle on/off the raw code.\"></form>''')"
   ]
  },
  {
   "cell_type": "code",
   "execution_count": 64,
   "metadata": {
    "collapsed": true
   },
   "outputs": [],
   "source": [
    "# Daysim data\n",
    "trip = pd.read_csv(r'../../../outputs/daysim/_trip.tsv', sep='\\t')\n",
    "person = pd.read_csv(r'../../../outputs/daysim/_person.tsv', sep='\\t')\n",
    "hh = pd.read_csv(r'../../../outputs/daysim/_household.tsv', sep='\\t')"
   ]
  },
  {
   "cell_type": "code",
   "execution_count": 65,
   "metadata": {
    "collapsed": true
   },
   "outputs": [],
   "source": [
    "pd.options.display.float_format = '{:0,.2f}'.format"
   ]
  },
  {
   "cell_type": "code",
   "execution_count": 66,
   "metadata": {
    "collapsed": true
   },
   "outputs": [],
   "source": [
    "# Weekdays in year\n",
    "annual_factor = 300"
   ]
  },
  {
   "cell_type": "markdown",
   "metadata": {},
   "source": [
    "## Miles Driver per Person per Day"
   ]
  },
  {
   "cell_type": "code",
   "execution_count": 67,
   "metadata": {},
   "outputs": [
    {
     "name": "stdout",
     "output_type": "stream",
     "text": [
      "20.0\n"
     ]
    }
   ],
   "source": [
    "df = pd.read_excel(r'../../../outputs/network/network_summary_detailed.xlsx', sheetname='UC VMT')\n",
    "tot_vmt = df.drop(['@lttrk','@mveh','@hveh','@bveh'], axis=1).sum().sum()\n",
    "tot_pop = person['psexpfac'].sum()\n",
    "x = tot_vmt/tot_pop\n",
    "print '{:0,.1f}'.format(x)"
   ]
  },
  {
   "cell_type": "markdown",
   "metadata": {},
   "source": [
    "## Hours of Congestion per Person per Year\n",
    "For Puget Sound drivers"
   ]
  },
  {
   "cell_type": "code",
   "execution_count": 68,
   "metadata": {},
   "outputs": [
    {
     "name": "stdout",
     "output_type": "stream",
     "text": [
      "34.4\n"
     ]
    }
   ],
   "source": [
    "net_sum = pd.read_excel(r'../../../outputs/network/network_summary_detailed.xlsx', sheetname='UC Delay')\n",
    "veh_delay = net_sum.drop(['@lttrk','@mveh','@hveh','@bveh'], axis=1).sum().sum()\n",
    "tot_pop = person['psexpfac'].sum()\n",
    "x = (veh_delay/tot_pop)*annual_factor\n",
    "print '{:0,.1f}'.format(x)"
   ]
  },
  {
   "cell_type": "markdown",
   "metadata": {},
   "source": [
    "## Annual Hours of Delay by Average Truck\n",
    "Average annual delay (hours) per truck trip in and through the region"
   ]
  },
  {
   "cell_type": "code",
   "execution_count": 69,
   "metadata": {},
   "outputs": [
    {
     "name": "stdout",
     "output_type": "stream",
     "text": [
      "61.1\n"
     ]
    }
   ],
   "source": [
    "# Load truck trips\n",
    "df = pd.read_csv(r'../../../outputs/network/trucks.csv')\n",
    "\n",
    "# Truck delay\n",
    "net_sum = pd.read_excel(r'../../../outputs/network/network_summary_detailed.xlsx', sheetname='UC Delay')\n",
    "\n",
    "# Annual delay hours\n",
    "daily_delay = net_sum[['@mveh','@hveh']].sum().sum()\n",
    "\n",
    "\n",
    "# total truck trips\n",
    "trips = df['prod'].sum()\n",
    "\n",
    "# average annual delay hours per truck\n",
    "x = (daily_delay*annual_factor)/trips\n",
    "print'{:0,.1f}'.format(x)"
   ]
  },
  {
   "cell_type": "markdown",
   "metadata": {},
   "source": [
    "----\n",
    "*Medium trucks only*"
   ]
  },
  {
   "cell_type": "code",
   "execution_count": 70,
   "metadata": {},
   "outputs": [
    {
     "name": "stdout",
     "output_type": "stream",
     "text": [
      "52.2\n"
     ]
    }
   ],
   "source": [
    "x = (net_sum['@mveh'].sum()*annual_factor)/df[df['Unnamed: 0'] == 'mt']['prod'].values[0]\n",
    "print '{:0,.1f}'.format(x)"
   ]
  },
  {
   "cell_type": "markdown",
   "metadata": {},
   "source": [
    "---\n",
    "*Heavy trucks only*"
   ]
  },
  {
   "cell_type": "code",
   "execution_count": 71,
   "metadata": {},
   "outputs": [
    {
     "name": "stdout",
     "output_type": "stream",
     "text": [
      "95.9\n"
     ]
    }
   ],
   "source": [
    "x = (net_sum['@hveh'].sum()*annual_factor)/df[df['Unnamed: 0'] == 'ht']['prod'].values[0]\n",
    "print '{:0,.1f}'.format(x)"
   ]
  },
  {
   "cell_type": "markdown",
   "metadata": {},
   "source": [
    "## % Population Biking and Walking"
   ]
  },
  {
   "cell_type": "code",
   "execution_count": 72,
   "metadata": {},
   "outputs": [
    {
     "data": {
      "text/html": [
       "<div>\n",
       "<table border=\"1\" class=\"dataframe\">\n",
       "  <thead>\n",
       "    <tr style=\"text-align: right;\">\n",
       "      <th></th>\n",
       "      <th>psexpfac</th>\n",
       "    </tr>\n",
       "    <tr>\n",
       "      <th>bike_walk</th>\n",
       "      <th></th>\n",
       "    </tr>\n",
       "  </thead>\n",
       "  <tbody>\n",
       "    <tr>\n",
       "      <th>False</th>\n",
       "      <td>71.9%</td>\n",
       "    </tr>\n",
       "    <tr>\n",
       "      <th>True</th>\n",
       "      <td>28.1%</td>\n",
       "    </tr>\n",
       "  </tbody>\n",
       "</table>\n",
       "</div>"
      ],
      "text/plain": [
       "           psexpfac\n",
       "bike_walk          \n",
       "False         71.9%\n",
       "True          28.1%"
      ]
     },
     "execution_count": 72,
     "metadata": {},
     "output_type": "execute_result"
    }
   ],
   "source": [
    "trip_person = pd.merge(trip,person,on=['hhno','pno'], how='left')\n",
    "bike_walk_trips = trip_person[trip_person['mode'].isin([1,2])]\n",
    "\n",
    "df = bike_walk_trips.groupby(['hhno','pno']).count()\n",
    "df = df.reset_index()\n",
    "df = df[['hhno','pno']]\n",
    "df['bike_walk'] = True\n",
    "\n",
    "df = pd.merge(person,df,on=['hhno','pno'], how='left')\n",
    "df['bike_walk'] = df['bike_walk'].fillna(False)\n",
    "\n",
    "pd.options.display.float_format = '{:,.1%}'.format\n",
    "pd.DataFrame(df.groupby('bike_walk').sum()['psexpfac']/df['psexpfac'].sum())"
   ]
  },
  {
   "cell_type": "markdown",
   "metadata": {},
   "source": [
    "## Household and Jobs within 1/4 mile transit"
   ]
  },
  {
   "cell_type": "code",
   "execution_count": 73,
   "metadata": {
    "collapsed": true
   },
   "outputs": [],
   "source": [
    "# Network data\n",
    "df = pd.read_excel(r'../../../outputs/network/network_summary_detailed.xlsx', sheetname='Transit Job Access')"
   ]
  },
  {
   "cell_type": "markdown",
   "metadata": {},
   "source": [
    "**Households**"
   ]
  },
  {
   "cell_type": "code",
   "execution_count": 74,
   "metadata": {},
   "outputs": [
    {
     "name": "stdout",
     "output_type": "stream",
     "text": [
      "702,604 households\n"
     ]
    }
   ],
   "source": [
    "x = df.loc['hh_p']['quarter_mile_transit']\n",
    "print '{:,.0f}'.format(x) + \" households\""
   ]
  },
  {
   "cell_type": "code",
   "execution_count": 75,
   "metadata": {},
   "outputs": [
    {
     "name": "stdout",
     "output_type": "stream",
     "text": [
      "46.6% of total households\n"
     ]
    }
   ],
   "source": [
    "x = (df.loc['hh_p']['quarter_mile_transit']*1.0)/df.loc['hh_p']['total']\n",
    "print '{:,.1%}'.format(x) + \" of total households\""
   ]
  },
  {
   "cell_type": "markdown",
   "metadata": {},
   "source": [
    "**Jobs**"
   ]
  },
  {
   "cell_type": "code",
   "execution_count": 76,
   "metadata": {},
   "outputs": [
    {
     "name": "stdout",
     "output_type": "stream",
     "text": [
      "1,366,266 jobs\n"
     ]
    }
   ],
   "source": [
    "x = df.loc['emptot_p']['quarter_mile_transit']\n",
    "print '{:,.0f}'.format(x) + \" jobs\""
   ]
  },
  {
   "cell_type": "code",
   "execution_count": 77,
   "metadata": {},
   "outputs": [
    {
     "name": "stdout",
     "output_type": "stream",
     "text": [
      "68.0% of total jobs\n"
     ]
    }
   ],
   "source": [
    "x = (df.loc['emptot_p']['quarter_mile_transit']*1.0)/df.loc['emptot_p']['total']\n",
    "print '{:,.1%}'.format(x) + \" of total jobs\""
   ]
  },
  {
   "cell_type": "markdown",
   "metadata": {},
   "source": [
    "## Percent of Population within 1/2 fmile of frequent transit\n",
    "15 minute frequency during AM/PM peak"
   ]
  },
  {
   "cell_type": "code",
   "execution_count": null,
   "metadata": {
    "collapsed": true
   },
   "outputs": [],
   "source": []
  },
  {
   "cell_type": "markdown",
   "metadata": {},
   "source": [
    "## Highway Peak Period Travel Times\n",
    "Corridors (Zone to Zone travel times)"
   ]
  },
  {
   "cell_type": "code",
   "execution_count": 64,
   "metadata": {
    "collapsed": true
   },
   "outputs": [],
   "source": [
    "# Load observed data (2013 currently)\n",
    "od_obs = pd.read_csv(r'..\\..\\..\\scripts\\summarize\\inputs\\network_summary\\od_travel_times.csv')"
   ]
  },
  {
   "cell_type": "code",
   "execution_count": 65,
   "metadata": {},
   "outputs": [],
   "source": [
    "user_class = 'svtl1t'\n",
    "max_internal_zone = 3700\n",
    "zone_list = [532,2286,1552,1125]\n",
    "\n",
    "# Need zone terminal times to compare to observed\n",
    "o_tt = pd.read_csv(r'..\\..\\..\\inputs\\IntraZonals\\origin_tt.in',\n",
    "                   sep=' ',header=4)\n",
    "\n",
    "\n",
    "o_tt.index = o_tt.index.get_level_values(1)\n",
    "o_tt['taz'] = o_tt.index\n",
    "o_tt['terminal_time'] = o_tt['matrix=mo\"prodtt\"']\n",
    "o_tt = pd.DataFrame(o_tt[['terminal_time','taz']])\n",
    "\n",
    "results_dict = {}\n",
    "\n",
    "for skim_name in ['7to8','10to14','17to18']:\n",
    "    user_class_dict = {}\n",
    "    for user_class in ['svtl2t','h3tl2t']:\n",
    "        results = pd.DataFrame()\n",
    "        h5_contents = h5py.File(r'..\\..\\..\\inputs' + r'\\\\' + skim_name + '.h5')\n",
    "        for zone in zone_list:\n",
    "            df = pd.DataFrame()\n",
    "            df[user_class] = h5_contents['Skims'][user_class][:][zone-1,:max_internal_zone]\n",
    "            df['otaz'] = zone\n",
    "            df['dtaz'] = df.index+1\n",
    "            df['travel_time'] = df[user_class]/100 # skim data is stored in hundreds\n",
    "\n",
    "            df = df[df['dtaz'].isin(zone_list)]\n",
    "\n",
    "    #      Subtract the terminal times\n",
    "            df = pd.merge(df,o_tt,left_on='dtaz',right_on='taz')\n",
    "            # Subtract destination terminal time\n",
    "            df['travel_time'] = df['travel_time']-df['terminal_time']\n",
    "            # Subtract origin terminal time\n",
    "            df['travel_time'] = df['travel_time']-(o_tt[o_tt['taz'] == zone]['terminal_time'].values[0])\n",
    "\n",
    "            results = results.append(df)\n",
    "\n",
    "        user_class_dict[user_class] = results\n",
    "    results_dict[skim_name] = user_class_dict"
   ]
  },
  {
   "cell_type": "markdown",
   "metadata": {},
   "source": [
    "**AM Travel Times**"
   ]
  },
  {
   "cell_type": "code",
   "execution_count": 109,
   "metadata": {},
   "outputs": [
    {
     "data": {
      "text/html": [
       "<div>\n",
       "<table border=\"1\" class=\"dataframe\">\n",
       "  <thead>\n",
       "    <tr style=\"text-align: right;\">\n",
       "      <th></th>\n",
       "      <th>o_city</th>\n",
       "      <th>d_city</th>\n",
       "      <th>travel_time_model</th>\n",
       "      <th>observed_low</th>\n",
       "      <th>observed_mid</th>\n",
       "      <th>observed_high</th>\n",
       "    </tr>\n",
       "    <tr>\n",
       "      <th>corridor</th>\n",
       "      <th></th>\n",
       "      <th></th>\n",
       "      <th></th>\n",
       "      <th></th>\n",
       "      <th></th>\n",
       "      <th></th>\n",
       "    </tr>\n",
       "  </thead>\n",
       "  <tbody>\n",
       "    <tr>\n",
       "      <th>Seattle-Bellevue</th>\n",
       "      <td>Seattle</td>\n",
       "      <td>Bellevue</td>\n",
       "      <td>22</td>\n",
       "      <td>17</td>\n",
       "      <td>22</td>\n",
       "      <td>29</td>\n",
       "    </tr>\n",
       "    <tr>\n",
       "      <th>Seattle-Everett</th>\n",
       "      <td>Seattle</td>\n",
       "      <td>Everett</td>\n",
       "      <td>43</td>\n",
       "      <td>31</td>\n",
       "      <td>34</td>\n",
       "      <td>41</td>\n",
       "    </tr>\n",
       "    <tr>\n",
       "      <th>Everett-Seattle</th>\n",
       "      <td>Everett</td>\n",
       "      <td>Seattle</td>\n",
       "      <td>65</td>\n",
       "      <td>44</td>\n",
       "      <td>50</td>\n",
       "      <td>76</td>\n",
       "    </tr>\n",
       "    <tr>\n",
       "      <th>Everett-Bellevue</th>\n",
       "      <td>Everett</td>\n",
       "      <td>Bellevue</td>\n",
       "      <td>60</td>\n",
       "      <td>37</td>\n",
       "      <td>45</td>\n",
       "      <td>68</td>\n",
       "    </tr>\n",
       "    <tr>\n",
       "      <th>Bellevue-Seattle</th>\n",
       "      <td>Bellevue</td>\n",
       "      <td>Seattle</td>\n",
       "      <td>26</td>\n",
       "      <td>19</td>\n",
       "      <td>26</td>\n",
       "      <td>41</td>\n",
       "    </tr>\n",
       "    <tr>\n",
       "      <th>Bellevue-Everett</th>\n",
       "      <td>Bellevue</td>\n",
       "      <td>Everett</td>\n",
       "      <td>40</td>\n",
       "      <td>30</td>\n",
       "      <td>33</td>\n",
       "      <td>37</td>\n",
       "    </tr>\n",
       "  </tbody>\n",
       "</table>\n",
       "</div>"
      ],
      "text/plain": [
       "                    o_city    d_city  travel_time_model  observed_low  \\\n",
       "corridor                                                                \n",
       "Seattle-Bellevue   Seattle  Bellevue                 22            17   \n",
       "Seattle-Everett    Seattle   Everett                 43            31   \n",
       "Everett-Seattle    Everett   Seattle                 65            44   \n",
       "Everett-Bellevue   Everett  Bellevue                 60            37   \n",
       "Bellevue-Seattle  Bellevue   Seattle                 26            19   \n",
       "Bellevue-Everett  Bellevue   Everett                 40            30   \n",
       "\n",
       "                  observed_mid  observed_high  \n",
       "corridor                                       \n",
       "Seattle-Bellevue            22             29  \n",
       "Seattle-Everett             34             41  \n",
       "Everett-Seattle             50             76  \n",
       "Everett-Bellevue            45             68  \n",
       "Bellevue-Seattle            26             41  \n",
       "Bellevue-Everett            33             37  "
      ]
     },
     "execution_count": 109,
     "metadata": {},
     "output_type": "execute_result"
    }
   ],
   "source": [
    "df = results_dict['7to8']['svtl2t']\n",
    "# df = results_dict['10to14']['svtl2t']\n",
    "df = pd.merge(df,od_obs,on=['otaz','dtaz'])\n",
    "df = df[['o_city','d_city','travel_time','optimistic','best_guess','pessimistic','time']]\n",
    "df['corridor']=df['o_city']+'-'+df['d_city']\n",
    "df = df[df['time'] == 'am']\n",
    "\n",
    "df = df.rename(columns={'travel_time':'travel_time_model',\n",
    "                   'optimistic':'observed_low',\n",
    "                  'best_guess':'observed_mid',\n",
    "                   'pessimistic':'observed_high'})\n",
    "df.index = df.corridor\n",
    "pd.options.display.float_format = '{:0,.0f}'.format\n",
    "df.drop(['corridor','time'], axis=1)"
   ]
  },
  {
   "cell_type": "code",
   "execution_count": 110,
   "metadata": {},
   "outputs": [
    {
     "data": {
      "text/plain": [
       "<matplotlib.axes._subplots.AxesSubplot at 0xcac57b8>"
      ]
     },
     "execution_count": 110,
     "metadata": {},
     "output_type": "execute_result"
    },
    {
     "data": {
      "image/png": "[encoded data removed]",
      "text/plain": [
       "<matplotlib.figure.Figure at 0xcac5438>"
      ]
     },
     "metadata": {},
     "output_type": "display_data"
    }
   ],
   "source": [
    "df.plot(kind='bar')"
   ]
  },
  {
   "cell_type": "markdown",
   "metadata": {},
   "source": [
    "**PM Travel Times**"
   ]
  },
  {
   "cell_type": "code",
   "execution_count": 111,
   "metadata": {},
   "outputs": [
    {
     "data": {
      "text/html": [
       "<div>\n",
       "<table border=\"1\" class=\"dataframe\">\n",
       "  <thead>\n",
       "    <tr style=\"text-align: right;\">\n",
       "      <th></th>\n",
       "      <th>o_city</th>\n",
       "      <th>d_city</th>\n",
       "      <th>travel_time_model</th>\n",
       "      <th>observed_low</th>\n",
       "      <th>observed_mid</th>\n",
       "      <th>observed_high</th>\n",
       "    </tr>\n",
       "    <tr>\n",
       "      <th>corridor</th>\n",
       "      <th></th>\n",
       "      <th></th>\n",
       "      <th></th>\n",
       "      <th></th>\n",
       "      <th></th>\n",
       "      <th></th>\n",
       "    </tr>\n",
       "  </thead>\n",
       "  <tbody>\n",
       "    <tr>\n",
       "      <th>Seattle-Bellevue</th>\n",
       "      <td>Seattle</td>\n",
       "      <td>Bellevue</td>\n",
       "      <td>26</td>\n",
       "      <td>16</td>\n",
       "      <td>22</td>\n",
       "      <td>31</td>\n",
       "    </tr>\n",
       "    <tr>\n",
       "      <th>Seattle-Everett</th>\n",
       "      <td>Seattle</td>\n",
       "      <td>Everett</td>\n",
       "      <td>64</td>\n",
       "      <td>42</td>\n",
       "      <td>52</td>\n",
       "      <td>68</td>\n",
       "    </tr>\n",
       "    <tr>\n",
       "      <th>Everett-Seattle</th>\n",
       "      <td>Everett</td>\n",
       "      <td>Seattle</td>\n",
       "      <td>48</td>\n",
       "      <td>44</td>\n",
       "      <td>53</td>\n",
       "      <td>70</td>\n",
       "    </tr>\n",
       "    <tr>\n",
       "      <th>Everett-Bellevue</th>\n",
       "      <td>Everett</td>\n",
       "      <td>Bellevue</td>\n",
       "      <td>41</td>\n",
       "      <td>30</td>\n",
       "      <td>34</td>\n",
       "      <td>41</td>\n",
       "    </tr>\n",
       "    <tr>\n",
       "      <th>Bellevue-Seattle</th>\n",
       "      <td>Bellevue</td>\n",
       "      <td>Seattle</td>\n",
       "      <td>25</td>\n",
       "      <td>24</td>\n",
       "      <td>34</td>\n",
       "      <td>51</td>\n",
       "    </tr>\n",
       "    <tr>\n",
       "      <th>Bellevue-Everett</th>\n",
       "      <td>Bellevue</td>\n",
       "      <td>Everett</td>\n",
       "      <td>61</td>\n",
       "      <td>38</td>\n",
       "      <td>49</td>\n",
       "      <td>64</td>\n",
       "    </tr>\n",
       "  </tbody>\n",
       "</table>\n",
       "</div>"
      ],
      "text/plain": [
       "                    o_city    d_city  travel_time_model  observed_low  \\\n",
       "corridor                                                                \n",
       "Seattle-Bellevue   Seattle  Bellevue                 26            16   \n",
       "Seattle-Everett    Seattle   Everett                 64            42   \n",
       "Everett-Seattle    Everett   Seattle                 48            44   \n",
       "Everett-Bellevue   Everett  Bellevue                 41            30   \n",
       "Bellevue-Seattle  Bellevue   Seattle                 25            24   \n",
       "Bellevue-Everett  Bellevue   Everett                 61            38   \n",
       "\n",
       "                  observed_mid  observed_high  \n",
       "corridor                                       \n",
       "Seattle-Bellevue            22             31  \n",
       "Seattle-Everett             52             68  \n",
       "Everett-Seattle             53             70  \n",
       "Everett-Bellevue            34             41  \n",
       "Bellevue-Seattle            34             51  \n",
       "Bellevue-Everett            49             64  "
      ]
     },
     "execution_count": 111,
     "metadata": {},
     "output_type": "execute_result"
    }
   ],
   "source": [
    "df = results_dict['17to18']['svtl2t']\n",
    "# df = results_dict['10to14']['svtl2t']\n",
    "df = pd.merge(df,od_obs,on=['otaz','dtaz'])\n",
    "df = df[['o_city','d_city','travel_time','optimistic','best_guess','pessimistic','time']]\n",
    "df['corridor']=df['o_city']+'-'+df['d_city']\n",
    "df = df[df['time'] == 'pm']\n",
    "\n",
    "df = df.rename(columns={'travel_time':'travel_time_model',\n",
    "                   'optimistic':'observed_low',\n",
    "                  'best_guess':'observed_mid',\n",
    "                   'pessimistic':'observed_high'})\n",
    "df.index = df.corridor\n",
    "df.drop(['corridor','time'], axis=1)"
   ]
  },
  {
   "cell_type": "code",
   "execution_count": 100,
   "metadata": {},
   "outputs": [
    {
     "data": {
      "text/plain": [
       "<matplotlib.axes._subplots.AxesSubplot at 0xb1a7358>"
      ]
     },
     "execution_count": 100,
     "metadata": {},
     "output_type": "execute_result"
    },
    {
     "data": {
      "image/png": "[encoded data removed]",
      "text/plain": [
       "<matplotlib.figure.Figure at 0xb9f9c50>"
      ]
     },
     "metadata": {},
     "output_type": "display_data"
    }
   ],
   "source": [
    "df.plot(kind='bar')"
   ]
  },
  {
   "cell_type": "markdown",
   "metadata": {},
   "source": [
    "## Annual Travel Cost per Household \n",
    "by income"
   ]
  },
  {
   "cell_type": "code",
   "execution_count": 78,
   "metadata": {},
   "outputs": [
    {
     "name": "stdout",
     "output_type": "stream",
     "text": [
      "3,366\n"
     ]
    }
   ],
   "source": [
    "df = trip.groupby('hhno').sum()['travcost']\n",
    "df = df.reset_index()\n",
    "df = pd.merge(hh,df,on='hhno',how='left')\n",
    "df['travcost'] = df['travcost'].fillna(0)\n",
    "x = df['travcost'].mean()*annual_factor\n",
    "print '{:,.0f}'.format(x)"
   ]
  },
  {
   "cell_type": "code",
   "execution_count": 79,
   "metadata": {
    "collapsed": true
   },
   "outputs": [],
   "source": [
    "max_income = 200000 # in \n",
    "income_bins = [i for i in xrange(0,max_income,10000)]\n",
    "income_bins.append(1000000000)\n",
    "income_labels = [str(i) for i in xrange(10000,max_income,10000)]\n",
    "income_labels.append(str(max_income)+'+')\n",
    "df['income'] = pd.cut(df['hhincome'],bins=income_bins,labels=income_labels)\n",
    "df = pd.DataFrame(df.groupby('income').mean()['travcost'])\n",
    "df['annual_cost'] = df['travcost']*annual_factor"
   ]
  },
  {
   "cell_type": "code",
   "execution_count": 80,
   "metadata": {},
   "outputs": [
    {
     "data": {
      "text/plain": [
       "<matplotlib.axes._subplots.AxesSubplot at 0xcc3b1278>"
      ]
     },
     "execution_count": 80,
     "metadata": {},
     "output_type": "execute_result"
    },
    {
     "data": {
      "image/png": "[encoded data removed]",
      "text/plain": [
       "<matplotlib.figure.Figure at 0xcc3b1d30>"
      ]
     },
     "metadata": {},
     "output_type": "display_data"
    }
   ],
   "source": [
    "pd.options.display.float_format = '{:0,.2f}'.format\n",
    "df['annual_cost'].plot()"
   ]
  },
  {
   "cell_type": "markdown",
   "metadata": {
    "collapsed": true
   },
   "source": []
  }
 ],
 "metadata": {
  "kernelspec": {
   "display_name": "Python 2",
   "language": "python",
   "name": "python2"
  },
  "language_info": {
   "codemirror_mode": {
    "name": "ipython",
    "version": 2
   },
   "file_extension": ".py",
   "mimetype": "text/x-python",
   "name": "python",
   "nbconvert_exporter": "python",
   "pygments_lexer": "ipython2",
   "version": "2.7.13"
  }
 },
 "nbformat": 4,
 "nbformat_minor": 2
}
