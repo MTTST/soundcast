{
 "cells": [
  {
   "cell_type": "code",
   "execution_count": 1,
   "metadata": {},
   "outputs": [
    {
     "data": {
      "text/html": [
       "<script>\n",
       "code_show=true; \n",
       "function code_toggle() {\n",
       " if (code_show){\n",
       " $('div.input').hide();\n",
       " } else {\n",
       " $('div.input').show();\n",
       " }\n",
       " code_show = !code_show\n",
       "} \n",
       "$( document ).ready(code_toggle);\n",
       "</script>\n",
       "<form action=\"javascript:code_toggle()\"><input type=\"submit\" value=\"Click here to toggle on/off the raw code.\"></form>"
      ],
      "text/plain": [
       "<IPython.core.display.HTML object>"
      ]
     },
     "execution_count": 1,
     "metadata": {},
     "output_type": "execute_result"
    }
   ],
   "source": [
    "import pandas as pd\n",
    "import os\n",
    "\n",
    "%matplotlib inline\n",
    "\n",
    "from IPython.display import display, HTML\n",
    "\n",
    "HTML('''<script>\n",
    "code_show=true; \n",
    "function code_toggle() {\n",
    " if (code_show){\n",
    " $('div.input').hide();\n",
    " } else {\n",
    " $('div.input').show();\n",
    " }\n",
    " code_show = !code_show\n",
    "} \n",
    "$( document ).ready(code_toggle);\n",
    "</script>\n",
    "<form action=\"javascript:code_toggle()\"><input type=\"submit\" value=\"Click here to toggle on/off the raw code.\"></form>''')"
   ]
  },
  {
   "cell_type": "code",
   "execution_count": 15,
   "metadata": {
    "collapsed": true
   },
   "outputs": [],
   "source": [
    "pd.options.display.float_format = '{:0,.1%}'.format"
   ]
  },
  {
   "cell_type": "code",
   "execution_count": 7,
   "metadata": {
    "collapsed": true
   },
   "outputs": [],
   "source": [
    "# Relative path between notebooks and goruped output directories\n",
    "relative_path = '../../../outputs/grouped'"
   ]
  },
  {
   "cell_type": "code",
   "execution_count": 23,
   "metadata": {},
   "outputs": [
    {
     "data": {
      "text/html": [
       "<style>\n",
       ".output {\n",
       "    flex-direction: row;\n",
       "}\n",
       "</style>"
      ],
      "text/plain": [
       "<IPython.core.display.HTML object>"
      ]
     },
     "execution_count": 23,
     "metadata": {},
     "output_type": "execute_result"
    }
   ],
   "source": [
    "CSS = \"\"\"\n",
    ".output {\n",
    "    flex-direction: row;\n",
    "}\n",
    "\"\"\"\n",
    "\n",
    "HTML('<style>{}</style>'.format(CSS))"
   ]
  },
  {
   "cell_type": "markdown",
   "metadata": {},
   "source": [
    "# Calibration Sheet\n",
    "For base scenario validation"
   ]
  },
  {
   "cell_type": "markdown",
   "metadata": {},
   "source": [
    "## Tour Mode Share"
   ]
  },
  {
   "cell_type": "code",
   "execution_count": 30,
   "metadata": {},
   "outputs": [
    {
     "data": {
      "text/html": [
       "<div>\n",
       "<table border=\"1\" class=\"dataframe\">\n",
       "  <thead>\n",
       "    <tr style=\"text-align: right;\">\n",
       "      <th></th>\n",
       "      <th>survey</th>\n",
       "      <th>sc_2025_20_5</th>\n",
       "    </tr>\n",
       "  </thead>\n",
       "  <tbody>\n",
       "    <tr>\n",
       "      <th>Bike</th>\n",
       "      <td>1.4%</td>\n",
       "      <td>1.7%</td>\n",
       "    </tr>\n",
       "    <tr>\n",
       "      <th>HOV2</th>\n",
       "      <td>21.9%</td>\n",
       "      <td>22.1%</td>\n",
       "    </tr>\n",
       "    <tr>\n",
       "      <th>HOV3+</th>\n",
       "      <td>19.7%</td>\n",
       "      <td>19.4%</td>\n",
       "    </tr>\n",
       "    <tr>\n",
       "      <th>Park</th>\n",
       "      <td>0.9%</td>\n",
       "      <td>0.6%</td>\n",
       "    </tr>\n",
       "    <tr>\n",
       "      <th>SOV</th>\n",
       "      <td>33.6%</td>\n",
       "      <td>32.8%</td>\n",
       "    </tr>\n",
       "    <tr>\n",
       "      <th>School Bus</th>\n",
       "      <td>3.5%</td>\n",
       "      <td>3.1%</td>\n",
       "    </tr>\n",
       "    <tr>\n",
       "      <th>Transit</th>\n",
       "      <td>5.8%</td>\n",
       "      <td>4.8%</td>\n",
       "    </tr>\n",
       "    <tr>\n",
       "      <th>Walk</th>\n",
       "      <td>12.2%</td>\n",
       "      <td>15.5%</td>\n",
       "    </tr>\n",
       "  </tbody>\n",
       "</table>\n",
       "</div>"
      ],
      "text/plain": [
       "            survey  sc_2025_20_5\n",
       "Bike          1.4%          1.7%\n",
       "HOV2         21.9%         22.1%\n",
       "HOV3+        19.7%         19.4%\n",
       "Park          0.9%          0.6%\n",
       "SOV          33.6%         32.8%\n",
       "School Bus    3.5%          3.1%\n",
       "Transit       5.8%          4.8%\n",
       "Walk         12.2%         15.5%"
      ]
     },
     "metadata": {},
     "output_type": "display_data"
    },
    {
     "data": {
      "image/png": "[encoded data removed]",
      "text/plain": [
       "<matplotlib.figure.Figure at 0xf2084a8>"
      ]
     },
     "metadata": {},
     "output_type": "display_data"
    }
   ],
   "source": [
    "df = pd.read_csv(os.path.join(relative_path,'tours_tlvdest.csv'))\n",
    "# Save results by source as seperate df\n",
    "df_dict = {}\n",
    "for source in df.groupby('source').count().index.tolist():\n",
    "    df_dict[source] = df[df['source'] == source]\n",
    "    \n",
    "dfplot = pd.DataFrame([df_dict[i].groupby('tmodetp').sum()['toexpfac']/df_dict[i].sum()['toexpfac'] for i in df_dict.keys()]).T\n",
    "dfplot.columns = df_dict.keys()\n",
    "dfplot = dfplot.drop('Other', axis=0)\n",
    "dfplot.plot(kind='barh', alpha=0.6)\n",
    "display(dfplot)"
   ]
  },
  {
   "cell_type": "markdown",
   "metadata": {},
   "source": [
    "## Tour Purpose Distribution"
   ]
  },
  {
   "cell_type": "code",
   "execution_count": 31,
   "metadata": {},
   "outputs": [
    {
     "data": {
      "text/html": [
       "<div>\n",
       "<table border=\"1\" class=\"dataframe\">\n",
       "  <thead>\n",
       "    <tr style=\"text-align: right;\">\n",
       "      <th></th>\n",
       "      <th>survey</th>\n",
       "      <th>sc_2025_20_5</th>\n",
       "    </tr>\n",
       "    <tr>\n",
       "      <th>pdpurp</th>\n",
       "      <th></th>\n",
       "      <th></th>\n",
       "    </tr>\n",
       "  </thead>\n",
       "  <tbody>\n",
       "    <tr>\n",
       "      <th>Escort</th>\n",
       "      <td>10.8%</td>\n",
       "      <td>10.6%</td>\n",
       "    </tr>\n",
       "    <tr>\n",
       "      <th>Meal</th>\n",
       "      <td>5.0%</td>\n",
       "      <td>7.0%</td>\n",
       "    </tr>\n",
       "    <tr>\n",
       "      <th>Personal Business</th>\n",
       "      <td>12.1%</td>\n",
       "      <td>12.3%</td>\n",
       "    </tr>\n",
       "    <tr>\n",
       "      <th>School</th>\n",
       "      <td>13.3%</td>\n",
       "      <td>10.9%</td>\n",
       "    </tr>\n",
       "    <tr>\n",
       "      <th>Shop</th>\n",
       "      <td>11.9%</td>\n",
       "      <td>12.9%</td>\n",
       "    </tr>\n",
       "    <tr>\n",
       "      <th>Social</th>\n",
       "      <td>18.2%</td>\n",
       "      <td>20.4%</td>\n",
       "    </tr>\n",
       "    <tr>\n",
       "      <th>Work</th>\n",
       "      <td>28.7%</td>\n",
       "      <td>25.8%</td>\n",
       "    </tr>\n",
       "  </tbody>\n",
       "</table>\n",
       "</div>"
      ],
      "text/plain": [
       "                   survey  sc_2025_20_5\n",
       "pdpurp                                 \n",
       "Escort              10.8%         10.6%\n",
       "Meal                 5.0%          7.0%\n",
       "Personal Business   12.1%         12.3%\n",
       "School              13.3%         10.9%\n",
       "Shop                11.9%         12.9%\n",
       "Social              18.2%         20.4%\n",
       "Work                28.7%         25.8%"
      ]
     },
     "metadata": {},
     "output_type": "display_data"
    },
    {
     "data": {
      "image/png": "[encoded data removed]",
      "text/plain": [
       "<matplotlib.figure.Figure at 0xd9d8cf8>"
      ]
     },
     "metadata": {},
     "output_type": "display_data"
    }
   ],
   "source": [
    "# Reformat to plot\n",
    "dfplot = pd.DataFrame([df_dict[i].groupby('pdpurp').sum()['toexpfac']/df_dict[i].sum()['toexpfac'] for i in df_dict.keys()]).T\n",
    "dfplot.columns = df_dict.keys()\n",
    "dfplot.plot(kind='barh', alpha=0.6)\n",
    "display(dfplot)"
   ]
  },
  {
   "cell_type": "markdown",
   "metadata": {},
   "source": [
    "## Screenlines"
   ]
  },
  {
   "cell_type": "code",
   "execution_count": 32,
   "metadata": {},
   "outputs": [
    {
     "data": {
      "image/png": "[encoded data removed]",
      "text/plain": [
       "<matplotlib.figure.Figure at 0xf213dd8>"
      ]
     },
     "metadata": {},
     "output_type": "display_data"
    }
   ],
   "source": [
    "df = pd.read_csv(os.path.join(relative_path,'screenlines.csv'))\n",
    "# Save results by source as seperate df\n",
    "df_dict = {}\n",
    "for source in df.groupby('source').count().index.tolist():\n",
    "    df_dict[source] = df[df['source'] == source]\n",
    "    \n",
    "for source in df_dict.keys():\n",
    "    df_dict[source][['model','observed']].plot(kind='scatter', x='observed',y='model', title=source)"
   ]
  },
  {
   "cell_type": "markdown",
   "metadata": {},
   "source": [
    "## Traffic Counts"
   ]
  },
  {
   "cell_type": "code",
   "execution_count": 29,
   "metadata": {},
   "outputs": [
    {
     "data": {
      "image/png": "[encoded data removed]",
      "text/plain": [
       "<matplotlib.figure.Figure at 0xd83ff60>"
      ]
     },
     "metadata": {},
     "output_type": "display_data"
    }
   ],
   "source": [
    "df = pd.read_csv(os.path.join(relative_path,'traffic_counts.csv'))\n",
    "# Save results by source as seperate df\n",
    "df_dict = {}\n",
    "for source in df.groupby('source').count().index.tolist():\n",
    "    df_dict[source] = df[df['source'] == source]\n",
    "    \n",
    "for source in df_dict.keys():\n",
    "    df_dict[source][['model','observed']].plot(kind='scatter', x='observed',y='model', title=source)"
   ]
  },
  {
   "cell_type": "code",
   "execution_count": null,
   "metadata": {
    "collapsed": true
   },
   "outputs": [],
   "source": []
  }
 ],
 "metadata": {
  "kernelspec": {
   "display_name": "Python 2",
   "language": "python",
   "name": "python2"
  },
  "language_info": {
   "codemirror_mode": {
    "name": "ipython",
    "version": 2
   },
   "file_extension": ".py",
   "mimetype": "text/x-python",
   "name": "python",
   "nbconvert_exporter": "python",
   "pygments_lexer": "ipython2",
   "version": "2.7.13"
  }
 },
 "nbformat": 4,
 "nbformat_minor": 2
}
