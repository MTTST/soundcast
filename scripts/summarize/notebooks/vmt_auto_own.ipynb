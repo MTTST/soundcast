{
 "cells": [
  {
   "cell_type": "code",
   "execution_count": 1,
   "metadata": {
    "collapsed": true
   },
   "outputs": [],
   "source": [
    "import pandas as pd\n",
    "import os\n",
    "import h5py\n",
    "pd.options.display.float_format = '{:0,.0f}'.format"
   ]
  },
  {
   "cell_type": "code",
   "execution_count": 2,
   "metadata": {
    "collapsed": true
   },
   "outputs": [],
   "source": [
    "#Relative path between notebooks and goruped output directories\n",
    "relative_path = '../../../outputs'"
   ]
  },
  {
   "cell_type": "code",
   "execution_count": 3,
   "metadata": {
    "collapsed": false
   },
   "outputs": [],
   "source": [
    "# Load Daysim results\n",
    "trip = pd.read_csv(os.path.join(relative_path,r'daysim/') + r'_trip.tsv', sep='\\t')\n",
    "person = pd.read_csv(os.path.join(relative_path,r'daysim/') + r'_person.tsv', sep='\\t')\n",
    "household = pd.read_csv(os.path.join(relative_path,r'daysim/') + r'_household.tsv', sep='\\t')"
   ]
  },
  {
   "cell_type": "code",
   "execution_count": 4,
   "metadata": {
    "collapsed": true
   },
   "outputs": [],
   "source": [
    "# Load survey results\n",
    "surveyh5 = h5py.File(os.path.join(relative_path,r'../scripts/summarize/inputs/calibration/survey.h5'))"
   ]
  },
  {
   "cell_type": "code",
   "execution_count": 5,
   "metadata": {
    "collapsed": true
   },
   "outputs": [],
   "source": [
    "survey_trip = pd.DataFrame()\n",
    "survey_person = pd.DataFrame()\n",
    "survey_household = pd.DataFrame()\n",
    "for col in surveyh5['Trip'].keys():\n",
    "    survey_trip[col] = surveyh5['Trip'][col][:]\n",
    "    \n",
    "for col in surveyh5['Person'].keys():\n",
    "    survey_person[col] = surveyh5['Person'][col][:]\n",
    "    \n",
    "for col in surveyh5['Household'].keys():\n",
    "    survey_household[col] = surveyh5['Household'][col][:]"
   ]
  },
  {
   "cell_type": "code",
   "execution_count": 6,
   "metadata": {
    "collapsed": false
   },
   "outputs": [],
   "source": [
    "taz_district= pd.read_csv(os.path.join(relative_path,r'../scripts/summarize/inputs/county_taz.csv'))"
   ]
  },
  {
   "cell_type": "code",
   "execution_count": 7,
   "metadata": {
    "collapsed": false
   },
   "outputs": [
    {
     "data": {
      "text/plain": [
       "Index([u'taz', u'geog_name', u'district', u'lat_1', u'lon_1'], dtype='object')"
      ]
     },
     "execution_count": 7,
     "metadata": {},
     "output_type": "execute_result"
    }
   ],
   "source": [
    "taz_district.columns"
   ]
  },
  {
   "cell_type": "code",
   "execution_count": 8,
   "metadata": {
    "collapsed": false
   },
   "outputs": [],
   "source": [
    "household_district = pd.merge(household, taz_district, left_on = 'hhtaz', right_on = 'taz')"
   ]
  },
  {
   "cell_type": "code",
   "execution_count": 9,
   "metadata": {
    "collapsed": true
   },
   "outputs": [],
   "source": [
    "household_survey_district = pd.merge(survey_household, taz_district, left_on = 'hhtaz', right_on = 'taz')"
   ]
  },
  {
   "cell_type": "code",
   "execution_count": 10,
   "metadata": {
    "collapsed": false
   },
   "outputs": [
    {
     "data": {
      "text/plain": [
       "Index([u'hhno', u'fraction_with_jobs_outside', u'hhsize', u'hhvehs', u'hhwkrs',\n",
       "       u'hhftw', u'hhptw', u'hhret', u'hhoad', u'hhuni', u'hhhsc', u'hh515',\n",
       "       u'hhcu5', u'hhincome', u'hownrent', u'hrestype', u'hhparcel',\n",
       "       u'zone_id', u'hhtaz', u'hhexpfac', u'samptype', u'taz', u'geog_name',\n",
       "       u'district', u'lat_1', u'lon_1'],\n",
       "      dtype='object')"
      ]
     },
     "execution_count": 10,
     "metadata": {},
     "output_type": "execute_result"
    }
   ],
   "source": [
    "household_district.columns"
   ]
  },
  {
   "cell_type": "code",
   "execution_count": 11,
   "metadata": {
    "collapsed": false
   },
   "outputs": [],
   "source": [
    "household_district.groupby(['hhvehs', 'district']).sum()['hhexpfac'].to_clipboard()"
   ]
  },
  {
   "cell_type": "code",
   "execution_count": 12,
   "metadata": {
    "collapsed": true
   },
   "outputs": [],
   "source": [
    "household_survey_district.groupby(['hhvehs', 'district']).sum()['hhexpfac'].to_clipboard()"
   ]
  },
  {
   "cell_type": "code",
   "execution_count": 13,
   "metadata": {
    "collapsed": false
   },
   "outputs": [],
   "source": [
    "drivers_trips = trip.loc[(trip['dorp']==1 ) & (trip['mode'] !=7)]"
   ]
  },
  {
   "cell_type": "code",
   "execution_count": 14,
   "metadata": {
    "collapsed": false
   },
   "outputs": [],
   "source": [
    "drivers_trips_survey = survey_trip.loc[(survey_trip['dorp']==1 ) & (survey_trip['mode'] !=7)]"
   ]
  },
  {
   "cell_type": "code",
   "execution_count": 23,
   "metadata": {
    "collapsed": false
   },
   "outputs": [],
   "source": [
    "household_trips = pd.merge(household_district, drivers_trips, on='hhno')\n",
    "households_trips_survey = pd.merge(household_survey_district, drivers_trips_survey, on = 'hhno')"
   ]
  },
  {
   "cell_type": "code",
   "execution_count": 24,
   "metadata": {
    "collapsed": true
   },
   "outputs": [],
   "source": [
    "household_trips['weighted_distance'] = household_trips['hhexpfac']* household_trips['travdist']"
   ]
  },
  {
   "cell_type": "code",
   "execution_count": 26,
   "metadata": {
    "collapsed": false
   },
   "outputs": [],
   "source": [
    "household_trips.groupby('district').sum()['weighted_distance'].to_clipboard()\n"
   ]
  },
  {
   "cell_type": "code",
   "execution_count": 29,
   "metadata": {
    "collapsed": false
   },
   "outputs": [],
   "source": [
    "households_trips_survey['weighted_distance'] = households_trips_survey['hhexpfac']* households_trips_survey['travdist']\n",
    "households_trips_survey.groupby('district').sum()['weighted_distance'].to_clipboard()"
   ]
  },
  {
   "cell_type": "code",
   "execution_count": null,
   "metadata": {
    "collapsed": true
   },
   "outputs": [],
   "source": []
  }
 ],
 "metadata": {
  "anaconda-cloud": {},
  "kernelspec": {
   "display_name": "Python [default]",
   "language": "python",
   "name": "python2"
  },
  "language_info": {
   "codemirror_mode": {
    "name": "ipython",
    "version": 2
   },
   "file_extension": ".py",
   "mimetype": "text/x-python",
   "name": "python",
   "nbconvert_exporter": "python",
   "pygments_lexer": "ipython2",
   "version": "2.7.12"
  }
 },
 "nbformat": 4,
 "nbformat_minor": 1
}
