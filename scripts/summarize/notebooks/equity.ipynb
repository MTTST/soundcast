{
 "cells": [
  {
   "cell_type": "code",
   "execution_count": 1,
   "metadata": {
    "collapsed": true
   },
   "outputs": [],
   "source": [
    "import pandas as pd\n",
    "import os\n",
    "\n",
    "%matplotlib inline"
   ]
  },
  {
   "cell_type": "code",
   "execution_count": 2,
   "metadata": {
    "collapsed": true
   },
   "outputs": [],
   "source": [
    "def apply_labels(df,table_type):\n",
    "    '''\n",
    "    Replace values with human readable lablels.\n",
    "    '''\n",
    "    df_label = labels[labels['table'] == table_type]\n",
    "    for field in df_label['field'].unique():\n",
    "        newdf = df_label[df_label['field'] == field]\n",
    "        local_series = pd.Series(newdf['text'].values, index=newdf['value'])\n",
    "        df[field] = df[field].map(local_series)\n",
    "    \n",
    "    return df"
   ]
  },
  {
   "cell_type": "code",
   "execution_count": 3,
   "metadata": {
    "collapsed": true
   },
   "outputs": [],
   "source": [
    "# Daysim data\n",
    "trip = pd.read_csv(r'../../../outputs/daysim/_trip.tsv', sep='\\t')\n",
    "person = pd.read_csv(r'../../../outputs/daysim/_person.tsv', sep='\\t')\n",
    "hh = pd.read_csv(r'../../../outputs/daysim/_household.tsv', sep='\\t')\n",
    "\n",
    "# Add labels\n",
    "labels = pd.read_csv(r'../../../scripts/summarize/inputs/calibration/variable_labels.csv')\n",
    "\n",
    "trip = apply_labels(trip,'Trip')\n",
    "person = apply_labels(person,'Person')\n",
    "hh = apply_labels(hh,'Household')"
   ]
  },
  {
   "cell_type": "code",
   "execution_count": 4,
   "metadata": {
    "collapsed": true
   },
   "outputs": [],
   "source": [
    "\n",
    "special_taz = pd.read_csv(r'../inputs/special_needs_taz.csv')\n",
    "rgc_taz = pd.read_csv(r'../../../scripts/summarize/inputs/rgc_taz.csv')"
   ]
  },
  {
   "cell_type": "code",
   "execution_count": 5,
   "metadata": {
    "collapsed": true
   },
   "outputs": [],
   "source": [
    "# Join RGC, low income, and minority data, based on home location\n",
    "\n",
    "trip_hh = pd.merge(trip,hh,on='hhno',how='left')\n",
    "\n",
    "trip_hh = pd.merge(trip_hh, special_taz, left_on='hhtaz', right_on='TAZ', how='left')\n",
    "trip_hh = pd.merge(trip_hh, rgc_taz, left_on='hhtaz', right_on='taz', how='left')"
   ]
  },
  {
   "cell_type": "code",
   "execution_count": 6,
   "metadata": {
    "collapsed": true
   },
   "outputs": [],
   "source": [
    "pd.options.display.float_format = '{:.2f}'.format"
   ]
  },
  {
   "cell_type": "markdown",
   "metadata": {},
   "source": [
    "## Mode Share\n",
    "Based on home location"
   ]
  },
  {
   "cell_type": "code",
   "execution_count": 10,
   "metadata": {
    "collapsed": true
   },
   "outputs": [],
   "source": [
    "def mode_share(trip_hh):\n",
    "    \"\"\"\n",
    "    Produce trip mode share for low income, minority, and regional populations\n",
    "    \"\"\"\n",
    "    # Regional total\n",
    "    df_reg = pd.DataFrame(\n",
    "        trip_hh.groupby('mode').sum()['trexpfac']/trip_hh['trexpfac'].sum()*100)\n",
    "    df_reg.columns = ['Region']\n",
    "    df_reg = df_reg.reset_index()\n",
    "    \n",
    "    # Low Income\n",
    "    df = trip_hh[['trexpfac','Low Income','mode']].groupby(['Low Income','mode']).sum().reset_index()\n",
    "    tot_trips = pd.DataFrame(df.groupby('Low Income').sum()['trexpfac']).reset_index()\n",
    "    df = pd.merge(df,tot_trips,on='Low Income', suffixes=['_mode','_total'])\n",
    "    df['mode_share'] = (df['trexpfac_mode']/df['trexpfac_total'])*100\n",
    "\n",
    "    df_inc = df.pivot(index='Low Income', columns='mode', values='mode_share')\n",
    "    df_inc.index = ['Other','People of Lower Income']\n",
    "    \n",
    "    # Minority\n",
    "    df = trip_hh[['trexpfac','Minority','mode']].groupby(['Minority','mode']).sum().reset_index()\n",
    "    tot_trips = pd.DataFrame(df.groupby('Minority').sum()['trexpfac']).reset_index()\n",
    "    df = pd.merge(df,tot_trips,on='Minority', suffixes=['_mode','_total'])\n",
    "    df['mode_share'] = (df['trexpfac_mode']/df['trexpfac_total'])*100\n",
    "\n",
    "    df_race = df.pivot(index='Minority', columns='mode', values='mode_share')\n",
    "    df_race.index = ['Other','People of Color']\n",
    "    \n",
    "    # Merge all dataframes\n",
    "    df = pd.merge(pd.DataFrame(df_race.loc['People of Color']).reset_index(),\n",
    "         pd.DataFrame(df_inc.loc['People of Lower Income']).reset_index())\n",
    "    df = pd.merge(df_reg, df)\n",
    "    df.index = df['mode']\n",
    "    df = df.drop('mode', axis=1)\n",
    "    return df"
   ]
  },
  {
   "cell_type": "markdown",
   "metadata": {},
   "source": [
    "### All Trips"
   ]
  },
  {
   "cell_type": "code",
   "execution_count": 59,
   "metadata": {
    "collapsed": true
   },
   "outputs": [],
   "source": [
    "pd.options.display.float_format = '{:.2f}%'.format\n",
    "df = mode_share(trip_hh)\n",
    "df"
   ]
  },
  {
   "cell_type": "markdown",
   "metadata": {},
   "source": [
    "### Commute Trips"
   ]
  },
  {
   "cell_type": "code",
   "execution_count": 15,
   "metadata": {},
   "outputs": [
    {
     "data": {
      "text/html": [
       "<div>\n",
       "<table border=\"1\" class=\"dataframe\">\n",
       "  <thead>\n",
       "    <tr style=\"text-align: right;\">\n",
       "      <th></th>\n",
       "      <th>Region</th>\n",
       "      <th>People of Color</th>\n",
       "      <th>People of Lower Income</th>\n",
       "    </tr>\n",
       "    <tr>\n",
       "      <th>mode</th>\n",
       "      <th></th>\n",
       "      <th></th>\n",
       "      <th></th>\n",
       "    </tr>\n",
       "  </thead>\n",
       "  <tbody>\n",
       "    <tr>\n",
       "      <th>Bike</th>\n",
       "      <td>2.32%</td>\n",
       "      <td>2.48%</td>\n",
       "      <td>2.75%</td>\n",
       "    </tr>\n",
       "    <tr>\n",
       "      <th>HOV2</th>\n",
       "      <td>9.59%</td>\n",
       "      <td>9.70%</td>\n",
       "      <td>9.58%</td>\n",
       "    </tr>\n",
       "    <tr>\n",
       "      <th>HOV3+</th>\n",
       "      <td>4.34%</td>\n",
       "      <td>4.48%</td>\n",
       "      <td>4.39%</td>\n",
       "    </tr>\n",
       "    <tr>\n",
       "      <th>SOV</th>\n",
       "      <td>65.40%</td>\n",
       "      <td>63.91%</td>\n",
       "      <td>63.72%</td>\n",
       "    </tr>\n",
       "    <tr>\n",
       "      <th>Transit</th>\n",
       "      <td>6.33%</td>\n",
       "      <td>6.70%</td>\n",
       "      <td>6.21%</td>\n",
       "    </tr>\n",
       "    <tr>\n",
       "      <th>Walk</th>\n",
       "      <td>12.01%</td>\n",
       "      <td>12.73%</td>\n",
       "      <td>13.36%</td>\n",
       "    </tr>\n",
       "  </tbody>\n",
       "</table>\n",
       "</div>"
      ],
      "text/plain": [
       "         Region  People of Color  People of Lower Income\n",
       "mode                                                    \n",
       "Bike      2.32%            2.48%                   2.75%\n",
       "HOV2      9.59%            9.70%                   9.58%\n",
       "HOV3+     4.34%            4.48%                   4.39%\n",
       "SOV      65.40%           63.91%                  63.72%\n",
       "Transit   6.33%            6.70%                   6.21%\n",
       "Walk     12.01%           12.73%                  13.36%"
      ]
     },
     "execution_count": 15,
     "metadata": {},
     "output_type": "execute_result"
    }
   ],
   "source": [
    "commute_trips = trip_hh[trip_hh['dpurp'] == 'Work']\n",
    "commute_trips = commute_trips[commute_trips['mode'] != 'School Bus']\n",
    "df = mode_share(commute_trips)\n",
    "df"
   ]
  },
  {
   "cell_type": "markdown",
   "metadata": {},
   "source": [
    "### By Regional Growth Center\n",
    "Households living in the center"
   ]
  },
  {
   "cell_type": "markdown",
   "metadata": {},
   "source": [
    "#### All Trips"
   ]
  },
  {
   "cell_type": "code",
   "execution_count": 21,
   "metadata": {},
   "outputs": [
    {
     "data": {
      "text/html": [
       "<div>\n",
       "<table border=\"1\" class=\"dataframe\">\n",
       "  <thead>\n",
       "    <tr style=\"text-align: right;\">\n",
       "      <th>mode</th>\n",
       "      <th>Bike</th>\n",
       "      <th>HOV2</th>\n",
       "      <th>HOV3+</th>\n",
       "      <th>SOV</th>\n",
       "      <th>School Bus</th>\n",
       "      <th>Transit</th>\n",
       "      <th>Walk</th>\n",
       "    </tr>\n",
       "    <tr>\n",
       "      <th>geog_name</th>\n",
       "      <th></th>\n",
       "      <th></th>\n",
       "      <th></th>\n",
       "      <th></th>\n",
       "      <th></th>\n",
       "      <th></th>\n",
       "      <th></th>\n",
       "    </tr>\n",
       "  </thead>\n",
       "  <tbody>\n",
       "    <tr>\n",
       "      <th>Auburn</th>\n",
       "      <td>2.45%</td>\n",
       "      <td>22.77%</td>\n",
       "      <td>14.12%</td>\n",
       "      <td>32.48%</td>\n",
       "      <td>0.98%</td>\n",
       "      <td>5.63%</td>\n",
       "      <td>21.58%</td>\n",
       "    </tr>\n",
       "    <tr>\n",
       "      <th>Bellevue</th>\n",
       "      <td>2.03%</td>\n",
       "      <td>14.57%</td>\n",
       "      <td>7.05%</td>\n",
       "      <td>26.81%</td>\n",
       "      <td>0.86%</td>\n",
       "      <td>6.60%</td>\n",
       "      <td>42.08%</td>\n",
       "    </tr>\n",
       "    <tr>\n",
       "      <th>Bremerton</th>\n",
       "      <td>2.85%</td>\n",
       "      <td>17.34%</td>\n",
       "      <td>10.87%</td>\n",
       "      <td>30.20%</td>\n",
       "      <td>2.09%</td>\n",
       "      <td>3.20%</td>\n",
       "      <td>33.46%</td>\n",
       "    </tr>\n",
       "    <tr>\n",
       "      <th>Everett</th>\n",
       "      <td>3.25%</td>\n",
       "      <td>15.53%</td>\n",
       "      <td>7.74%</td>\n",
       "      <td>33.04%</td>\n",
       "      <td>0.96%</td>\n",
       "      <td>1.98%</td>\n",
       "      <td>37.49%</td>\n",
       "    </tr>\n",
       "    <tr>\n",
       "      <th>Issaquah</th>\n",
       "      <td>0.32%</td>\n",
       "      <td>15.51%</td>\n",
       "      <td>11.71%</td>\n",
       "      <td>53.16%</td>\n",
       "      <td>1.42%</td>\n",
       "      <td>6.96%</td>\n",
       "      <td>10.92%</td>\n",
       "    </tr>\n",
       "    <tr>\n",
       "      <th>Lynnwood</th>\n",
       "      <td>2.00%</td>\n",
       "      <td>22.22%</td>\n",
       "      <td>14.13%</td>\n",
       "      <td>33.52%</td>\n",
       "      <td>2.59%</td>\n",
       "      <td>2.17%</td>\n",
       "      <td>23.36%</td>\n",
       "    </tr>\n",
       "    <tr>\n",
       "      <th>Redmond Downtown</th>\n",
       "      <td>2.56%</td>\n",
       "      <td>16.67%</td>\n",
       "      <td>8.60%</td>\n",
       "      <td>37.57%</td>\n",
       "      <td>0.93%</td>\n",
       "      <td>6.44%</td>\n",
       "      <td>27.23%</td>\n",
       "    </tr>\n",
       "    <tr>\n",
       "      <th>Renton</th>\n",
       "      <td>1.72%</td>\n",
       "      <td>16.86%</td>\n",
       "      <td>9.17%</td>\n",
       "      <td>41.02%</td>\n",
       "      <td>1.31%</td>\n",
       "      <td>6.94%</td>\n",
       "      <td>22.99%</td>\n",
       "    </tr>\n",
       "    <tr>\n",
       "      <th>Seattle Downtown</th>\n",
       "      <td>4.14%</td>\n",
       "      <td>9.24%</td>\n",
       "      <td>3.46%</td>\n",
       "      <td>19.88%</td>\n",
       "      <td>0.46%</td>\n",
       "      <td>11.72%</td>\n",
       "      <td>51.09%</td>\n",
       "    </tr>\n",
       "    <tr>\n",
       "      <th>Seattle Northgate</th>\n",
       "      <td>2.67%</td>\n",
       "      <td>16.97%</td>\n",
       "      <td>9.54%</td>\n",
       "      <td>33.96%</td>\n",
       "      <td>1.09%</td>\n",
       "      <td>8.99%</td>\n",
       "      <td>26.77%</td>\n",
       "    </tr>\n",
       "    <tr>\n",
       "      <th>Seattle University Community</th>\n",
       "      <td>4.23%</td>\n",
       "      <td>12.27%</td>\n",
       "      <td>7.41%</td>\n",
       "      <td>23.58%</td>\n",
       "      <td>1.18%</td>\n",
       "      <td>11.04%</td>\n",
       "      <td>40.29%</td>\n",
       "    </tr>\n",
       "    <tr>\n",
       "      <th>Seattle Uptown</th>\n",
       "      <td>4.20%</td>\n",
       "      <td>10.91%</td>\n",
       "      <td>4.16%</td>\n",
       "      <td>29.42%</td>\n",
       "      <td>0.38%</td>\n",
       "      <td>11.60%</td>\n",
       "      <td>39.33%</td>\n",
       "    </tr>\n",
       "    <tr>\n",
       "      <th>Tacoma Downtown</th>\n",
       "      <td>3.39%</td>\n",
       "      <td>15.49%</td>\n",
       "      <td>7.90%</td>\n",
       "      <td>29.68%</td>\n",
       "      <td>1.35%</td>\n",
       "      <td>6.19%</td>\n",
       "      <td>36.00%</td>\n",
       "    </tr>\n",
       "  </tbody>\n",
       "</table>\n",
       "</div>"
      ],
      "text/plain": [
       "mode                          Bike   HOV2  HOV3+    SOV  School Bus  Transit  \\\n",
       "geog_name                                                                      \n",
       "Auburn                       2.45% 22.77% 14.12% 32.48%       0.98%    5.63%   \n",
       "Bellevue                     2.03% 14.57%  7.05% 26.81%       0.86%    6.60%   \n",
       "Bremerton                    2.85% 17.34% 10.87% 30.20%       2.09%    3.20%   \n",
       "Everett                      3.25% 15.53%  7.74% 33.04%       0.96%    1.98%   \n",
       "Issaquah                     0.32% 15.51% 11.71% 53.16%       1.42%    6.96%   \n",
       "Lynnwood                     2.00% 22.22% 14.13% 33.52%       2.59%    2.17%   \n",
       "Redmond Downtown             2.56% 16.67%  8.60% 37.57%       0.93%    6.44%   \n",
       "Renton                       1.72% 16.86%  9.17% 41.02%       1.31%    6.94%   \n",
       "Seattle Downtown             4.14%  9.24%  3.46% 19.88%       0.46%   11.72%   \n",
       "Seattle Northgate            2.67% 16.97%  9.54% 33.96%       1.09%    8.99%   \n",
       "Seattle University Community 4.23% 12.27%  7.41% 23.58%       1.18%   11.04%   \n",
       "Seattle Uptown               4.20% 10.91%  4.16% 29.42%       0.38%   11.60%   \n",
       "Tacoma Downtown              3.39% 15.49%  7.90% 29.68%       1.35%    6.19%   \n",
       "\n",
       "mode                           Walk  \n",
       "geog_name                            \n",
       "Auburn                       21.58%  \n",
       "Bellevue                     42.08%  \n",
       "Bremerton                    33.46%  \n",
       "Everett                      37.49%  \n",
       "Issaquah                     10.92%  \n",
       "Lynnwood                     23.36%  \n",
       "Redmond Downtown             27.23%  \n",
       "Renton                       22.99%  \n",
       "Seattle Downtown             51.09%  \n",
       "Seattle Northgate            26.77%  \n",
       "Seattle University Community 40.29%  \n",
       "Seattle Uptown               39.33%  \n",
       "Tacoma Downtown              36.00%  "
      ]
     },
     "execution_count": 21,
     "metadata": {},
     "output_type": "execute_result"
    }
   ],
   "source": [
    "# Transit Mode share by RGC home location\n",
    "df = trip_hh[['trexpfac','geog_name','mode']].groupby(['geog_name','mode']).sum().reset_index()\n",
    "tot_rgc = trip_hh[['trexpfac','geog_name']].groupby('geog_name').sum().reset_index()\n",
    "df = pd.merge(df,tot_rgc,on='geog_name', suffixes=['_mode','_total'])\n",
    "df['mode_share'] = (df['trexpfac_mode']/df['trexpfac_total'])*100\n",
    "\n",
    "df = df.pivot(index='geog_name', columns='mode', values='mode_share')\n",
    "# Trim the number of RGCs\n",
    "rgc_list = ['Auburn','Bellevue','Bremerton','Everett','Issaquah','Lynnwood','Redmond Downtown',\n",
    "       'Renton','Seattle Downtown','Seattle Northgate','Seattle University Community',\n",
    "        'Seattle Uptown', 'Tacoma Downtown']\n",
    "df.loc[rgc_list]"
   ]
  },
  {
   "cell_type": "markdown",
   "metadata": {},
   "source": []
  },
  {
   "cell_type": "markdown",
   "metadata": {},
   "source": [
    "#### Commute Trips"
   ]
  },
  {
   "cell_type": "code",
   "execution_count": 24,
   "metadata": {},
   "outputs": [
    {
     "data": {
      "text/html": [
       "<div>\n",
       "<table border=\"1\" class=\"dataframe\">\n",
       "  <thead>\n",
       "    <tr style=\"text-align: right;\">\n",
       "      <th>mode</th>\n",
       "      <th>Bike</th>\n",
       "      <th>HOV2</th>\n",
       "      <th>HOV3+</th>\n",
       "      <th>SOV</th>\n",
       "      <th>Transit</th>\n",
       "      <th>Walk</th>\n",
       "    </tr>\n",
       "    <tr>\n",
       "      <th>geog_name</th>\n",
       "      <th></th>\n",
       "      <th></th>\n",
       "      <th></th>\n",
       "      <th></th>\n",
       "      <th></th>\n",
       "      <th></th>\n",
       "    </tr>\n",
       "  </thead>\n",
       "  <tbody>\n",
       "    <tr>\n",
       "      <th>Auburn</th>\n",
       "      <td>5.15%</td>\n",
       "      <td>9.01%</td>\n",
       "      <td>3.86%</td>\n",
       "      <td>58.80%</td>\n",
       "      <td>7.73%</td>\n",
       "      <td>15.45%</td>\n",
       "    </tr>\n",
       "    <tr>\n",
       "      <th>Bellevue</th>\n",
       "      <td>2.56%</td>\n",
       "      <td>5.34%</td>\n",
       "      <td>2.00%</td>\n",
       "      <td>33.60%</td>\n",
       "      <td>9.02%</td>\n",
       "      <td>47.49%</td>\n",
       "    </tr>\n",
       "    <tr>\n",
       "      <th>Bremerton</th>\n",
       "      <td>5.23%</td>\n",
       "      <td>8.50%</td>\n",
       "      <td>4.97%</td>\n",
       "      <td>48.50%</td>\n",
       "      <td>3.79%</td>\n",
       "      <td>29.02%</td>\n",
       "    </tr>\n",
       "    <tr>\n",
       "      <th>Everett</th>\n",
       "      <td>4.31%</td>\n",
       "      <td>7.33%</td>\n",
       "      <td>2.80%</td>\n",
       "      <td>47.82%</td>\n",
       "      <td>4.20%</td>\n",
       "      <td>33.53%</td>\n",
       "    </tr>\n",
       "    <tr>\n",
       "      <th>Issaquah</th>\n",
       "      <td>0.00%</td>\n",
       "      <td>4.17%</td>\n",
       "      <td>1.67%</td>\n",
       "      <td>67.50%</td>\n",
       "      <td>12.50%</td>\n",
       "      <td>14.17%</td>\n",
       "    </tr>\n",
       "    <tr>\n",
       "      <th>Lynnwood</th>\n",
       "      <td>2.10%</td>\n",
       "      <td>8.59%</td>\n",
       "      <td>2.80%</td>\n",
       "      <td>59.54%</td>\n",
       "      <td>5.59%</td>\n",
       "      <td>21.38%</td>\n",
       "    </tr>\n",
       "    <tr>\n",
       "      <th>Redmond Downtown</th>\n",
       "      <td>3.71%</td>\n",
       "      <td>8.15%</td>\n",
       "      <td>3.08%</td>\n",
       "      <td>50.20%</td>\n",
       "      <td>10.92%</td>\n",
       "      <td>23.94%</td>\n",
       "    </tr>\n",
       "    <tr>\n",
       "      <th>Renton</th>\n",
       "      <td>2.62%</td>\n",
       "      <td>8.49%</td>\n",
       "      <td>3.12%</td>\n",
       "      <td>59.28%</td>\n",
       "      <td>10.17%</td>\n",
       "      <td>16.32%</td>\n",
       "    </tr>\n",
       "    <tr>\n",
       "      <th>Seattle Downtown</th>\n",
       "      <td>4.44%</td>\n",
       "      <td>4.73%</td>\n",
       "      <td>1.60%</td>\n",
       "      <td>24.64%</td>\n",
       "      <td>11.32%</td>\n",
       "      <td>53.26%</td>\n",
       "    </tr>\n",
       "    <tr>\n",
       "      <th>Seattle Northgate</th>\n",
       "      <td>3.45%</td>\n",
       "      <td>8.44%</td>\n",
       "      <td>3.61%</td>\n",
       "      <td>50.32%</td>\n",
       "      <td>12.63%</td>\n",
       "      <td>21.55%</td>\n",
       "    </tr>\n",
       "    <tr>\n",
       "      <th>Seattle University Community</th>\n",
       "      <td>4.61%</td>\n",
       "      <td>8.11%</td>\n",
       "      <td>3.58%</td>\n",
       "      <td>41.45%</td>\n",
       "      <td>14.92%</td>\n",
       "      <td>27.33%</td>\n",
       "    </tr>\n",
       "    <tr>\n",
       "      <th>Seattle Uptown</th>\n",
       "      <td>4.65%</td>\n",
       "      <td>5.20%</td>\n",
       "      <td>1.92%</td>\n",
       "      <td>33.18%</td>\n",
       "      <td>12.81%</td>\n",
       "      <td>42.24%</td>\n",
       "    </tr>\n",
       "    <tr>\n",
       "      <th>Tacoma Downtown</th>\n",
       "      <td>4.63%</td>\n",
       "      <td>7.11%</td>\n",
       "      <td>3.06%</td>\n",
       "      <td>45.74%</td>\n",
       "      <td>5.02%</td>\n",
       "      <td>34.45%</td>\n",
       "    </tr>\n",
       "  </tbody>\n",
       "</table>\n",
       "</div>"
      ],
      "text/plain": [
       "mode                          Bike  HOV2  HOV3+    SOV  Transit   Walk\n",
       "geog_name                                                             \n",
       "Auburn                       5.15% 9.01%  3.86% 58.80%    7.73% 15.45%\n",
       "Bellevue                     2.56% 5.34%  2.00% 33.60%    9.02% 47.49%\n",
       "Bremerton                    5.23% 8.50%  4.97% 48.50%    3.79% 29.02%\n",
       "Everett                      4.31% 7.33%  2.80% 47.82%    4.20% 33.53%\n",
       "Issaquah                     0.00% 4.17%  1.67% 67.50%   12.50% 14.17%\n",
       "Lynnwood                     2.10% 8.59%  2.80% 59.54%    5.59% 21.38%\n",
       "Redmond Downtown             3.71% 8.15%  3.08% 50.20%   10.92% 23.94%\n",
       "Renton                       2.62% 8.49%  3.12% 59.28%   10.17% 16.32%\n",
       "Seattle Downtown             4.44% 4.73%  1.60% 24.64%   11.32% 53.26%\n",
       "Seattle Northgate            3.45% 8.44%  3.61% 50.32%   12.63% 21.55%\n",
       "Seattle University Community 4.61% 8.11%  3.58% 41.45%   14.92% 27.33%\n",
       "Seattle Uptown               4.65% 5.20%  1.92% 33.18%   12.81% 42.24%\n",
       "Tacoma Downtown              4.63% 7.11%  3.06% 45.74%    5.02% 34.45%"
      ]
     },
     "execution_count": 24,
     "metadata": {},
     "output_type": "execute_result"
    }
   ],
   "source": [
    "# Transit Mode share by RGC home location\n",
    "df = commute_trips[['trexpfac','geog_name','mode']].groupby(['geog_name','mode']).sum().reset_index()\n",
    "tot_rgc = commute_trips[['trexpfac','geog_name']].groupby('geog_name').sum().reset_index()\n",
    "df = pd.merge(df,tot_rgc,on='geog_name', suffixes=['_mode','_total'])\n",
    "df['mode_share'] = (df['trexpfac_mode']/df['trexpfac_total'])*100\n",
    "\n",
    "df = df.pivot(index='geog_name', columns='mode', values='mode_share')\n",
    "# Trim the number of RGCs\n",
    "rgc_list = ['Auburn','Bellevue','Bremerton','Everett','Issaquah','Lynnwood','Redmond Downtown',\n",
    "       'Renton','Seattle Downtown','Seattle Northgate','Seattle University Community',\n",
    "        'Seattle Uptown', 'Tacoma Downtown']\n",
    "df = df.fillna(0)\n",
    "df.loc[rgc_list]"
   ]
  },
  {
   "cell_type": "markdown",
   "metadata": {},
   "source": [
    "# Trip Ends"
   ]
  },
  {
   "cell_type": "markdown",
   "metadata": {},
   "source": [
    "Results based on trip end location"
   ]
  },
  {
   "cell_type": "markdown",
   "metadata": {},
   "source": [
    "### Access to Frequent Transit"
   ]
  },
  {
   "cell_type": "code",
   "execution_count": 25,
   "metadata": {
    "collapsed": true
   },
   "outputs": [],
   "source": [
    "df = pd.read_csv(r'../../../outputs/transit/freq_transit_access.csv')\n",
    "# Join parcel data (transit access) to household recods\n",
    "df = pd.merge(hh[['hhparcel','hhsize','hhtaz']],df[['PARCELID','dist_frequent']],how='left',left_on='hhparcel',right_on='PARCELID')\n",
    "\n",
    "# join to geography fiels\n",
    "df = pd.merge(df, special_taz, left_on='hhtaz', right_on='TAZ', how='left')\n",
    "df = pd.merge(df, rgc_taz, left_on='hhtaz', right_on='taz', how='left')"
   ]
  },
  {
   "cell_type": "code",
   "execution_count": 27,
   "metadata": {
    "collapsed": true
   },
   "outputs": [],
   "source": [
    "# Only include househodls on parcels within 1/2 mile of frequent transit\n",
    "max_dist = 0.5\n",
    "df_freq = df[df['dist_frequent'] <= max_dist]"
   ]
  },
  {
   "cell_type": "code",
   "execution_count": null,
   "metadata": {
    "collapsed": true
   },
   "outputs": [],
   "source": [
    "# Calculate percent of people within that range"
   ]
  },
  {
   "cell_type": "code",
   "execution_count": 32,
   "metadata": {
    "collapsed": true
   },
   "outputs": [],
   "source": [
    "df_lowinc = pd.DataFrame(df_freq.groupby('Low Income').sum()['hhsize']/df.groupby('Low Income').sum()['hhsize'])"
   ]
  },
  {
   "cell_type": "code",
   "execution_count": 34,
   "metadata": {
    "collapsed": true
   },
   "outputs": [],
   "source": [
    "df_minority = pd.DataFrame(df_freq.groupby('Minority').sum()['hhsize']/df.groupby('Minority').sum()['hhsize'])"
   ]
  },
  {
   "cell_type": "code",
   "execution_count": 53,
   "metadata": {
    "collapsed": true
   },
   "outputs": [],
   "source": [
    "reg_share = df_freq.sum()['hhsize']/df.sum()['hhsize']"
   ]
  },
  {
   "cell_type": "code",
   "execution_count": 62,
   "metadata": {},
   "outputs": [
    {
     "data": {
      "text/html": [
       "<div>\n",
       "<table border=\"1\" class=\"dataframe\">\n",
       "  <thead>\n",
       "    <tr style=\"text-align: right;\">\n",
       "      <th></th>\n",
       "      <th>Percent with Access to Frequent Transit Service</th>\n",
       "    </tr>\n",
       "  </thead>\n",
       "  <tbody>\n",
       "    <tr>\n",
       "      <th>Region</th>\n",
       "      <td>66.95%</td>\n",
       "    </tr>\n",
       "    <tr>\n",
       "      <th>People of Color</th>\n",
       "      <td>79.48%</td>\n",
       "    </tr>\n",
       "    <tr>\n",
       "      <th>People of Low Income</th>\n",
       "      <td>78.08%</td>\n",
       "    </tr>\n",
       "  </tbody>\n",
       "</table>\n",
       "</div>"
      ],
      "text/plain": [
       "                      Percent with Access to Frequent Transit Service\n",
       "Region                                                         66.95%\n",
       "People of Color                                                79.48%\n",
       "People of Low Income                                           78.08%"
      ]
     },
     "execution_count": 62,
     "metadata": {},
     "output_type": "execute_result"
    }
   ],
   "source": [
    "_df = pd.DataFrame([reg_share,df_minority.loc[1].values[0],df_lowinc.loc[1].values[0]])\n",
    "_df.index = ['Region','People of Color','People of Low Income']\n",
    "_df.columns = ['Percent with Access to Frequent Transit Service']\n",
    "_df['Percent with Access to Frequent Transit Service'] = _df['Percent with Access to Frequent Transit Service']*100\n",
    "_df"
   ]
  },
  {
   "cell_type": "markdown",
   "metadata": {},
   "source": [
    "## Percent of People Walking and Biking for Transport"
   ]
  },
  {
   "cell_type": "code",
   "execution_count": 6,
   "metadata": {
    "collapsed": true
   },
   "outputs": [],
   "source": [
    "trip_person = pd.merge(trip,person,on=['hhno','pno'], how='left')\n",
    "person_hh = pd.merge(person,hh[['hhno','hhtaz']],on='hhno',how='left')\n",
    "bike_walk_trips = trip_person[trip_person['mode'].isin(['Bike','Walk'])]\n",
    "\n",
    "df = bike_walk_trips.groupby(['hhno','pno']).count()\n",
    "df = df.reset_index()\n",
    "df = df[['hhno','pno']]\n",
    "df['bike_walk'] = True\n",
    "\n",
    "df = pd.merge(person_hh,df,on=['hhno','pno'], how='left')\n",
    "df['bike_walk'] = df['bike_walk'].fillna(False)"
   ]
  },
  {
   "cell_type": "code",
   "execution_count": 117,
   "metadata": {
    "collapsed": true
   },
   "outputs": [],
   "source": [
    "pd.options.display.float_format = '{:,.1%}'.format\n",
    "reg_active = pd.DataFrame(df.groupby('bike_walk').sum()['psexpfac']/df['psexpfac'].sum()).loc[True]['psexpfac']"
   ]
  },
  {
   "cell_type": "code",
   "execution_count": 118,
   "metadata": {
    "collapsed": true
   },
   "outputs": [],
   "source": [
    "df = pd.merge(df, special_taz, left_on='hhtaz', right_on='TAZ', how='left')\n",
    "df = pd.merge(df, rgc_taz, left_on='hhtaz', right_on='taz', how='left')"
   ]
  },
  {
   "cell_type": "code",
   "execution_count": 119,
   "metadata": {
    "collapsed": true
   },
   "outputs": [],
   "source": [
    "_df = (df.groupby(['Low Income','bike_walk']).sum()['psexpfac']/df['psexpfac'].sum()).reset_index()\n",
    "low_inc_active = _df.ix[(df['Low Income'] == 1) & (df['bike_walk']==True),'psexpfac'].tolist()[0]"
   ]
  },
  {
   "cell_type": "code",
   "execution_count": 127,
   "metadata": {
    "collapsed": true
   },
   "outputs": [],
   "source": [
    "_df = (df.groupby(['Minority','bike_walk']).sum()['psexpfac']/df['psexpfac'].sum()).reset_index()\n",
    "minority_active = _df.ix[(df['Minority'] == 1) & (df['bike_walk']==True),'psexpfac'].tolist()[0]"
   ]
  },
  {
   "cell_type": "code",
   "execution_count": 128,
   "metadata": {},
   "outputs": [
    {
     "data": {
      "text/html": [
       "<div>\n",
       "<table border=\"1\" class=\"dataframe\">\n",
       "  <thead>\n",
       "    <tr style=\"text-align: right;\">\n",
       "      <th></th>\n",
       "      <th>% Walks or Bikes for Transportation</th>\n",
       "    </tr>\n",
       "  </thead>\n",
       "  <tbody>\n",
       "    <tr>\n",
       "      <th>Region</th>\n",
       "      <td>28.1%</td>\n",
       "    </tr>\n",
       "    <tr>\n",
       "      <th>People of Color</th>\n",
       "      <td>31.5%</td>\n",
       "    </tr>\n",
       "    <tr>\n",
       "      <th>People of Low Income</th>\n",
       "      <td>28.9%</td>\n",
       "    </tr>\n",
       "  </tbody>\n",
       "</table>\n",
       "</div>"
      ],
      "text/plain": [
       "                      % Walks or Bikes for Transportation\n",
       "Region                                              28.1%\n",
       "People of Color                                     31.5%\n",
       "People of Low Income                                28.9%"
      ]
     },
     "execution_count": 128,
     "metadata": {},
     "output_type": "execute_result"
    }
   ],
   "source": [
    "_df = pd.DataFrame([reg_active,minority_active,low_inc_active])\n",
    "_df.index = ['Region','People of Color','People of Low Income']\n",
    "_df.columns = ['% Walks or Bikes for Transportation']\n",
    "_df"
   ]
  },
  {
   "cell_type": "markdown",
   "metadata": {},
   "source": [
    "### Average Time Spent Walking"
   ]
  },
  {
   "cell_type": "code",
   "execution_count": null,
   "metadata": {
    "collapsed": true
   },
   "outputs": [],
   "source": [
    "# pd.options.display.float_format = \"{0:.2f}\".format\n",
    "# walk_trips = trip_person[trip_person['mode'] == 'Walk']\n",
    "# daily_walk_times = walk_trips.groupby(['hhno','pno']).sum()['travtime']"
   ]
  },
  {
   "cell_type": "code",
   "execution_count": 7,
   "metadata": {
    "collapsed": true
   },
   "outputs": [],
   "source": [
    "daily_tot_time = pd.DataFrame(trip_person.groupby(['pno','hhno','mode']).sum()['travtime'])\n",
    "daily_tot_time = daily_tot_time.reset_index()\n",
    "daily_walk_time = daily_tot_time[daily_tot_time['mode'] == 'Walk']"
   ]
  },
  {
   "cell_type": "code",
   "execution_count": 9,
   "metadata": {
    "collapsed": true
   },
   "outputs": [],
   "source": []
  },
  {
   "cell_type": "code",
   "execution_count": 21,
   "metadata": {},
   "outputs": [],
   "source": [
    "# Total walk time across region divided by total number of people\n",
    "reg_walk_time = daily_walk_time['travtime'].sum()/person['psexpfac'].sum()"
   ]
  },
  {
   "cell_type": "code",
   "execution_count": 26,
   "metadata": {},
   "outputs": [],
   "source": [
    "# Total for low inc and for rgc\n",
    "df = pd.merge(daily_tot_time,hh[['hhno','hhtaz']],on='hhno', how='left')\n",
    "df = pd.merge(df,rgc_taz,left_on='hhtaz',right_on='taz',how='left')\n",
    "df = pd.merge(df,special_taz,left_on='hhtaz',right_on='TAZ',how='left')"
   ]
  },
  {
   "cell_type": "code",
   "execution_count": 31,
   "metadata": {},
   "outputs": [],
   "source": [
    "low_inc_walk_time = df[df['Low Income'] == 1]['travtime'].sum()/person['psexpfac'].sum()\n",
    "minority_walk_time = df[df['Minority'] == 1]['travtime'].sum()/person['psexpfac'].sum()"
   ]
  },
  {
   "cell_type": "code",
   "execution_count": 35,
   "metadata": {},
   "outputs": [
    {
     "data": {
      "text/html": [
       "<div>\n",
       "<table border=\"1\" class=\"dataframe\">\n",
       "  <thead>\n",
       "    <tr style=\"text-align: right;\">\n",
       "      <th></th>\n",
       "      <th>Average Minutes Walking per Day</th>\n",
       "    </tr>\n",
       "  </thead>\n",
       "  <tbody>\n",
       "    <tr>\n",
       "      <th>Region</th>\n",
       "      <td>23.655430</td>\n",
       "    </tr>\n",
       "    <tr>\n",
       "      <th>People of Color</th>\n",
       "      <td>34.847464</td>\n",
       "    </tr>\n",
       "    <tr>\n",
       "      <th>People of Low Income</th>\n",
       "      <td>32.405263</td>\n",
       "    </tr>\n",
       "  </tbody>\n",
       "</table>\n",
       "</div>"
      ],
      "text/plain": [
       "                      Average Minutes Walking per Day\n",
       "Region                                      23.655430\n",
       "People of Color                             34.847464\n",
       "People of Low Income                        32.405263"
      ]
     },
     "execution_count": 35,
     "metadata": {},
     "output_type": "execute_result"
    }
   ],
   "source": [
    "df = pd.DataFrame([reg_walk_time,minority_walk_time,low_inc_walk_time])\n",
    "df.columns = ['Average Minutes Walking per Day']\n",
    "df.index = ['Region','People of Color','People of Low Income']\n",
    "df"
   ]
  },
  {
   "cell_type": "markdown",
   "metadata": {},
   "source": [
    "# Annual Out-of-Pocket Costs"
   ]
  },
  {
   "cell_type": "code",
   "execution_count": 46,
   "metadata": {},
   "outputs": [],
   "source": [
    "annual_factor = 300\n",
    "reg_costs = trip_hh[['hhno','travcost']].groupby('hhno').sum()['travcost'].mean()*annual_factor\n",
    "low_inc_costs = trip_hh[trip_hh['Low Income'] == 1][['hhno','travcost']].groupby('hhno').sum()['travcost'].mean()*annual_factor\n",
    "minority_costs = trip_hh[trip_hh['Minority'] == 1][['hhno','travcost']].groupby('hhno').sum()['travcost'].mean()*annual_factor"
   ]
  },
  {
   "cell_type": "code",
   "execution_count": 47,
   "metadata": {},
   "outputs": [
    {
     "data": {
      "text/html": [
       "<div>\n",
       "<table border=\"1\" class=\"dataframe\">\n",
       "  <thead>\n",
       "    <tr style=\"text-align: right;\">\n",
       "      <th></th>\n",
       "      <th>Annual Out-of-Pocket Costs</th>\n",
       "    </tr>\n",
       "  </thead>\n",
       "  <tbody>\n",
       "    <tr>\n",
       "      <th>Region</th>\n",
       "      <td>3483.524419</td>\n",
       "    </tr>\n",
       "    <tr>\n",
       "      <th>People of Color</th>\n",
       "      <td>3166.136363</td>\n",
       "    </tr>\n",
       "    <tr>\n",
       "      <th>People of Low Income</th>\n",
       "      <td>3055.232838</td>\n",
       "    </tr>\n",
       "  </tbody>\n",
       "</table>\n",
       "</div>"
      ],
      "text/plain": [
       "                      Annual Out-of-Pocket Costs\n",
       "Region                               3483.524419\n",
       "People of Color                      3166.136363\n",
       "People of Low Income                 3055.232838"
      ]
     },
     "execution_count": 47,
     "metadata": {},
     "output_type": "execute_result"
    }
   ],
   "source": [
    "df = pd.DataFrame([reg_costs,minority_costs,low_inc_costs])\n",
    "df.columns = ['Annual Out-of-Pocket Costs']\n",
    "df.index = ['Region','People of Color','People of Low Income']\n",
    "df"
   ]
  },
  {
   "cell_type": "markdown",
   "metadata": {},
   "source": [
    "### Daily VMT"
   ]
  },
  {
   "cell_type": "code",
   "execution_count": null,
   "metadata": {
    "collapsed": true
   },
   "outputs": [],
   "source": []
  },
  {
   "cell_type": "markdown",
   "metadata": {},
   "source": [
    "### Daily Total Trips"
   ]
  },
  {
   "cell_type": "code",
   "execution_count": null,
   "metadata": {
    "collapsed": true
   },
   "outputs": [],
   "source": []
  },
  {
   "cell_type": "markdown",
   "metadata": {},
   "source": [
    "### Annual Delay per Capita"
   ]
  },
  {
   "cell_type": "code",
   "execution_count": null,
   "metadata": {
    "collapsed": true
   },
   "outputs": [],
   "source": []
  }
 ],
 "metadata": {
  "kernelspec": {
   "display_name": "Python 2",
   "language": "python",
   "name": "python2"
  },
  "language_info": {
   "codemirror_mode": {
    "name": "ipython",
    "version": 2
   },
   "file_extension": ".py",
   "mimetype": "text/x-python",
   "name": "python",
   "nbconvert_exporter": "python",
   "pygments_lexer": "ipython2",
   "version": "2.7.13"
  }
 },
 "nbformat": 4,
 "nbformat_minor": 2
}
