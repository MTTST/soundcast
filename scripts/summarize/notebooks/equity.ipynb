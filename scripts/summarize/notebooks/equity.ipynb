{
 "cells": [
  {
   "cell_type": "code",
   "execution_count": 1,
   "metadata": {
    "collapsed": true
   },
   "outputs": [],
   "source": [
    "import pandas as pd\n",
    "import os\n",
    "\n",
    "%matplotlib inline"
   ]
  },
  {
   "cell_type": "code",
   "execution_count": 2,
   "metadata": {
    "collapsed": true
   },
   "outputs": [],
   "source": [
    "def apply_labels(df,table_type):\n",
    "    '''\n",
    "    Replace values with human readable lablels.\n",
    "    '''\n",
    "    df_label = labels[labels['table'] == table_type]\n",
    "    for field in df_label['field'].unique():\n",
    "        newdf = df_label[df_label['field'] == field]\n",
    "        local_series = pd.Series(newdf['text'].values, index=newdf['value'])\n",
    "        df[field] = df[field].map(local_series)\n",
    "    \n",
    "    return df"
   ]
  },
  {
   "cell_type": "code",
   "execution_count": 3,
   "metadata": {
    "collapsed": true
   },
   "outputs": [],
   "source": [
    "# Daysim data\n",
    "trip = pd.read_csv(r'../../../outputs/daysim/_trip.tsv', sep='\\t')\n",
    "person = pd.read_csv(r'../../../outputs/daysim/_person.tsv', sep='\\t')\n",
    "hh = pd.read_csv(r'../../../outputs/daysim/_household.tsv', sep='\\t')\n",
    "\n",
    "# Add labels\n",
    "labels = pd.read_csv(r'../../../scripts/summarize/inputs/calibration/variable_labels.csv')\n",
    "\n",
    "trip = apply_labels(trip,'Trip')\n",
    "person = apply_labels(person,'Person')\n",
    "hh = apply_labels(hh,'Household')"
   ]
  },
  {
   "cell_type": "code",
   "execution_count": 4,
   "metadata": {
    "collapsed": true
   },
   "outputs": [],
   "source": [
    "\n",
    "special_taz = pd.read_csv(r'../../../scripts/summarize/inputs/special_needs_taz.csv')\n",
    "rgc_taz = pd.read_csv(r'../../../scripts/summarize/inputs/rgc_taz.csv')"
   ]
  },
  {
   "cell_type": "code",
   "execution_count": 5,
   "metadata": {
    "collapsed": true
   },
   "outputs": [],
   "source": [
    "# Join RGC, low income, and minority data, based on home location\n",
    "\n",
    "trip_hh = pd.merge(trip,hh,on='hhno',how='left')\n",
    "\n",
    "trip_hh = pd.merge(trip_hh, special_taz, left_on='hhtaz', right_on='TAZ', how='left')\n",
    "trip_hh = pd.merge(trip_hh, rgc_taz, left_on='hhtaz', right_on='taz', how='left')"
   ]
  },
  {
   "cell_type": "code",
   "execution_count": 6,
   "metadata": {
    "collapsed": true
   },
   "outputs": [],
   "source": [
    "trip_hh = trip_hh[trip_hh['mode']!='School Bus']"
   ]
  },
  {
   "cell_type": "markdown",
   "metadata": {},
   "source": [
    "## Mode Share\n",
    "Based on home location"
   ]
  },
  {
   "cell_type": "code",
   "execution_count": 7,
   "metadata": {
    "collapsed": true
   },
   "outputs": [],
   "source": [
    "def mode_share(trip_hh):\n",
    "    \"\"\"\n",
    "    Produce trip mode share for low income, minority, and regional populations\n",
    "    \"\"\"\n",
    "    # Regional total\n",
    "    df_reg = pd.DataFrame(\n",
    "        trip_hh.groupby('mode').sum()['trexpfac']/trip_hh['trexpfac'].sum())\n",
    "    df_reg.columns = ['Region']\n",
    "    df_reg = df_reg.reset_index()\n",
    "    \n",
    "    # Low Income\n",
    "    df = trip_hh[['trexpfac','Low Income','mode']].groupby(['Low Income','mode']).sum().reset_index()\n",
    "    tot_trips = pd.DataFrame(df.groupby('Low Income').sum()['trexpfac']).reset_index()\n",
    "    df = pd.merge(df,tot_trips,on='Low Income', suffixes=['_mode','_total'])\n",
    "    df['mode_share'] = (df['trexpfac_mode']/df['trexpfac_total'])\n",
    "\n",
    "    df_inc = df.pivot(index='Low Income', columns='mode', values='mode_share')\n",
    "    df_inc.index = ['Other','People of Lower Income']\n",
    "    \n",
    "    # Minority\n",
    "    df = trip_hh[['trexpfac','Minority','mode']].groupby(['Minority','mode']).sum().reset_index()\n",
    "    tot_trips = pd.DataFrame(df.groupby('Minority').sum()['trexpfac']).reset_index()\n",
    "    df = pd.merge(df,tot_trips,on='Minority', suffixes=['_mode','_total'])\n",
    "    df['mode_share'] = (df['trexpfac_mode']/df['trexpfac_total'])\n",
    "\n",
    "    df_race = df.pivot(index='Minority', columns='mode', values='mode_share')\n",
    "    df_race.index = ['Other','People of Color']\n",
    "    \n",
    "    # Merge all dataframes\n",
    "    df = pd.merge(pd.DataFrame(df_race.loc['People of Color']).reset_index(),\n",
    "         pd.DataFrame(df_inc.loc['People of Lower Income']).reset_index())\n",
    "    df = pd.merge(df_reg, df)\n",
    "    df.index = df['mode']\n",
    "    df = df.drop('mode', axis=1)\n",
    "    return df"
   ]
  },
  {
   "cell_type": "markdown",
   "metadata": {},
   "source": [
    "### All Trips"
   ]
  },
  {
   "cell_type": "code",
   "execution_count": 8,
   "metadata": {},
   "outputs": [
    {
     "data": {
      "text/html": [
       "<div>\n",
       "<style>\n",
       "    .dataframe thead tr:only-child th {\n",
       "        text-align: right;\n",
       "    }\n",
       "\n",
       "    .dataframe thead th {\n",
       "        text-align: left;\n",
       "    }\n",
       "\n",
       "    .dataframe tbody tr th {\n",
       "        vertical-align: top;\n",
       "    }\n",
       "</style>\n",
       "<table border=\"1\" class=\"dataframe\">\n",
       "  <thead>\n",
       "    <tr style=\"text-align: right;\">\n",
       "      <th></th>\n",
       "      <th>Region</th>\n",
       "      <th>People of Color</th>\n",
       "      <th>People of Lower Income</th>\n",
       "    </tr>\n",
       "    <tr>\n",
       "      <th>mode</th>\n",
       "      <th></th>\n",
       "      <th></th>\n",
       "      <th></th>\n",
       "    </tr>\n",
       "  </thead>\n",
       "  <tbody>\n",
       "    <tr>\n",
       "      <th>Bike</th>\n",
       "      <td>0.021082</td>\n",
       "      <td>0.022717</td>\n",
       "      <td>0.023482</td>\n",
       "    </tr>\n",
       "    <tr>\n",
       "      <th>HOV2</th>\n",
       "      <td>0.217069</td>\n",
       "      <td>0.213865</td>\n",
       "      <td>0.212048</td>\n",
       "    </tr>\n",
       "    <tr>\n",
       "      <th>HOV3+</th>\n",
       "      <td>0.147098</td>\n",
       "      <td>0.148509</td>\n",
       "      <td>0.145561</td>\n",
       "    </tr>\n",
       "    <tr>\n",
       "      <th>SOV</th>\n",
       "      <td>0.381480</td>\n",
       "      <td>0.359407</td>\n",
       "      <td>0.357480</td>\n",
       "    </tr>\n",
       "    <tr>\n",
       "      <th>Transit</th>\n",
       "      <td>0.046945</td>\n",
       "      <td>0.054350</td>\n",
       "      <td>0.049408</td>\n",
       "    </tr>\n",
       "    <tr>\n",
       "      <th>Walk</th>\n",
       "      <td>0.186325</td>\n",
       "      <td>0.201151</td>\n",
       "      <td>0.212021</td>\n",
       "    </tr>\n",
       "  </tbody>\n",
       "</table>\n",
       "</div>"
      ],
      "text/plain": [
       "           Region  People of Color  People of Lower Income\n",
       "mode                                                      \n",
       "Bike     0.021082         0.022717                0.023482\n",
       "HOV2     0.217069         0.213865                0.212048\n",
       "HOV3+    0.147098         0.148509                0.145561\n",
       "SOV      0.381480         0.359407                0.357480\n",
       "Transit  0.046945         0.054350                0.049408\n",
       "Walk     0.186325         0.201151                0.212021"
      ]
     },
     "execution_count": 8,
     "metadata": {},
     "output_type": "execute_result"
    }
   ],
   "source": [
    "# pd.options.display.float_format = '{:.2f}'.format\n",
    "df = mode_share(trip_hh)\n",
    "df"
   ]
  },
  {
   "cell_type": "markdown",
   "metadata": {},
   "source": [
    "### Commute Trips"
   ]
  },
  {
   "cell_type": "code",
   "execution_count": 9,
   "metadata": {},
   "outputs": [
    {
     "data": {
      "text/html": [
       "<div>\n",
       "<style>\n",
       "    .dataframe thead tr:only-child th {\n",
       "        text-align: right;\n",
       "    }\n",
       "\n",
       "    .dataframe thead th {\n",
       "        text-align: left;\n",
       "    }\n",
       "\n",
       "    .dataframe tbody tr th {\n",
       "        vertical-align: top;\n",
       "    }\n",
       "</style>\n",
       "<table border=\"1\" class=\"dataframe\">\n",
       "  <thead>\n",
       "    <tr style=\"text-align: right;\">\n",
       "      <th></th>\n",
       "      <th>Region</th>\n",
       "      <th>People of Color</th>\n",
       "      <th>People of Lower Income</th>\n",
       "    </tr>\n",
       "    <tr>\n",
       "      <th>mode</th>\n",
       "      <th></th>\n",
       "      <th></th>\n",
       "      <th></th>\n",
       "    </tr>\n",
       "  </thead>\n",
       "  <tbody>\n",
       "    <tr>\n",
       "      <th>Bike</th>\n",
       "      <td>0.029851</td>\n",
       "      <td>0.031944</td>\n",
       "      <td>0.033934</td>\n",
       "    </tr>\n",
       "    <tr>\n",
       "      <th>HOV2</th>\n",
       "      <td>0.092516</td>\n",
       "      <td>0.092301</td>\n",
       "      <td>0.091603</td>\n",
       "    </tr>\n",
       "    <tr>\n",
       "      <th>HOV3+</th>\n",
       "      <td>0.042389</td>\n",
       "      <td>0.042870</td>\n",
       "      <td>0.042156</td>\n",
       "    </tr>\n",
       "    <tr>\n",
       "      <th>SOV</th>\n",
       "      <td>0.594783</td>\n",
       "      <td>0.565567</td>\n",
       "      <td>0.568169</td>\n",
       "    </tr>\n",
       "    <tr>\n",
       "      <th>Transit</th>\n",
       "      <td>0.087241</td>\n",
       "      <td>0.094974</td>\n",
       "      <td>0.087119</td>\n",
       "    </tr>\n",
       "    <tr>\n",
       "      <th>Walk</th>\n",
       "      <td>0.153219</td>\n",
       "      <td>0.172344</td>\n",
       "      <td>0.177019</td>\n",
       "    </tr>\n",
       "  </tbody>\n",
       "</table>\n",
       "</div>"
      ],
      "text/plain": [
       "           Region  People of Color  People of Lower Income\n",
       "mode                                                      \n",
       "Bike     0.029851         0.031944                0.033934\n",
       "HOV2     0.092516         0.092301                0.091603\n",
       "HOV3+    0.042389         0.042870                0.042156\n",
       "SOV      0.594783         0.565567                0.568169\n",
       "Transit  0.087241         0.094974                0.087119\n",
       "Walk     0.153219         0.172344                0.177019"
      ]
     },
     "execution_count": 9,
     "metadata": {},
     "output_type": "execute_result"
    }
   ],
   "source": [
    "commute_trips = trip_hh[trip_hh['dpurp'] == 'Work']\n",
    "commute_trips = commute_trips[commute_trips['mode'] != 'School Bus']\n",
    "df = mode_share(commute_trips)\n",
    "df"
   ]
  },
  {
   "cell_type": "markdown",
   "metadata": {},
   "source": [
    "### Access to Frequent Transit"
   ]
  },
  {
   "cell_type": "code",
   "execution_count": 10,
   "metadata": {
    "collapsed": true
   },
   "outputs": [],
   "source": [
    "df = pd.read_csv(r'../../../outputs/transit/freq_transit_access.csv')\n",
    "# Join parcel data (transit access) to household recods\n",
    "df = pd.merge(hh[['hhparcel','hhsize','hhtaz']],df[['PARCELID','dist_frequent']],how='left',left_on='hhparcel',right_on='PARCELID')\n",
    "\n",
    "# join to geography fiels\n",
    "df = pd.merge(df, special_taz, left_on='hhtaz', right_on='TAZ', how='left')\n",
    "df = pd.merge(df, rgc_taz, left_on='hhtaz', right_on='taz', how='left')"
   ]
  },
  {
   "cell_type": "code",
   "execution_count": 11,
   "metadata": {
    "collapsed": true
   },
   "outputs": [],
   "source": [
    "# Only include househodls on parcels within 1/2 mile of frequent transit\n",
    "max_dist = 0.5\n",
    "df_freq = df[df['dist_frequent'] <= max_dist]"
   ]
  },
  {
   "cell_type": "code",
   "execution_count": 12,
   "metadata": {
    "collapsed": true
   },
   "outputs": [],
   "source": [
    "# Calculate percent of people within that range"
   ]
  },
  {
   "cell_type": "code",
   "execution_count": 13,
   "metadata": {
    "collapsed": true
   },
   "outputs": [],
   "source": [
    "df_lowinc = pd.DataFrame(df_freq.groupby('Low Income').sum()['hhsize']/df.groupby('Low Income').sum()['hhsize'])"
   ]
  },
  {
   "cell_type": "code",
   "execution_count": 14,
   "metadata": {
    "collapsed": true
   },
   "outputs": [],
   "source": [
    "df_minority = pd.DataFrame(df_freq.groupby('Minority').sum()['hhsize']/df.groupby('Minority').sum()['hhsize'])"
   ]
  },
  {
   "cell_type": "code",
   "execution_count": 15,
   "metadata": {
    "collapsed": true
   },
   "outputs": [],
   "source": [
    "reg_share = df_freq.sum()['hhsize']/df.sum()['hhsize']"
   ]
  },
  {
   "cell_type": "code",
   "execution_count": 16,
   "metadata": {
    "collapsed": true
   },
   "outputs": [],
   "source": [
    "pd.options.display.float_format = '{:.2f}'.format"
   ]
  },
  {
   "cell_type": "code",
   "execution_count": 17,
   "metadata": {},
   "outputs": [
    {
     "data": {
      "text/html": [
       "<div>\n",
       "<style>\n",
       "    .dataframe thead tr:only-child th {\n",
       "        text-align: right;\n",
       "    }\n",
       "\n",
       "    .dataframe thead th {\n",
       "        text-align: left;\n",
       "    }\n",
       "\n",
       "    .dataframe tbody tr th {\n",
       "        vertical-align: top;\n",
       "    }\n",
       "</style>\n",
       "<table border=\"1\" class=\"dataframe\">\n",
       "  <thead>\n",
       "    <tr style=\"text-align: right;\">\n",
       "      <th></th>\n",
       "      <th>Percent with Access to Frequent Transit Service</th>\n",
       "    </tr>\n",
       "  </thead>\n",
       "  <tbody>\n",
       "    <tr>\n",
       "      <th>Region</th>\n",
       "      <td>36.52</td>\n",
       "    </tr>\n",
       "    <tr>\n",
       "      <th>People of Color</th>\n",
       "      <td>47.86</td>\n",
       "    </tr>\n",
       "    <tr>\n",
       "      <th>People of Low Income</th>\n",
       "      <td>42.29</td>\n",
       "    </tr>\n",
       "  </tbody>\n",
       "</table>\n",
       "</div>"
      ],
      "text/plain": [
       "                      Percent with Access to Frequent Transit Service\n",
       "Region                                                          36.52\n",
       "People of Color                                                 47.86\n",
       "People of Low Income                                            42.29"
      ]
     },
     "execution_count": 17,
     "metadata": {},
     "output_type": "execute_result"
    }
   ],
   "source": [
    "_df = pd.DataFrame([reg_share,df_minority.loc[1].values[0],df_lowinc.loc[1].values[0]])\n",
    "_df.index = ['Region','People of Color','People of Low Income']\n",
    "_df.columns = ['Percent with Access to Frequent Transit Service']\n",
    "_df['Percent with Access to Frequent Transit Service'] = _df['Percent with Access to Frequent Transit Service']*100\n",
    "_df"
   ]
  },
  {
   "cell_type": "markdown",
   "metadata": {},
   "source": [
    "## Percent of People Walking and Biking for Transport"
   ]
  },
  {
   "cell_type": "code",
   "execution_count": 39,
   "metadata": {
    "collapsed": true
   },
   "outputs": [],
   "source": [
    "trip_person = pd.merge(trip,person,on=['hhno','pno'], how='left')\n",
    "person_hh = pd.merge(person,hh[['hhno','hhtaz']],on='hhno',how='left')\n",
    "# bike_walk_trips = trip_person[trip_person['mode'].isin(['Bike','Walk'])]\n",
    "# Walk & bike modes, plus transit trips with walk access\n",
    "bike_walk_trips = trip_person[trip_person['mode'].isin(['Bike','Walk']) | ((trip_person['mode'] == 'Transit') & (trip_person['dorp'] > 0))]\n",
    "\n",
    "df = bike_walk_trips.groupby(['hhno','pno']).count()\n",
    "df = df.reset_index()\n",
    "df = df[['hhno','pno']]\n",
    "df['bike_walk'] = True\n",
    "\n",
    "df = pd.merge(person_hh,df,on=['hhno','pno'], how='left')\n",
    "df['bike_walk'] = df['bike_walk'].fillna(False)"
   ]
  },
  {
   "cell_type": "code",
   "execution_count": 40,
   "metadata": {
    "collapsed": true
   },
   "outputs": [],
   "source": [
    "pd.options.display.float_format = '{:,.1%}'.format\n",
    "reg_active = pd.DataFrame(df.groupby('bike_walk').sum()['psexpfac']/df['psexpfac'].sum()).loc[True]['psexpfac']"
   ]
  },
  {
   "cell_type": "code",
   "execution_count": 41,
   "metadata": {
    "collapsed": true
   },
   "outputs": [],
   "source": [
    "df = pd.merge(df, special_taz, left_on='hhtaz', right_on='TAZ', how='left')\n",
    "df = pd.merge(df, rgc_taz, left_on='hhtaz', right_on='taz', how='left')"
   ]
  },
  {
   "cell_type": "code",
   "execution_count": 69,
   "metadata": {},
   "outputs": [],
   "source": [
    "_df = pd.DataFrame(df[df['Low Income'] == 1].groupby(['bike_walk']).count()).reset_index()\n",
    "low_inc_active = _df[_df['bike_walk'] == True]['psexpfac'].tolist()[0]/_df.sum()['psexpfac']"
   ]
  },
  {
   "cell_type": "code",
   "execution_count": 71,
   "metadata": {
    "collapsed": true
   },
   "outputs": [],
   "source": [
    "_df = pd.DataFrame(df[df['Minority'] == 1].groupby(['bike_walk']).count()).reset_index()\n",
    "minority_active = _df[_df['bike_walk'] == True]['psexpfac'].tolist()[0]/_df.sum()['psexpfac']"
   ]
  },
  {
   "cell_type": "code",
   "execution_count": 74,
   "metadata": {},
   "outputs": [
    {
     "data": {
      "text/html": [
       "<div>\n",
       "<style>\n",
       "    .dataframe thead tr:only-child th {\n",
       "        text-align: right;\n",
       "    }\n",
       "\n",
       "    .dataframe thead th {\n",
       "        text-align: left;\n",
       "    }\n",
       "\n",
       "    .dataframe tbody tr th {\n",
       "        vertical-align: top;\n",
       "    }\n",
       "</style>\n",
       "<table border=\"1\" class=\"dataframe\">\n",
       "  <thead>\n",
       "    <tr style=\"text-align: right;\">\n",
       "      <th></th>\n",
       "      <th>% Walks or Bikes for Transportation</th>\n",
       "    </tr>\n",
       "  </thead>\n",
       "  <tbody>\n",
       "    <tr>\n",
       "      <th>Region</th>\n",
       "      <td>36.4%</td>\n",
       "    </tr>\n",
       "    <tr>\n",
       "      <th>People of Color</th>\n",
       "      <td>39.5%</td>\n",
       "    </tr>\n",
       "    <tr>\n",
       "      <th>People of Low Income</th>\n",
       "      <td>39.6%</td>\n",
       "    </tr>\n",
       "  </tbody>\n",
       "</table>\n",
       "</div>"
      ],
      "text/plain": [
       "                      % Walks or Bikes for Transportation\n",
       "Region                                              36.4%\n",
       "People of Color                                     39.5%\n",
       "People of Low Income                                39.6%"
      ]
     },
     "execution_count": 74,
     "metadata": {},
     "output_type": "execute_result"
    }
   ],
   "source": [
    "_df = pd.DataFrame([reg_active,minority_active,low_inc_active])\n",
    "_df.index = ['Region','People of Color','People of Low Income']\n",
    "_df.columns = ['% Walks or Bikes for Transportation']\n",
    "_df"
   ]
  },
  {
   "cell_type": "markdown",
   "metadata": {},
   "source": [
    "### Average Time Spent Walking"
   ]
  },
  {
   "cell_type": "code",
   "execution_count": 24,
   "metadata": {
    "collapsed": true
   },
   "outputs": [],
   "source": [
    "pd.options.display.float_format = \"{0:.2f}\".format\n",
    "# walk_trips = trip_person[trip_person['mode'] == 'Walk']\n",
    "# daily_walk_times = walk_trips.groupby(['hhno','pno']).sum()['travtime']"
   ]
  },
  {
   "cell_type": "code",
   "execution_count": 25,
   "metadata": {
    "collapsed": true
   },
   "outputs": [],
   "source": [
    "daily_tot_time = pd.DataFrame(trip_person.groupby(['pno','hhno','mode']).sum()['travtime'])\n",
    "daily_tot_time = daily_tot_time.reset_index()\n",
    "daily_walk_time = daily_tot_time[daily_tot_time['mode'] == 'Walk']"
   ]
  },
  {
   "cell_type": "code",
   "execution_count": null,
   "metadata": {
    "collapsed": true
   },
   "outputs": [],
   "source": []
  },
  {
   "cell_type": "code",
   "execution_count": 26,
   "metadata": {
    "collapsed": true
   },
   "outputs": [],
   "source": [
    "# Total walk time across region divided by total number of people\n",
    "reg_walk_time = daily_walk_time['travtime'].sum()/person['psexpfac'].sum()"
   ]
  },
  {
   "cell_type": "code",
   "execution_count": 27,
   "metadata": {
    "collapsed": true
   },
   "outputs": [],
   "source": [
    "# Total for low inc and for rgc\n",
    "df = pd.merge(daily_tot_time,hh[['hhno','hhtaz']],on='hhno', how='left')\n",
    "df = pd.merge(df,rgc_taz,left_on='hhtaz',right_on='taz',how='left')\n",
    "df = pd.merge(df,special_taz,left_on='hhtaz',right_on='TAZ',how='left')"
   ]
  },
  {
   "cell_type": "code",
   "execution_count": 28,
   "metadata": {
    "collapsed": true
   },
   "outputs": [],
   "source": [
    "low_inc_walk_time = df[df['Low Income'] == 1]['travtime'].sum()/person['psexpfac'].sum()\n",
    "minority_walk_time = df[df['Minority'] == 1]['travtime'].sum()/person['psexpfac'].sum()"
   ]
  },
  {
   "cell_type": "code",
   "execution_count": 29,
   "metadata": {},
   "outputs": [
    {
     "data": {
      "text/html": [
       "<div>\n",
       "<style>\n",
       "    .dataframe thead tr:only-child th {\n",
       "        text-align: right;\n",
       "    }\n",
       "\n",
       "    .dataframe thead th {\n",
       "        text-align: left;\n",
       "    }\n",
       "\n",
       "    .dataframe tbody tr th {\n",
       "        vertical-align: top;\n",
       "    }\n",
       "</style>\n",
       "<table border=\"1\" class=\"dataframe\">\n",
       "  <thead>\n",
       "    <tr style=\"text-align: right;\">\n",
       "      <th></th>\n",
       "      <th>Average Minutes Walking per Day</th>\n",
       "    </tr>\n",
       "  </thead>\n",
       "  <tbody>\n",
       "    <tr>\n",
       "      <th>Region</th>\n",
       "      <td>17.81</td>\n",
       "    </tr>\n",
       "    <tr>\n",
       "      <th>People of Color</th>\n",
       "      <td>31.89</td>\n",
       "    </tr>\n",
       "    <tr>\n",
       "      <th>People of Low Income</th>\n",
       "      <td>30.43</td>\n",
       "    </tr>\n",
       "  </tbody>\n",
       "</table>\n",
       "</div>"
      ],
      "text/plain": [
       "                      Average Minutes Walking per Day\n",
       "Region                                          17.81\n",
       "People of Color                                 31.89\n",
       "People of Low Income                            30.43"
      ]
     },
     "execution_count": 29,
     "metadata": {},
     "output_type": "execute_result"
    }
   ],
   "source": [
    "df = pd.DataFrame([reg_walk_time,minority_walk_time,low_inc_walk_time])\n",
    "df.columns = ['Average Minutes Walking per Day']\n",
    "df.index = ['Region','People of Color','People of Low Income']\n",
    "df"
   ]
  },
  {
   "cell_type": "markdown",
   "metadata": {},
   "source": [
    "# Annual Out-of-Pocket Costs"
   ]
  },
  {
   "cell_type": "code",
   "execution_count": 30,
   "metadata": {
    "collapsed": true
   },
   "outputs": [],
   "source": [
    "annual_factor = 300\n",
    "reg_costs = trip_hh[['hhno','travcost']].groupby('hhno').sum()['travcost'].mean()*annual_factor\n",
    "low_inc_costs = trip_hh[trip_hh['Low Income'] == 1][['hhno','travcost']].groupby('hhno').sum()['travcost'].mean()*annual_factor\n",
    "minority_costs = trip_hh[trip_hh['Minority'] == 1][['hhno','travcost']].groupby('hhno').sum()['travcost'].mean()*annual_factor"
   ]
  },
  {
   "cell_type": "code",
   "execution_count": 31,
   "metadata": {},
   "outputs": [
    {
     "data": {
      "text/html": [
       "<div>\n",
       "<style>\n",
       "    .dataframe thead tr:only-child th {\n",
       "        text-align: right;\n",
       "    }\n",
       "\n",
       "    .dataframe thead th {\n",
       "        text-align: left;\n",
       "    }\n",
       "\n",
       "    .dataframe tbody tr th {\n",
       "        vertical-align: top;\n",
       "    }\n",
       "</style>\n",
       "<table border=\"1\" class=\"dataframe\">\n",
       "  <thead>\n",
       "    <tr style=\"text-align: right;\">\n",
       "      <th></th>\n",
       "      <th>Annual Out-of-Pocket Costs</th>\n",
       "    </tr>\n",
       "  </thead>\n",
       "  <tbody>\n",
       "    <tr>\n",
       "      <th>Region</th>\n",
       "      <td>4294.39</td>\n",
       "    </tr>\n",
       "    <tr>\n",
       "      <th>People of Color</th>\n",
       "      <td>3838.55</td>\n",
       "    </tr>\n",
       "    <tr>\n",
       "      <th>People of Low Income</th>\n",
       "      <td>3662.56</td>\n",
       "    </tr>\n",
       "  </tbody>\n",
       "</table>\n",
       "</div>"
      ],
      "text/plain": [
       "                      Annual Out-of-Pocket Costs\n",
       "Region                                   4294.39\n",
       "People of Color                          3838.55\n",
       "People of Low Income                     3662.56"
      ]
     },
     "execution_count": 31,
     "metadata": {},
     "output_type": "execute_result"
    }
   ],
   "source": [
    "df = pd.DataFrame([reg_costs,minority_costs,low_inc_costs])\n",
    "df.columns = ['Annual Out-of-Pocket Costs']\n",
    "df.index = ['Region','People of Color','People of Low Income']\n",
    "df"
   ]
  },
  {
   "cell_type": "markdown",
   "metadata": {},
   "source": [
    "### Daily VMT per capita"
   ]
  },
  {
   "cell_type": "code",
   "execution_count": 32,
   "metadata": {
    "collapsed": true
   },
   "outputs": [],
   "source": [
    "driver_trips = trip[(trip['dorp'] == 1) & (trip['mode'].isin(['SOV','HOV2','HOV3+']))]"
   ]
  },
  {
   "cell_type": "code",
   "execution_count": 33,
   "metadata": {
    "collapsed": true
   },
   "outputs": [],
   "source": [
    "person_hh = pd.merge(person,hh[['hhno','hhtaz']],on='hhno',how='left')\n",
    "person_hh = pd.merge(person_hh, rgc_taz, left_on='hhtaz', right_on='taz', how='left')\n",
    "person_hh = pd.merge(person_hh, special_taz, left_on='hhtaz', right_on='TAZ', how='left')\n",
    "df = pd.merge(driver_trips,person_hh,on=['hhno','pno'], how='left')"
   ]
  },
  {
   "cell_type": "code",
   "execution_count": 34,
   "metadata": {
    "collapsed": true
   },
   "outputs": [],
   "source": [
    "reg_vmt = df['travdist'].sum()/person_hh['psexpfac'].sum()"
   ]
  },
  {
   "cell_type": "code",
   "execution_count": 35,
   "metadata": {
    "collapsed": true
   },
   "outputs": [],
   "source": [
    "vmt = pd.DataFrame(df[['Minority','travdist']].groupby('Minority').sum()['travdist'])\n",
    "# Population totals\n",
    "pop = person_hh[['Minority','psexpfac']].groupby(['Minority']).sum()\n",
    "minority_vmt = pd.DataFrame(vmt['travdist']/pop['psexpfac']).loc[1].values[0]"
   ]
  },
  {
   "cell_type": "code",
   "execution_count": 36,
   "metadata": {
    "collapsed": true
   },
   "outputs": [],
   "source": [
    "vmt = pd.DataFrame(df[['Low Income','travdist']].groupby('Low Income').sum()['travdist'])\n",
    "# Population totals\n",
    "pop = person_hh[['Low Income','psexpfac']].groupby(['Low Income']).sum()\n",
    "lowinc_vmt = pd.DataFrame(vmt['travdist']/pop['psexpfac']).loc[1].values[0]"
   ]
  },
  {
   "cell_type": "code",
   "execution_count": 37,
   "metadata": {},
   "outputs": [
    {
     "data": {
      "text/html": [
       "<div>\n",
       "<style>\n",
       "    .dataframe thead tr:only-child th {\n",
       "        text-align: right;\n",
       "    }\n",
       "\n",
       "    .dataframe thead th {\n",
       "        text-align: left;\n",
       "    }\n",
       "\n",
       "    .dataframe tbody tr th {\n",
       "        vertical-align: top;\n",
       "    }\n",
       "</style>\n",
       "<table border=\"1\" class=\"dataframe\">\n",
       "  <thead>\n",
       "    <tr style=\"text-align: right;\">\n",
       "      <th></th>\n",
       "      <th>Average VMT per Capita</th>\n",
       "    </tr>\n",
       "  </thead>\n",
       "  <tbody>\n",
       "    <tr>\n",
       "      <th>Region</th>\n",
       "      <td>14.53</td>\n",
       "    </tr>\n",
       "    <tr>\n",
       "      <th>People of Color</th>\n",
       "      <td>12.80</td>\n",
       "    </tr>\n",
       "    <tr>\n",
       "      <th>People of Lower Income</th>\n",
       "      <td>12.45</td>\n",
       "    </tr>\n",
       "  </tbody>\n",
       "</table>\n",
       "</div>"
      ],
      "text/plain": [
       "                        Average VMT per Capita\n",
       "Region                                   14.53\n",
       "People of Color                          12.80\n",
       "People of Lower Income                   12.45"
      ]
     },
     "execution_count": 37,
     "metadata": {},
     "output_type": "execute_result"
    }
   ],
   "source": [
    "_df = pd.DataFrame([reg_vmt,minority_vmt,lowinc_vmt])\n",
    "_df.columns = ['Average VMT per Capita']\n",
    "_df.index = ['Region','People of Color','People of Lower Income']\n",
    "_df"
   ]
  },
  {
   "cell_type": "code",
   "execution_count": null,
   "metadata": {
    "collapsed": true
   },
   "outputs": [],
   "source": []
  },
  {
   "cell_type": "code",
   "execution_count": null,
   "metadata": {
    "collapsed": true
   },
   "outputs": [],
   "source": []
  }
 ],
 "metadata": {
  "anaconda-cloud": {},
  "kernelspec": {
   "display_name": "Python 2",
   "language": "python",
   "name": "python2"
  },
  "language_info": {
   "codemirror_mode": {
    "name": "ipython",
    "version": 2
   },
   "file_extension": ".py",
   "mimetype": "text/x-python",
   "name": "python",
   "nbconvert_exporter": "python",
   "pygments_lexer": "ipython2",
   "version": "2.7.13"
  }
 },
 "nbformat": 4,
 "nbformat_minor": 2
}
