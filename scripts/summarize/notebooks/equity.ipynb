{
 "cells": [
  {
   "cell_type": "code",
   "execution_count": 141,
   "metadata": {},
   "outputs": [
    {
     "data": {
      "text/html": [
       "<script>\n",
       "code_show=true; \n",
       "function code_toggle() {\n",
       " if (code_show){\n",
       " $('div.input').hide();\n",
       " } else {\n",
       " $('div.input').show();\n",
       " }\n",
       " code_show = !code_show\n",
       "} \n",
       "$( document ).ready(code_toggle);\n",
       "</script>\n",
       "<form action=\"javascript:code_toggle()\"><input type=\"submit\" value=\"Click here to toggle on/off the raw code.\"></form>"
      ],
      "text/plain": [
       "<IPython.core.display.HTML object>"
      ]
     },
     "execution_count": 141,
     "metadata": {},
     "output_type": "execute_result"
    }
   ],
   "source": [
    "import os\n",
    "import pandas as pd\n",
    "import h5py\n",
    "\n",
    "%matplotlib inline\n",
    "\n",
    "from IPython.display import display, HTML\n",
    "\n",
    "HTML('''<script>\n",
    "code_show=true; \n",
    "function code_toggle() {\n",
    " if (code_show){\n",
    " $('div.input').hide();\n",
    " } else {\n",
    " $('div.input').show();\n",
    " }\n",
    " code_show = !code_show\n",
    "} \n",
    "$( document ).ready(code_toggle);\n",
    "</script>\n",
    "<form action=\"javascript:code_toggle()\"><input type=\"submit\" value=\"Click here to toggle on/off the raw code.\"></form>''')"
   ]
  },
  {
   "cell_type": "code",
   "execution_count": 142,
   "metadata": {
    "collapsed": true
   },
   "outputs": [],
   "source": [
    "def apply_labels(df,table_type):\n",
    "    '''\n",
    "    Replace values with human readable lablels.\n",
    "    '''\n",
    "    df_label = labels[labels['table'] == table_type]\n",
    "    for field in df_label['field'].unique():\n",
    "        newdf = df_label[df_label['field'] == field]\n",
    "        local_series = pd.Series(newdf['text'].values, index=newdf['value'])\n",
    "        df[field] = df[field].map(local_series)\n",
    "    \n",
    "    return df"
   ]
  },
  {
   "cell_type": "code",
   "execution_count": 143,
   "metadata": {
    "collapsed": true
   },
   "outputs": [],
   "source": [
    "# Load data from daysim_outputs.h5, apply labels\n",
    "daysim = h5py.File(r'../../../outputs/daysim/daysim_outputs.h5', 'r')\n",
    "\n",
    "trip = pd.DataFrame()\n",
    "for col in daysim['Trip'].keys():\n",
    "    trip[col] = daysim['Trip'][col][:]\n",
    "    \n",
    "person = pd.DataFrame()\n",
    "for col in daysim['Person'].keys():\n",
    "    person[col] = daysim['Person'][col][:]\n",
    "    \n",
    "hh = pd.DataFrame()\n",
    "for col in daysim['Household'].keys():\n",
    "    hh[col] = daysim['Household'][col][:]\n",
    "    \n",
    "# Add labels\n",
    "labels = pd.read_csv(r'../../../scripts/summarize/inputs/calibration/variable_labels.csv')\n",
    "\n",
    "trip = apply_labels(trip,'Trip')\n",
    "person = apply_labels(person,'Person')\n",
    "hh = apply_labels(hh,'Household')"
   ]
  },
  {
   "cell_type": "code",
   "execution_count": 144,
   "metadata": {
    "collapsed": true
   },
   "outputs": [],
   "source": [
    "\n",
    "special_taz = pd.read_csv(r'../../../scripts/summarize/inputs/special_needs_taz.csv')\n",
    "rgc_taz = pd.read_csv(r'../../../scripts/summarize/inputs/rgc_taz.csv')"
   ]
  },
  {
   "cell_type": "code",
   "execution_count": 145,
   "metadata": {
    "collapsed": true
   },
   "outputs": [],
   "source": [
    "# Join RGC, low income, and minority data, based on home location\n",
    "\n",
    "trip_hh = pd.merge(trip,hh,on='hhno',how='left')\n",
    "\n",
    "trip_hh = pd.merge(trip_hh, special_taz, left_on='hhtaz', right_on='TAZ', how='left')\n",
    "trip_hh = pd.merge(trip_hh, rgc_taz, left_on='hhtaz', right_on='taz', how='left')"
   ]
  },
  {
   "cell_type": "code",
   "execution_count": 146,
   "metadata": {
    "collapsed": true
   },
   "outputs": [],
   "source": [
    "trip_hh = trip_hh[trip_hh['mode']!='School Bus']"
   ]
  },
  {
   "cell_type": "markdown",
   "metadata": {},
   "source": [
    "## Mode Share\n",
    "Based on home location"
   ]
  },
  {
   "cell_type": "code",
   "execution_count": 147,
   "metadata": {
    "collapsed": true
   },
   "outputs": [],
   "source": [
    "def mode_share(trip_hh):\n",
    "    \"\"\"\n",
    "    Produce trip mode share for low income, minority, and regional populations\n",
    "    \"\"\"\n",
    "    # Regional total\n",
    "    df_reg = pd.DataFrame(\n",
    "        trip_hh.groupby('mode').sum()['trexpfac']/trip_hh['trexpfac'].sum())\n",
    "    df_reg.columns = ['Region']\n",
    "    df_reg = df_reg.reset_index()\n",
    "    \n",
    "    # Low Income\n",
    "    df = trip_hh[['trexpfac','Low Income','mode']].groupby(['Low Income','mode']).sum().reset_index()\n",
    "    tot_trips = pd.DataFrame(df.groupby('Low Income').sum()['trexpfac']).reset_index()\n",
    "    df = pd.merge(df,tot_trips,on='Low Income', suffixes=['_mode','_total'])\n",
    "    df['mode_share'] = (df['trexpfac_mode']/df['trexpfac_total'])\n",
    "\n",
    "    df_inc = df.pivot(index='Low Income', columns='mode', values='mode_share')\n",
    "    df_inc.index = ['Other','People of Lower Income']\n",
    "    \n",
    "    # Minority\n",
    "    df = trip_hh[['trexpfac','Minority','mode']].groupby(['Minority','mode']).sum().reset_index()\n",
    "    tot_trips = pd.DataFrame(df.groupby('Minority').sum()['trexpfac']).reset_index()\n",
    "    df = pd.merge(df,tot_trips,on='Minority', suffixes=['_mode','_total'])\n",
    "    df['mode_share'] = (df['trexpfac_mode']/df['trexpfac_total'])\n",
    "\n",
    "    df_race = df.pivot(index='Minority', columns='mode', values='mode_share')\n",
    "    df_race.index = ['Other','People of Color']\n",
    "    \n",
    "    # Merge all dataframes\n",
    "    df = pd.merge(pd.DataFrame(df_race.loc['People of Color']).reset_index(),\n",
    "         pd.DataFrame(df_inc.loc['People of Lower Income']).reset_index())\n",
    "    df = pd.merge(df_reg, df)\n",
    "    df.index = df['mode']\n",
    "    df = df.drop('mode', axis=1)\n",
    "    return df"
   ]
  },
  {
   "cell_type": "markdown",
   "metadata": {},
   "source": [
    "### All Trips"
   ]
  },
  {
   "cell_type": "code",
   "execution_count": 148,
   "metadata": {},
   "outputs": [
    {
     "data": {
      "text/html": [
       "<div>\n",
       "<style>\n",
       "    .dataframe thead tr:only-child th {\n",
       "        text-align: right;\n",
       "    }\n",
       "\n",
       "    .dataframe thead th {\n",
       "        text-align: left;\n",
       "    }\n",
       "\n",
       "    .dataframe tbody tr th {\n",
       "        vertical-align: top;\n",
       "    }\n",
       "</style>\n",
       "<table border=\"1\" class=\"dataframe\">\n",
       "  <thead>\n",
       "    <tr style=\"text-align: right;\">\n",
       "      <th></th>\n",
       "      <th>Region</th>\n",
       "      <th>People of Color</th>\n",
       "      <th>People of Lower Income</th>\n",
       "    </tr>\n",
       "    <tr>\n",
       "      <th>mode</th>\n",
       "      <th></th>\n",
       "      <th></th>\n",
       "      <th></th>\n",
       "    </tr>\n",
       "  </thead>\n",
       "  <tbody>\n",
       "    <tr>\n",
       "      <th>Bike</th>\n",
       "      <td>0.02</td>\n",
       "      <td>0.02</td>\n",
       "      <td>0.02</td>\n",
       "    </tr>\n",
       "    <tr>\n",
       "      <th>HOV2</th>\n",
       "      <td>0.23</td>\n",
       "      <td>0.23</td>\n",
       "      <td>0.23</td>\n",
       "    </tr>\n",
       "    <tr>\n",
       "      <th>HOV3+</th>\n",
       "      <td>0.16</td>\n",
       "      <td>0.17</td>\n",
       "      <td>0.17</td>\n",
       "    </tr>\n",
       "    <tr>\n",
       "      <th>SOV</th>\n",
       "      <td>0.40</td>\n",
       "      <td>0.38</td>\n",
       "      <td>0.38</td>\n",
       "    </tr>\n",
       "    <tr>\n",
       "      <th>Transit</th>\n",
       "      <td>0.03</td>\n",
       "      <td>0.04</td>\n",
       "      <td>0.03</td>\n",
       "    </tr>\n",
       "    <tr>\n",
       "      <th>Walk</th>\n",
       "      <td>0.16</td>\n",
       "      <td>0.16</td>\n",
       "      <td>0.17</td>\n",
       "    </tr>\n",
       "  </tbody>\n",
       "</table>\n",
       "</div>"
      ],
      "text/plain": [
       "         Region  People of Color  People of Lower Income\n",
       "mode                                                    \n",
       "Bike       0.02             0.02                    0.02\n",
       "HOV2       0.23             0.23                    0.23\n",
       "HOV3+      0.16             0.17                    0.17\n",
       "SOV        0.40             0.38                    0.38\n",
       "Transit    0.03             0.04                    0.03\n",
       "Walk       0.16             0.16                    0.17"
      ]
     },
     "execution_count": 148,
     "metadata": {},
     "output_type": "execute_result"
    }
   ],
   "source": [
    "# pd.options.display.float_format = '{:.2f}'.format\n",
    "df = mode_share(trip_hh)\n",
    "df"
   ]
  },
  {
   "cell_type": "markdown",
   "metadata": {},
   "source": [
    "### Commute Trips"
   ]
  },
  {
   "cell_type": "code",
   "execution_count": 149,
   "metadata": {},
   "outputs": [
    {
     "data": {
      "text/html": [
       "<div>\n",
       "<style>\n",
       "    .dataframe thead tr:only-child th {\n",
       "        text-align: right;\n",
       "    }\n",
       "\n",
       "    .dataframe thead th {\n",
       "        text-align: left;\n",
       "    }\n",
       "\n",
       "    .dataframe tbody tr th {\n",
       "        vertical-align: top;\n",
       "    }\n",
       "</style>\n",
       "<table border=\"1\" class=\"dataframe\">\n",
       "  <thead>\n",
       "    <tr style=\"text-align: right;\">\n",
       "      <th></th>\n",
       "      <th>Region</th>\n",
       "      <th>People of Color</th>\n",
       "      <th>People of Lower Income</th>\n",
       "    </tr>\n",
       "    <tr>\n",
       "      <th>mode</th>\n",
       "      <th></th>\n",
       "      <th></th>\n",
       "      <th></th>\n",
       "    </tr>\n",
       "  </thead>\n",
       "  <tbody>\n",
       "    <tr>\n",
       "      <th>Bike</th>\n",
       "      <td>0.02</td>\n",
       "      <td>0.02</td>\n",
       "      <td>0.03</td>\n",
       "    </tr>\n",
       "    <tr>\n",
       "      <th>HOV2</th>\n",
       "      <td>0.10</td>\n",
       "      <td>0.10</td>\n",
       "      <td>0.10</td>\n",
       "    </tr>\n",
       "    <tr>\n",
       "      <th>HOV3+</th>\n",
       "      <td>0.04</td>\n",
       "      <td>0.05</td>\n",
       "      <td>0.04</td>\n",
       "    </tr>\n",
       "    <tr>\n",
       "      <th>SOV</th>\n",
       "      <td>0.66</td>\n",
       "      <td>0.64</td>\n",
       "      <td>0.64</td>\n",
       "    </tr>\n",
       "    <tr>\n",
       "      <th>Transit</th>\n",
       "      <td>0.06</td>\n",
       "      <td>0.07</td>\n",
       "      <td>0.06</td>\n",
       "    </tr>\n",
       "    <tr>\n",
       "      <th>Walk</th>\n",
       "      <td>0.11</td>\n",
       "      <td>0.12</td>\n",
       "      <td>0.13</td>\n",
       "    </tr>\n",
       "  </tbody>\n",
       "</table>\n",
       "</div>"
      ],
      "text/plain": [
       "         Region  People of Color  People of Lower Income\n",
       "mode                                                    \n",
       "Bike       0.02             0.02                    0.03\n",
       "HOV2       0.10             0.10                    0.10\n",
       "HOV3+      0.04             0.05                    0.04\n",
       "SOV        0.66             0.64                    0.64\n",
       "Transit    0.06             0.07                    0.06\n",
       "Walk       0.11             0.12                    0.13"
      ]
     },
     "execution_count": 149,
     "metadata": {},
     "output_type": "execute_result"
    }
   ],
   "source": [
    "commute_trips = trip_hh[trip_hh['dpurp'] == 'Work']\n",
    "commute_trips = commute_trips[commute_trips['mode'] != 'School Bus']\n",
    "df = mode_share(commute_trips)\n",
    "df"
   ]
  },
  {
   "cell_type": "markdown",
   "metadata": {},
   "source": [
    "### Access to Frequent Transit"
   ]
  },
  {
   "cell_type": "code",
   "execution_count": 150,
   "metadata": {
    "collapsed": true
   },
   "outputs": [],
   "source": [
    "df = pd.read_csv(r'../../../outputs/transit/freq_transit_access.csv')\n",
    "# Join parcel data (transit access) to household recods\n",
    "df = pd.merge(hh[['hhparcel','hhsize','hhtaz']],df[['PARCELID','dist_frequent']],how='left',left_on='hhparcel',right_on='PARCELID')\n",
    "\n",
    "# join to geography fiels\n",
    "df = pd.merge(df, special_taz, left_on='hhtaz', right_on='TAZ', how='left')\n",
    "df = pd.merge(df, rgc_taz, left_on='hhtaz', right_on='taz', how='left')"
   ]
  },
  {
   "cell_type": "code",
   "execution_count": 151,
   "metadata": {
    "collapsed": true
   },
   "outputs": [],
   "source": [
    "# Only include househodls on parcels within 1/2 mile of frequent transit\n",
    "max_dist = 0.5\n",
    "df_freq = df[df['dist_frequent'] <= max_dist]"
   ]
  },
  {
   "cell_type": "code",
   "execution_count": 152,
   "metadata": {
    "collapsed": true
   },
   "outputs": [],
   "source": [
    "# Calculate percent of people within that range"
   ]
  },
  {
   "cell_type": "code",
   "execution_count": 153,
   "metadata": {
    "collapsed": true
   },
   "outputs": [],
   "source": [
    "df_lowinc = pd.DataFrame(df_freq.groupby('Low Income').sum()['hhsize']/df.groupby('Low Income').sum()['hhsize'])"
   ]
  },
  {
   "cell_type": "code",
   "execution_count": 154,
   "metadata": {
    "collapsed": true
   },
   "outputs": [],
   "source": [
    "df_minority = pd.DataFrame(df_freq.groupby('Minority').sum()['hhsize']/df.groupby('Minority').sum()['hhsize'])"
   ]
  },
  {
   "cell_type": "code",
   "execution_count": 155,
   "metadata": {
    "collapsed": true
   },
   "outputs": [],
   "source": [
    "reg_share = df_freq.sum()['hhsize']/df.sum()['hhsize']"
   ]
  },
  {
   "cell_type": "code",
   "execution_count": 156,
   "metadata": {
    "collapsed": true
   },
   "outputs": [],
   "source": [
    "pd.options.display.float_format = '{:.2f}'.format"
   ]
  },
  {
   "cell_type": "code",
   "execution_count": 157,
   "metadata": {},
   "outputs": [
    {
     "data": {
      "text/html": [
       "<div>\n",
       "<style>\n",
       "    .dataframe thead tr:only-child th {\n",
       "        text-align: right;\n",
       "    }\n",
       "\n",
       "    .dataframe thead th {\n",
       "        text-align: left;\n",
       "    }\n",
       "\n",
       "    .dataframe tbody tr th {\n",
       "        vertical-align: top;\n",
       "    }\n",
       "</style>\n",
       "<table border=\"1\" class=\"dataframe\">\n",
       "  <thead>\n",
       "    <tr style=\"text-align: right;\">\n",
       "      <th></th>\n",
       "      <th>Percent with Access to Frequent Transit Service</th>\n",
       "    </tr>\n",
       "  </thead>\n",
       "  <tbody>\n",
       "    <tr>\n",
       "      <th>Region</th>\n",
       "      <td>30.74</td>\n",
       "    </tr>\n",
       "    <tr>\n",
       "      <th>People of Color</th>\n",
       "      <td>40.38</td>\n",
       "    </tr>\n",
       "    <tr>\n",
       "      <th>People of Low Income</th>\n",
       "      <td>36.37</td>\n",
       "    </tr>\n",
       "  </tbody>\n",
       "</table>\n",
       "</div>"
      ],
      "text/plain": [
       "                      Percent with Access to Frequent Transit Service\n",
       "Region                                                          30.74\n",
       "People of Color                                                 40.38\n",
       "People of Low Income                                            36.37"
      ]
     },
     "execution_count": 157,
     "metadata": {},
     "output_type": "execute_result"
    }
   ],
   "source": [
    "_df = pd.DataFrame([reg_share,df_minority.loc[1].values[0],df_lowinc.loc[1].values[0]])\n",
    "_df.index = ['Region','People of Color','People of Low Income']\n",
    "_df.columns = ['Percent with Access to Frequent Transit Service']\n",
    "_df['Percent with Access to Frequent Transit Service'] = _df['Percent with Access to Frequent Transit Service']*100\n",
    "_df"
   ]
  },
  {
   "cell_type": "markdown",
   "metadata": {},
   "source": [
    "## Percent of People Walking and Biking for Transport"
   ]
  },
  {
   "cell_type": "code",
   "execution_count": 158,
   "metadata": {
    "collapsed": true
   },
   "outputs": [],
   "source": [
    "trip_person = pd.merge(trip,person,on=['hhno','pno'], how='left')\n",
    "person_hh = pd.merge(person,hh[['hhno','hhtaz']],on='hhno',how='left')\n",
    "# bike_walk_trips = trip_person[trip_person['mode'].isin(['Bike','Walk'])]\n",
    "# Walk & bike modes, plus transit trips with walk access\n",
    "bike_walk_trips = trip_person[trip_person['mode'].isin(['Bike','Walk']) | ((trip_person['mode'] == 'Transit') & (trip_person['dorp'] > 0))]\n",
    "\n",
    "df = bike_walk_trips.groupby(['hhno','pno']).count()\n",
    "df = df.reset_index()\n",
    "df = df[['hhno','pno']]\n",
    "df['bike_walk'] = True\n",
    "\n",
    "df = pd.merge(person_hh,df,on=['hhno','pno'], how='left')\n",
    "df['bike_walk'] = df['bike_walk'].fillna(False)"
   ]
  },
  {
   "cell_type": "code",
   "execution_count": 159,
   "metadata": {
    "collapsed": true
   },
   "outputs": [],
   "source": [
    "pd.options.display.float_format = '{:,.1%}'.format\n",
    "reg_active = pd.DataFrame(df.groupby('bike_walk').sum()['psexpfac']/df['psexpfac'].sum()).loc[True]['psexpfac']"
   ]
  },
  {
   "cell_type": "code",
   "execution_count": 160,
   "metadata": {
    "collapsed": true
   },
   "outputs": [],
   "source": [
    "df = pd.merge(df, special_taz, left_on='hhtaz', right_on='TAZ', how='left')\n",
    "df = pd.merge(df, rgc_taz, left_on='hhtaz', right_on='taz', how='left')"
   ]
  },
  {
   "cell_type": "code",
   "execution_count": 161,
   "metadata": {
    "collapsed": true
   },
   "outputs": [],
   "source": [
    "_df = pd.DataFrame(df[df['Low Income'] == 1].groupby(['bike_walk']).count()).reset_index()\n",
    "low_inc_active = _df[_df['bike_walk'] == True]['psexpfac'].tolist()[0]/_df.sum()['psexpfac']"
   ]
  },
  {
   "cell_type": "code",
   "execution_count": 162,
   "metadata": {
    "collapsed": true
   },
   "outputs": [],
   "source": [
    "_df = pd.DataFrame(df[df['Minority'] == 1].groupby(['bike_walk']).count()).reset_index()\n",
    "minority_active = _df[_df['bike_walk'] == True]['psexpfac'].tolist()[0]/_df.sum()['psexpfac']"
   ]
  },
  {
   "cell_type": "code",
   "execution_count": 163,
   "metadata": {},
   "outputs": [
    {
     "data": {
      "text/html": [
       "<div>\n",
       "<style>\n",
       "    .dataframe thead tr:only-child th {\n",
       "        text-align: right;\n",
       "    }\n",
       "\n",
       "    .dataframe thead th {\n",
       "        text-align: left;\n",
       "    }\n",
       "\n",
       "    .dataframe tbody tr th {\n",
       "        vertical-align: top;\n",
       "    }\n",
       "</style>\n",
       "<table border=\"1\" class=\"dataframe\">\n",
       "  <thead>\n",
       "    <tr style=\"text-align: right;\">\n",
       "      <th></th>\n",
       "      <th>% Walks or Bikes for Transportation</th>\n",
       "    </tr>\n",
       "  </thead>\n",
       "  <tbody>\n",
       "    <tr>\n",
       "      <th>Region</th>\n",
       "      <td>30.8%</td>\n",
       "    </tr>\n",
       "    <tr>\n",
       "      <th>People of Color</th>\n",
       "      <td>32.2%</td>\n",
       "    </tr>\n",
       "    <tr>\n",
       "      <th>People of Low Income</th>\n",
       "      <td>32.9%</td>\n",
       "    </tr>\n",
       "  </tbody>\n",
       "</table>\n",
       "</div>"
      ],
      "text/plain": [
       "                      % Walks or Bikes for Transportation\n",
       "Region                                              30.8%\n",
       "People of Color                                     32.2%\n",
       "People of Low Income                                32.9%"
      ]
     },
     "execution_count": 163,
     "metadata": {},
     "output_type": "execute_result"
    }
   ],
   "source": [
    "_df = pd.DataFrame([reg_active,minority_active,low_inc_active])\n",
    "_df.index = ['Region','People of Color','People of Low Income']\n",
    "_df.columns = ['% Walks or Bikes for Transportation']\n",
    "_df"
   ]
  },
  {
   "cell_type": "markdown",
   "metadata": {},
   "source": [
    "### Average Time Spent Walking"
   ]
  },
  {
   "cell_type": "code",
   "execution_count": 164,
   "metadata": {
    "collapsed": true
   },
   "outputs": [],
   "source": [
    "pd.options.display.float_format = \"{0:.2f}\".format\n",
    "# walk_trips = trip_person[trip_person['mode'] == 'Walk']\n",
    "# daily_walk_times = walk_trips.groupby(['hhno','pno']).sum()['travtime']"
   ]
  },
  {
   "cell_type": "code",
   "execution_count": 165,
   "metadata": {
    "collapsed": true
   },
   "outputs": [],
   "source": [
    "daily_tot_time = pd.DataFrame(trip_person.groupby(['pno','hhno','mode']).sum()['travtime'])\n",
    "daily_tot_time = daily_tot_time.reset_index()\n",
    "daily_walk_time = daily_tot_time[daily_tot_time['mode'] == 'Walk']"
   ]
  },
  {
   "cell_type": "code",
   "execution_count": 166,
   "metadata": {
    "collapsed": true
   },
   "outputs": [],
   "source": [
    "# Total walk time across region divided by total number of people\n",
    "reg_walk_time = daily_walk_time['travtime'].sum()/person['psexpfac'].sum()"
   ]
  },
  {
   "cell_type": "code",
   "execution_count": 167,
   "metadata": {
    "collapsed": true
   },
   "outputs": [],
   "source": [
    "# Total for low inc and for rgc\n",
    "df = pd.merge(daily_tot_time,hh[['hhno','hhtaz']],on='hhno', how='left')\n",
    "df = pd.merge(df,rgc_taz,left_on='hhtaz',right_on='taz',how='left')\n",
    "df = pd.merge(df,special_taz,left_on='hhtaz',right_on='TAZ',how='left')"
   ]
  },
  {
   "cell_type": "code",
   "execution_count": 168,
   "metadata": {
    "collapsed": true
   },
   "outputs": [],
   "source": [
    "low_inc_walk_time = df[df['Low Income'] == 1]['travtime'].sum()/person['psexpfac'].sum()\n",
    "minority_walk_time = df[df['Minority'] == 1]['travtime'].sum()/person['psexpfac'].sum()"
   ]
  },
  {
   "cell_type": "code",
   "execution_count": 169,
   "metadata": {},
   "outputs": [
    {
     "data": {
      "text/html": [
       "<div>\n",
       "<style>\n",
       "    .dataframe thead tr:only-child th {\n",
       "        text-align: right;\n",
       "    }\n",
       "\n",
       "    .dataframe thead th {\n",
       "        text-align: left;\n",
       "    }\n",
       "\n",
       "    .dataframe tbody tr th {\n",
       "        vertical-align: top;\n",
       "    }\n",
       "</style>\n",
       "<table border=\"1\" class=\"dataframe\">\n",
       "  <thead>\n",
       "    <tr style=\"text-align: right;\">\n",
       "      <th></th>\n",
       "      <th>Average Minutes Walking per Day</th>\n",
       "    </tr>\n",
       "  </thead>\n",
       "  <tbody>\n",
       "    <tr>\n",
       "      <th>Region</th>\n",
       "      <td>15.34</td>\n",
       "    </tr>\n",
       "    <tr>\n",
       "      <th>People of Color</th>\n",
       "      <td>30.82</td>\n",
       "    </tr>\n",
       "    <tr>\n",
       "      <th>People of Low Income</th>\n",
       "      <td>28.37</td>\n",
       "    </tr>\n",
       "  </tbody>\n",
       "</table>\n",
       "</div>"
      ],
      "text/plain": [
       "                      Average Minutes Walking per Day\n",
       "Region                                          15.34\n",
       "People of Color                                 30.82\n",
       "People of Low Income                            28.37"
      ]
     },
     "execution_count": 169,
     "metadata": {},
     "output_type": "execute_result"
    }
   ],
   "source": [
    "df = pd.DataFrame([reg_walk_time,minority_walk_time,low_inc_walk_time])\n",
    "df.columns = ['Average Minutes Walking per Day']\n",
    "df.index = ['Region','People of Color','People of Low Income']\n",
    "df"
   ]
  },
  {
   "cell_type": "markdown",
   "metadata": {},
   "source": [
    "# Annual Out-of-Pocket Costs"
   ]
  },
  {
   "cell_type": "code",
   "execution_count": 170,
   "metadata": {
    "collapsed": true
   },
   "outputs": [],
   "source": [
    "annual_factor = 300\n",
    "reg_costs = trip_hh[['hhno','travcost']].groupby('hhno').sum()['travcost'].mean()*annual_factor\n",
    "low_inc_costs = trip_hh[trip_hh['Low Income'] == 1][['hhno','travcost']].groupby('hhno').sum()['travcost'].mean()*annual_factor\n",
    "minority_costs = trip_hh[trip_hh['Minority'] == 1][['hhno','travcost']].groupby('hhno').sum()['travcost'].mean()*annual_factor"
   ]
  },
  {
   "cell_type": "code",
   "execution_count": 171,
   "metadata": {},
   "outputs": [
    {
     "data": {
      "text/html": [
       "<div>\n",
       "<style>\n",
       "    .dataframe thead tr:only-child th {\n",
       "        text-align: right;\n",
       "    }\n",
       "\n",
       "    .dataframe thead th {\n",
       "        text-align: left;\n",
       "    }\n",
       "\n",
       "    .dataframe tbody tr th {\n",
       "        vertical-align: top;\n",
       "    }\n",
       "</style>\n",
       "<table border=\"1\" class=\"dataframe\">\n",
       "  <thead>\n",
       "    <tr style=\"text-align: right;\">\n",
       "      <th></th>\n",
       "      <th>Annual Out-of-Pocket Costs</th>\n",
       "      <th>Median Income</th>\n",
       "      <th>% of Income</th>\n",
       "    </tr>\n",
       "  </thead>\n",
       "  <tbody>\n",
       "    <tr>\n",
       "      <th>Region</th>\n",
       "      <td>3392.83</td>\n",
       "      <td>68610.00</td>\n",
       "      <td>4.95</td>\n",
       "    </tr>\n",
       "    <tr>\n",
       "      <th>People of Color</th>\n",
       "      <td>3114.21</td>\n",
       "      <td>59295.00</td>\n",
       "      <td>5.25</td>\n",
       "    </tr>\n",
       "    <tr>\n",
       "      <th>People of Low Income</th>\n",
       "      <td>2972.20</td>\n",
       "      <td>51041.00</td>\n",
       "      <td>5.82</td>\n",
       "    </tr>\n",
       "  </tbody>\n",
       "</table>\n",
       "</div>"
      ],
      "text/plain": [
       "                      Annual Out-of-Pocket Costs  Median Income  % of Income\n",
       "Region                                   3392.83       68610.00         4.95\n",
       "People of Color                          3114.21       59295.00         5.25\n",
       "People of Low Income                     2972.20       51041.00         5.82"
      ]
     },
     "execution_count": 171,
     "metadata": {},
     "output_type": "execute_result"
    }
   ],
   "source": [
    "df = pd.DataFrame([reg_costs,minority_costs,low_inc_costs])\n",
    "df.columns = ['Annual Out-of-Pocket Costs']\n",
    "df.index = ['Region','People of Color','People of Low Income']\n",
    "\n",
    "# Out of pocket costs as percentage of household income\n",
    "hh = pd.merge(hh, special_taz, left_on='hhtaz', right_on='TAZ', how='left')\n",
    "hh = pd.merge(hh, rgc_taz, left_on='hhtaz', right_on='taz', how='left')\n",
    "\n",
    "regional_avg_inc = hh.groupby('hhno').sum()['hhincome'].median()\n",
    "low_inc_avg_inc = hh[hh['Low Income'] == 1].groupby('hhno').sum()['hhincome'].median()\n",
    "minority_avg_inc = hh[hh['Minority'] == 1].groupby('hhno').sum()['hhincome'].median()\n",
    "\n",
    "df_inc = pd.DataFrame([regional_avg_inc,low_inc_avg_inc,minority_avg_inc])\n",
    "df_inc.columns = ['Median Income']\n",
    "df_inc.index = ['Region','People of Low Income','People of Color']\n",
    "\n",
    "df = pd.merge(df,df_inc,left_index=True, right_index=True)\n",
    "df['% of Income'] = (df['Annual Out-of-Pocket Costs']/df['Median Income'])*100\n",
    "df"
   ]
  },
  {
   "cell_type": "code",
   "execution_count": 172,
   "metadata": {},
   "outputs": [
    {
     "data": {
      "text/html": [
       "<div>\n",
       "<style>\n",
       "    .dataframe thead tr:only-child th {\n",
       "        text-align: right;\n",
       "    }\n",
       "\n",
       "    .dataframe thead th {\n",
       "        text-align: left;\n",
       "    }\n",
       "\n",
       "    .dataframe tbody tr th {\n",
       "        vertical-align: top;\n",
       "    }\n",
       "</style>\n",
       "<table border=\"1\" class=\"dataframe\">\n",
       "  <thead>\n",
       "    <tr style=\"text-align: right;\">\n",
       "      <th></th>\n",
       "      <th>Annual Out-of-Pocket Costs</th>\n",
       "      <th>Median Income</th>\n",
       "      <th>% of Income</th>\n",
       "      <th>% Income for $30000 income household</th>\n",
       "      <th>% Income for $20000 income household</th>\n",
       "    </tr>\n",
       "  </thead>\n",
       "  <tbody>\n",
       "    <tr>\n",
       "      <th>Region</th>\n",
       "      <td>3392.83</td>\n",
       "      <td>68610.00</td>\n",
       "      <td>4.95</td>\n",
       "      <td>11.31</td>\n",
       "      <td>16.96</td>\n",
       "    </tr>\n",
       "    <tr>\n",
       "      <th>People of Color</th>\n",
       "      <td>3114.21</td>\n",
       "      <td>59295.00</td>\n",
       "      <td>5.25</td>\n",
       "      <td>10.38</td>\n",
       "      <td>15.57</td>\n",
       "    </tr>\n",
       "    <tr>\n",
       "      <th>People of Low Income</th>\n",
       "      <td>2972.20</td>\n",
       "      <td>51041.00</td>\n",
       "      <td>5.82</td>\n",
       "      <td>9.91</td>\n",
       "      <td>14.86</td>\n",
       "    </tr>\n",
       "  </tbody>\n",
       "</table>\n",
       "</div>"
      ],
      "text/plain": [
       "                      Annual Out-of-Pocket Costs  Median Income  % of Income  \\\n",
       "Region                                   3392.83       68610.00         4.95   \n",
       "People of Color                          3114.21       59295.00         5.25   \n",
       "People of Low Income                     2972.20       51041.00         5.82   \n",
       "\n",
       "                      % Income for $30000 income household  \\\n",
       "Region                                               11.31   \n",
       "People of Color                                      10.38   \n",
       "People of Low Income                                  9.91   \n",
       "\n",
       "                      % Income for $20000 income household  \n",
       "Region                                               16.96  \n",
       "People of Color                                      15.57  \n",
       "People of Low Income                                 14.86  "
      ]
     },
     "execution_count": 172,
     "metadata": {},
     "output_type": "execute_result"
    }
   ],
   "source": [
    "# Percent of income for households making 30,000\n",
    "df['% Income for $30000 income household'] = (df[['Annual Out-of-Pocket Costs']]/30000)*100\n",
    "df['% Income for $20000 income household'] = (df[['Annual Out-of-Pocket Costs']]/20000)*100\n",
    "df"
   ]
  },
  {
   "cell_type": "markdown",
   "metadata": {},
   "source": [
    "### Daily VMT per capita"
   ]
  },
  {
   "cell_type": "code",
   "execution_count": 173,
   "metadata": {
    "collapsed": true
   },
   "outputs": [],
   "source": [
    "driver_trips = trip[(trip['dorp'] == 1) & (trip['mode'].isin(['SOV','HOV2','HOV3+']))]"
   ]
  },
  {
   "cell_type": "code",
   "execution_count": 174,
   "metadata": {
    "collapsed": true
   },
   "outputs": [],
   "source": [
    "person_hh = pd.merge(person,hh[['hhno','hhtaz']],on='hhno',how='left')\n",
    "person_hh = pd.merge(person_hh, rgc_taz, left_on='hhtaz', right_on='taz', how='left')\n",
    "person_hh = pd.merge(person_hh, special_taz, left_on='hhtaz', right_on='TAZ', how='left')\n",
    "df = pd.merge(driver_trips,person_hh,on=['hhno','pno'], how='left')"
   ]
  },
  {
   "cell_type": "code",
   "execution_count": 175,
   "metadata": {
    "collapsed": true
   },
   "outputs": [],
   "source": [
    "reg_vmt = df['travdist'].sum()/person_hh['psexpfac'].sum()"
   ]
  },
  {
   "cell_type": "code",
   "execution_count": 176,
   "metadata": {
    "collapsed": true
   },
   "outputs": [],
   "source": [
    "vmt = pd.DataFrame(df[['Minority','travdist']].groupby('Minority').sum()['travdist'])\n",
    "# Population totals\n",
    "pop = person_hh[['Minority','psexpfac']].groupby(['Minority']).sum()\n",
    "minority_vmt = pd.DataFrame(vmt['travdist']/pop['psexpfac']).loc[1].values[0]"
   ]
  },
  {
   "cell_type": "code",
   "execution_count": 177,
   "metadata": {
    "collapsed": true
   },
   "outputs": [],
   "source": [
    "vmt = pd.DataFrame(df[['Low Income','travdist']].groupby('Low Income').sum()['travdist'])\n",
    "# Population totals\n",
    "pop = person_hh[['Low Income','psexpfac']].groupby(['Low Income']).sum()\n",
    "lowinc_vmt = pd.DataFrame(vmt['travdist']/pop['psexpfac']).loc[1].values[0]"
   ]
  },
  {
   "cell_type": "code",
   "execution_count": null,
   "metadata": {},
   "outputs": [
    {
     "data": {
      "text/html": [
       "<div>\n",
       "<style>\n",
       "    .dataframe thead tr:only-child th {\n",
       "        text-align: right;\n",
       "    }\n",
       "\n",
       "    .dataframe thead th {\n",
       "        text-align: left;\n",
       "    }\n",
       "\n",
       "    .dataframe tbody tr th {\n",
       "        vertical-align: top;\n",
       "    }\n",
       "</style>\n",
       "<table border=\"1\" class=\"dataframe\">\n",
       "  <thead>\n",
       "    <tr style=\"text-align: right;\">\n",
       "      <th></th>\n",
       "      <th>Average VMT per Capita</th>\n",
       "    </tr>\n",
       "  </thead>\n",
       "  <tbody>\n",
       "    <tr>\n",
       "      <th>Region</th>\n",
       "      <td>16.49</td>\n",
       "    </tr>\n",
       "    <tr>\n",
       "      <th>People of Color</th>\n",
       "      <td>14.68</td>\n",
       "    </tr>\n",
       "    <tr>\n",
       "      <th>People of Lower Income</th>\n",
       "      <td>14.38</td>\n",
       "    </tr>\n",
       "  </tbody>\n",
       "</table>\n",
       "</div>"
      ],
      "text/plain": [
       "                        Average VMT per Capita\n",
       "Region                                   16.49\n",
       "People of Color                          14.68\n",
       "People of Lower Income                   14.38"
      ]
     },
     "execution_count": 178,
     "metadata": {},
     "output_type": "execute_result"
    }
   ],
   "source": [
    "_df = pd.DataFrame([reg_vmt,minority_vmt,lowinc_vmt])\n",
    "_df.columns = ['Average VMT per Capita']\n",
    "_df.index = ['Region','People of Color','People of Lower Income']\n",
    "_df"
   ]
  },
  {
   "cell_type": "markdown",
   "metadata": {
    "collapsed": true
   },
   "source": [
    "# Average Auto Delay per Capita"
   ]
  },
  {
   "cell_type": "code",
   "execution_count": null,
   "metadata": {},
   "outputs": [
    {
     "name": "stderr",
     "output_type": "stream",
     "text": [
      "C:\\Anaconda\\lib\\site-packages\\ipykernel_launcher.py:1: UserWarning: Boolean Series key will be reindexed to match DataFrame index.\n",
      "  \"\"\"Entry point for launching an IPython kernel.\n"
     ]
    }
   ],
   "source": [
    "trip_auto = trip_hh[trip_hh['mode'].isin(['SOV','HOV2','HOV3+']) & (trip['dorp'] == 1)]\n",
    "trip_auto['delay'] = trip_auto['travtime'] - trip_auto['sov_ff_time']/100.0"
   ]
  },
  {
   "cell_type": "code",
   "execution_count": null,
   "metadata": {
    "collapsed": true
   },
   "outputs": [],
   "source": [
    "# Regional average\n",
    "reg_delay = (trip_auto['delay'].sum()/person['psexpfac'].sum())*300/60"
   ]
  },
  {
   "cell_type": "code",
   "execution_count": null,
   "metadata": {
    "collapsed": true
   },
   "outputs": [],
   "source": [
    "low_inc_delay = trip_auto[trip_auto['Low Income'] == 1]['delay'].sum()/person_hh[person_hh['Low Income'] == 1][['psexpfac']].sum()\n",
    "low_inc_delay = low_inc_delay.values[0]*300/60"
   ]
  },
  {
   "cell_type": "code",
   "execution_count": null,
   "metadata": {},
   "outputs": [],
   "source": [
    "minority_delay = trip_auto[trip_auto['Minority'] == 1]['delay'].sum()/person_hh[person_hh['Minority'] == 1][['psexpfac']].sum()\n",
    "minority_delay = minority_delay.values[0]*300/60"
   ]
  },
  {
   "cell_type": "code",
   "execution_count": null,
   "metadata": {},
   "outputs": [],
   "source": [
    "df = pd.DataFrame([reg_delay,low_inc_delay,minority_delay])\n",
    "df.columns = ['Average Annual Vehicle Delay (hours)']\n",
    "df.index = ['Region','People of Low Income','People of Color']\n",
    "df"
   ]
  }
 ],
 "metadata": {
  "anaconda-cloud": {},
  "kernelspec": {
   "display_name": "Python 2",
   "language": "python",
   "name": "python2"
  },
  "language_info": {
   "codemirror_mode": {
    "name": "ipython",
    "version": 2
   },
   "file_extension": ".py",
   "mimetype": "text/x-python",
   "name": "python",
   "nbconvert_exporter": "python",
   "pygments_lexer": "ipython2",
   "version": "2.7.13"
  }
 },
 "nbformat": 4,
 "nbformat_minor": 2
}
